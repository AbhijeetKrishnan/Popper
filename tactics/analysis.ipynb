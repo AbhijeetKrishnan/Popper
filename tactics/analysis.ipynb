{
 "cells": [
  {
   "cell_type": "markdown",
   "metadata": {},
   "source": [
    "# Import required libraries"
   ]
  },
  {
   "cell_type": "code",
   "execution_count": 1,
   "metadata": {},
   "outputs": [],
   "source": [
    "import pandas as pd\n",
    "import matplotlib.pyplot as plt"
   ]
  },
  {
   "cell_type": "markdown",
   "metadata": {},
   "source": [
    "# Load data"
   ]
  },
  {
   "cell_type": "code",
   "execution_count": 20,
   "metadata": {},
   "outputs": [],
   "source": [
    "data_filename = 'data/stats/metrics_no_fpred.csv'\n",
    "df = pd.read_csv(data_filename)"
   ]
  },
  {
   "cell_type": "markdown",
   "metadata": {},
   "source": [
    "# Do analysis"
   ]
  },
  {
   "cell_type": "code",
   "execution_count": 21,
   "metadata": {},
   "outputs": [
    {
     "data": {
      "text/html": [
       "<div>\n",
       "<style scoped>\n",
       "    .dataframe tbody tr th:only-of-type {\n",
       "        vertical-align: middle;\n",
       "    }\n",
       "\n",
       "    .dataframe tbody tr th {\n",
       "        vertical-align: top;\n",
       "    }\n",
       "\n",
       "    .dataframe thead th {\n",
       "        text-align: right;\n",
       "    }\n",
       "</style>\n",
       "<table border=\"1\" class=\"dataframe\">\n",
       "  <thead>\n",
       "    <tr style=\"text-align: right;\">\n",
       "      <th></th>\n",
       "      <th>total_positions</th>\n",
       "      <th>total_matches</th>\n",
       "      <th>num_suggestions</th>\n",
       "      <th>divergence</th>\n",
       "      <th>avg</th>\n",
       "    </tr>\n",
       "  </thead>\n",
       "  <tbody>\n",
       "    <tr>\n",
       "      <th>count</th>\n",
       "      <td>173.0</td>\n",
       "      <td>173.000000</td>\n",
       "      <td>173.000000</td>\n",
       "      <td>173.000000</td>\n",
       "      <td>173.000000</td>\n",
       "    </tr>\n",
       "    <tr>\n",
       "      <th>mean</th>\n",
       "      <td>100.0</td>\n",
       "      <td>20.317919</td>\n",
       "      <td>20.317919</td>\n",
       "      <td>1212.734104</td>\n",
       "      <td>1212.734104</td>\n",
       "    </tr>\n",
       "    <tr>\n",
       "      <th>std</th>\n",
       "      <td>0.0</td>\n",
       "      <td>17.458841</td>\n",
       "      <td>17.458841</td>\n",
       "      <td>1284.837959</td>\n",
       "      <td>1284.837959</td>\n",
       "    </tr>\n",
       "    <tr>\n",
       "      <th>min</th>\n",
       "      <td>100.0</td>\n",
       "      <td>4.000000</td>\n",
       "      <td>4.000000</td>\n",
       "      <td>0.000000</td>\n",
       "      <td>0.000000</td>\n",
       "    </tr>\n",
       "    <tr>\n",
       "      <th>25%</th>\n",
       "      <td>100.0</td>\n",
       "      <td>4.000000</td>\n",
       "      <td>4.000000</td>\n",
       "      <td>1.000000</td>\n",
       "      <td>1.000000</td>\n",
       "    </tr>\n",
       "    <tr>\n",
       "      <th>50%</th>\n",
       "      <td>100.0</td>\n",
       "      <td>4.000000</td>\n",
       "      <td>4.000000</td>\n",
       "      <td>193.000000</td>\n",
       "      <td>193.000000</td>\n",
       "    </tr>\n",
       "    <tr>\n",
       "      <th>75%</th>\n",
       "      <td>100.0</td>\n",
       "      <td>36.000000</td>\n",
       "      <td>36.000000</td>\n",
       "      <td>2148.000000</td>\n",
       "      <td>2148.000000</td>\n",
       "    </tr>\n",
       "    <tr>\n",
       "      <th>max</th>\n",
       "      <td>100.0</td>\n",
       "      <td>100.000000</td>\n",
       "      <td>100.000000</td>\n",
       "      <td>4314.000000</td>\n",
       "      <td>4314.000000</td>\n",
       "    </tr>\n",
       "  </tbody>\n",
       "</table>\n",
       "</div>"
      ],
      "text/plain": [
       "       total_positions  total_matches  num_suggestions   divergence  \\\n",
       "count            173.0     173.000000       173.000000   173.000000   \n",
       "mean             100.0      20.317919        20.317919  1212.734104   \n",
       "std                0.0      17.458841        17.458841  1284.837959   \n",
       "min              100.0       4.000000         4.000000     0.000000   \n",
       "25%              100.0       4.000000         4.000000     1.000000   \n",
       "50%              100.0       4.000000         4.000000   193.000000   \n",
       "75%              100.0      36.000000        36.000000  2148.000000   \n",
       "max              100.0     100.000000       100.000000  4314.000000   \n",
       "\n",
       "               avg  \n",
       "count   173.000000  \n",
       "mean   1212.734104  \n",
       "std    1284.837959  \n",
       "min       0.000000  \n",
       "25%       1.000000  \n",
       "50%     193.000000  \n",
       "75%    2148.000000  \n",
       "max    4314.000000  "
      ]
     },
     "execution_count": 21,
     "metadata": {},
     "output_type": "execute_result"
    }
   ],
   "source": [
    "df.describe()"
   ]
  },
  {
   "cell_type": "code",
   "execution_count": 22,
   "metadata": {},
   "outputs": [
    {
     "data": {
      "text/plain": [
       "<matplotlib.lines.Line2D at 0x7eff64d60310>"
      ]
     },
     "execution_count": 22,
     "metadata": {},
     "output_type": "execute_result"
    },
    {
     "data": {
      "image/png": "[encoded data removed]",
      "text/plain": [
       "<Figure size 432x288 with 1 Axes>"
      ]
     },
     "metadata": {
      "needs_background": "light"
     },
     "output_type": "display_data"
    }
   ],
   "source": [
    "df['avg_divergence'] = df['divergence'] / df['total_matches']\n",
    "plt.hist(df['avg_divergence'], bins=10)\n",
    "plt.axvline(df.loc[(df['text'] == \"f(A,B,C):-legal_move(B,C,A)\")]['avg_divergence'].values, linestyle='dashed')"
   ]
  },
  {
   "cell_type": "code",
   "execution_count": 26,
   "metadata": {},
   "outputs": [
    {
     "data": {
      "text/plain": [
       "array([31.12])"
      ]
     },
     "execution_count": 26,
     "metadata": {},
     "output_type": "execute_result"
    }
   ],
   "source": [
    "df.loc[(df['text'] == \"f(A,B,C):-legal_move(B,C,A)\")]['avg_divergence'].values"
   ]
  },
  {
   "cell_type": "code",
   "execution_count": 23,
   "metadata": {},
   "outputs": [
    {
     "data": {
      "text/plain": [
       "(array([88.,  0.,  0.,  0., 51., 10.,  8.,  8.,  7.,  1.]),\n",
       " array([   0. ,  431.4,  862.8, 1294.2, 1725.6, 2157. , 2588.4, 3019.8,\n",
       "        3451.2, 3882.6, 4314. ]),\n",
       " <BarContainer object of 10 artists>)"
      ]
     },
     "execution_count": 23,
     "metadata": {},
     "output_type": "execute_result"
    },
    {
     "data": {
      "image/png": "[encoded data removed]",
      "text/plain": [
       "<Figure size 432x288 with 1 Axes>"
      ]
     },
     "metadata": {
      "needs_background": "light"
     },
     "output_type": "display_data"
    }
   ],
   "source": [
    "plt.hist(df['avg'], bins=10)"
   ]
  },
  {
   "cell_type": "code",
   "execution_count": 24,
   "metadata": {},
   "outputs": [
    {
     "data": {
      "text/plain": [
       "(array([88.,  0.,  0., 82.,  0.,  2.,  0.,  0.,  0.,  1.]),\n",
       " array([0.04 , 0.136, 0.232, 0.328, 0.424, 0.52 , 0.616, 0.712, 0.808,\n",
       "        0.904, 1.   ]),\n",
       " <BarContainer object of 10 artists>)"
      ]
     },
     "execution_count": 24,
     "metadata": {},
     "output_type": "execute_result"
    },
    {
     "data": {
      "image/png": "[encoded data removed]",
      "text/plain": [
       "<Figure size 432x288 with 1 Axes>"
      ]
     },
     "metadata": {
      "needs_background": "light"
     },
     "output_type": "display_data"
    }
   ],
   "source": [
    "df['coverage'] = df['total_matches'] / df['total_positions']\n",
    "plt.hist(df['coverage'], bins=10)"
   ]
  },
  {
   "cell_type": "code",
   "execution_count": 27,
   "metadata": {},
   "outputs": [
    {
     "data": {
      "text/html": [
       "<div>\n",
       "<style scoped>\n",
       "    .dataframe tbody tr th:only-of-type {\n",
       "        vertical-align: middle;\n",
       "    }\n",
       "\n",
       "    .dataframe tbody tr th {\n",
       "        vertical-align: top;\n",
       "    }\n",
       "\n",
       "    .dataframe thead th {\n",
       "        text-align: right;\n",
       "    }\n",
       "</style>\n",
       "<table border=\"1\" class=\"dataframe\">\n",
       "  <thead>\n",
       "    <tr style=\"text-align: right;\">\n",
       "      <th></th>\n",
       "      <th>text</th>\n",
       "      <th>total_positions</th>\n",
       "      <th>total_matches</th>\n",
       "      <th>num_suggestions</th>\n",
       "      <th>divergence</th>\n",
       "      <th>avg</th>\n",
       "      <th>avg_divergence</th>\n",
       "      <th>coverage</th>\n",
       "    </tr>\n",
       "  </thead>\n",
       "  <tbody>\n",
       "    <tr>\n",
       "      <th>20</th>\n",
       "      <td>f(A,B,C):-legal_move(B,C,A),attacks(B,E,A),beh...</td>\n",
       "      <td>100</td>\n",
       "      <td>4</td>\n",
       "      <td>4</td>\n",
       "      <td>0.0</td>\n",
       "      <td>0.0</td>\n",
       "      <td>0.000000</td>\n",
       "      <td>0.04</td>\n",
       "    </tr>\n",
       "    <tr>\n",
       "      <th>27</th>\n",
       "      <td>f(A,B,C):-legal_move(B,C,A),attacks(B,D,A),beh...</td>\n",
       "      <td>100</td>\n",
       "      <td>4</td>\n",
       "      <td>4</td>\n",
       "      <td>1.0</td>\n",
       "      <td>1.0</td>\n",
       "      <td>0.250000</td>\n",
       "      <td>0.04</td>\n",
       "    </tr>\n",
       "    <tr>\n",
       "      <th>28</th>\n",
       "      <td>f(A,B,C):-legal_move(B,C,A),behind(B,C,E,A),be...</td>\n",
       "      <td>100</td>\n",
       "      <td>4</td>\n",
       "      <td>4</td>\n",
       "      <td>1.0</td>\n",
       "      <td>1.0</td>\n",
       "      <td>0.250000</td>\n",
       "      <td>0.04</td>\n",
       "    </tr>\n",
       "    <tr>\n",
       "      <th>30</th>\n",
       "      <td>f(A,B,C):-legal_move(B,C,A),attacks(B,C,A),beh...</td>\n",
       "      <td>100</td>\n",
       "      <td>4</td>\n",
       "      <td>4</td>\n",
       "      <td>1.0</td>\n",
       "      <td>1.0</td>\n",
       "      <td>0.250000</td>\n",
       "      <td>0.04</td>\n",
       "    </tr>\n",
       "    <tr>\n",
       "      <th>35</th>\n",
       "      <td>f(A,B,C):-legal_move(B,C,A),attacks(B,E,A),beh...</td>\n",
       "      <td>100</td>\n",
       "      <td>4</td>\n",
       "      <td>4</td>\n",
       "      <td>1.0</td>\n",
       "      <td>1.0</td>\n",
       "      <td>0.250000</td>\n",
       "      <td>0.04</td>\n",
       "    </tr>\n",
       "    <tr>\n",
       "      <th>...</th>\n",
       "      <td>...</td>\n",
       "      <td>...</td>\n",
       "      <td>...</td>\n",
       "      <td>...</td>\n",
       "      <td>...</td>\n",
       "      <td>...</td>\n",
       "      <td>...</td>\n",
       "      <td>...</td>\n",
       "    </tr>\n",
       "    <tr>\n",
       "      <th>14</th>\n",
       "      <td>f(A,B,C):-legal_move(B,C,A),attacks(B,C,A),beh...</td>\n",
       "      <td>100</td>\n",
       "      <td>36</td>\n",
       "      <td>36</td>\n",
       "      <td>3570.0</td>\n",
       "      <td>3570.0</td>\n",
       "      <td>99.166667</td>\n",
       "      <td>0.36</td>\n",
       "    </tr>\n",
       "    <tr>\n",
       "      <th>8</th>\n",
       "      <td>f(A,B,C):-legal_move(B,C,A),attacks(B,D,A),beh...</td>\n",
       "      <td>100</td>\n",
       "      <td>36</td>\n",
       "      <td>36</td>\n",
       "      <td>3573.0</td>\n",
       "      <td>3573.0</td>\n",
       "      <td>99.250000</td>\n",
       "      <td>0.36</td>\n",
       "    </tr>\n",
       "    <tr>\n",
       "      <th>13</th>\n",
       "      <td>f(A,B,C):-legal_move(B,C,A),attacks(B,C,A),beh...</td>\n",
       "      <td>100</td>\n",
       "      <td>36</td>\n",
       "      <td>36</td>\n",
       "      <td>3589.0</td>\n",
       "      <td>3589.0</td>\n",
       "      <td>99.694444</td>\n",
       "      <td>0.36</td>\n",
       "    </tr>\n",
       "    <tr>\n",
       "      <th>12</th>\n",
       "      <td>f(A,B,C):-legal_move(B,C,A),attacks(B,D,A),beh...</td>\n",
       "      <td>100</td>\n",
       "      <td>36</td>\n",
       "      <td>36</td>\n",
       "      <td>3604.0</td>\n",
       "      <td>3604.0</td>\n",
       "      <td>100.111111</td>\n",
       "      <td>0.36</td>\n",
       "    </tr>\n",
       "    <tr>\n",
       "      <th>48</th>\n",
       "      <td>f(A,B,C):-legal_move(B,C,A),attacks(B,E,A),beh...</td>\n",
       "      <td>100</td>\n",
       "      <td>36</td>\n",
       "      <td>36</td>\n",
       "      <td>3714.0</td>\n",
       "      <td>3714.0</td>\n",
       "      <td>103.166667</td>\n",
       "      <td>0.36</td>\n",
       "    </tr>\n",
       "  </tbody>\n",
       "</table>\n",
       "<p>173 rows × 8 columns</p>\n",
       "</div>"
      ],
      "text/plain": [
       "                                                 text  total_positions  \\\n",
       "20  f(A,B,C):-legal_move(B,C,A),attacks(B,E,A),beh...              100   \n",
       "27  f(A,B,C):-legal_move(B,C,A),attacks(B,D,A),beh...              100   \n",
       "28  f(A,B,C):-legal_move(B,C,A),behind(B,C,E,A),be...              100   \n",
       "30  f(A,B,C):-legal_move(B,C,A),attacks(B,C,A),beh...              100   \n",
       "35  f(A,B,C):-legal_move(B,C,A),attacks(B,E,A),beh...              100   \n",
       "..                                                ...              ...   \n",
       "14  f(A,B,C):-legal_move(B,C,A),attacks(B,C,A),beh...              100   \n",
       "8   f(A,B,C):-legal_move(B,C,A),attacks(B,D,A),beh...              100   \n",
       "13  f(A,B,C):-legal_move(B,C,A),attacks(B,C,A),beh...              100   \n",
       "12  f(A,B,C):-legal_move(B,C,A),attacks(B,D,A),beh...              100   \n",
       "48  f(A,B,C):-legal_move(B,C,A),attacks(B,E,A),beh...              100   \n",
       "\n",
       "    total_matches  num_suggestions  divergence     avg  avg_divergence  \\\n",
       "20              4                4         0.0     0.0        0.000000   \n",
       "27              4                4         1.0     1.0        0.250000   \n",
       "28              4                4         1.0     1.0        0.250000   \n",
       "30              4                4         1.0     1.0        0.250000   \n",
       "35              4                4         1.0     1.0        0.250000   \n",
       "..            ...              ...         ...     ...             ...   \n",
       "14             36               36      3570.0  3570.0       99.166667   \n",
       "8              36               36      3573.0  3573.0       99.250000   \n",
       "13             36               36      3589.0  3589.0       99.694444   \n",
       "12             36               36      3604.0  3604.0      100.111111   \n",
       "48             36               36      3714.0  3714.0      103.166667   \n",
       "\n",
       "    coverage  \n",
       "20      0.04  \n",
       "27      0.04  \n",
       "28      0.04  \n",
       "30      0.04  \n",
       "35      0.04  \n",
       "..       ...  \n",
       "14      0.36  \n",
       "8       0.36  \n",
       "13      0.36  \n",
       "12      0.36  \n",
       "48      0.36  \n",
       "\n",
       "[173 rows x 8 columns]"
      ]
     },
     "execution_count": 27,
     "metadata": {},
     "output_type": "execute_result"
    }
   ],
   "source": [
    "df.sort_values(by = ['avg_divergence', 'total_matches'], ascending = [True, False])"
   ]
  },
  {
   "cell_type": "markdown",
   "metadata": {},
   "source": [
    "# Calculate Dataset Metrics"
   ]
  },
  {
   "cell_type": "code",
   "execution_count": 6,
   "metadata": {},
   "outputs": [],
   "source": [
    "from collections import Counter\n",
    "\n",
    "total_games = 0\n",
    "valid_elo = 0\n",
    "total_pos = 0\n",
    "total_elo = 0\n",
    "game_count = Counter()"
   ]
  },
  {
   "cell_type": "code",
   "execution_count": 7,
   "metadata": {},
   "outputs": [],
   "source": [
    "import chess.pgn\n",
    "\n",
    "with open('data/lichess_db_standard_rated_2013-01.pgn') as pgn:\n",
    "    while game := chess.pgn.read_game(pgn):\n",
    "        total_games += 1\n",
    "        white_elo = game.headers['WhiteElo']\n",
    "        black_elo = game.headers['BlackElo']\n",
    "        if '?' not in white_elo and '?' not in black_elo:\n",
    "            total_elo += int(white_elo)\n",
    "            total_elo += int(black_elo)\n",
    "            valid_elo += 1\n",
    "        game_count[game.headers['Event']] += 1"
   ]
  },
  {
   "cell_type": "code",
   "execution_count": 8,
   "metadata": {},
   "outputs": [
    {
     "name": "stdout",
     "output_type": "stream",
     "text": [
      "Total games 121332\n",
      "Average ELO 1600.8983024258137\n"
     ]
    }
   ],
   "source": [
    "print('Total games', total_games)\n",
    "avg_elo = total_elo / (2 * valid_elo)\n",
    "print('Average ELO', avg_elo)"
   ]
  },
  {
   "cell_type": "code",
   "execution_count": 11,
   "metadata": {},
   "outputs": [],
   "source": [
    "variance = 0\n",
    "\n",
    "with open('data/lichess_db_standard_rated_2013-01.pgn') as pgn:\n",
    "    while game := chess.pgn.read_game(pgn):\n",
    "        total_games += 1\n",
    "        white_elo = game.headers['WhiteElo']\n",
    "        black_elo = game.headers['BlackElo']\n",
    "        if '?' not in white_elo and '?' not in black_elo:\n",
    "            variance += (int(white_elo) - avg_elo) ** 2\n",
    "            variance += (int(black_elo) - avg_elo) ** 2\n",
    "        game_count[game.headers['Event']] += 1"
   ]
  },
  {
   "cell_type": "code",
   "execution_count": 13,
   "metadata": {},
   "outputs": [
    {
     "name": "stdout",
     "output_type": "stream",
     "text": [
      "SD 288.77726911089053\n"
     ]
    }
   ],
   "source": [
    "import math\n",
    "\n",
    "print('SD', math.sqrt(variance / valid_elo))"
   ]
  }
 ],
 "metadata": {
  "interpreter": {
   "hash": "6355374956c5778604016e244f979cc331398a530384f2842e5bccfbc3abef60"
  },
  "kernelspec": {
   "display_name": "Python 3.10.0 ('tactics')",
   "language": "python",
   "name": "python3"
  },
  "language_info": {
   "codemirror_mode": {
    "name": "ipython",
    "version": 3
   },
   "file_extension": ".py",
   "mimetype": "text/x-python",
   "name": "python",
   "nbconvert_exporter": "python",
   "pygments_lexer": "ipython3",
   "version": "3.10.0"
  },
  "orig_nbformat": 4
 },
 "nbformat": 4,
 "nbformat_minor": 2
}
