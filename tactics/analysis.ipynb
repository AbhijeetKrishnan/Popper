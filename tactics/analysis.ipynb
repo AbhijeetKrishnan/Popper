{
 "cells": [
  {
   "cell_type": "markdown",
   "metadata": {},
   "source": [
    "# Import required libraries"
   ]
  },
  {
   "cell_type": "code",
   "execution_count": 1,
   "metadata": {},
   "outputs": [],
   "source": [
    "import pandas as pd\n",
    "import matplotlib.pyplot as plt"
   ]
  },
  {
   "cell_type": "markdown",
   "metadata": {},
   "source": [
    "# Load data"
   ]
  },
  {
   "cell_type": "code",
   "execution_count": 32,
   "metadata": {},
   "outputs": [],
   "source": [
    "data_filename = 'data/stats/metrics_test_tsf_sf14.csv'\n",
    "df = pd.read_csv(data_filename)"
   ]
  },
  {
   "cell_type": "markdown",
   "metadata": {},
   "source": [
    "# Do analysis"
   ]
  },
  {
   "cell_type": "code",
   "execution_count": 29,
   "metadata": {},
   "outputs": [
    {
     "data": {
      "text/html": [
       "<div>\n",
       "<style scoped>\n",
       "    .dataframe tbody tr th:only-of-type {\n",
       "        vertical-align: middle;\n",
       "    }\n",
       "\n",
       "    .dataframe tbody tr th {\n",
       "        vertical-align: top;\n",
       "    }\n",
       "\n",
       "    .dataframe thead th {\n",
       "        text-align: right;\n",
       "    }\n",
       "</style>\n",
       "<table border=\"1\" class=\"dataframe\">\n",
       "  <thead>\n",
       "    <tr style=\"text-align: right;\">\n",
       "      <th></th>\n",
       "      <th>total_positions</th>\n",
       "      <th>total_matches</th>\n",
       "      <th>num_suggestions</th>\n",
       "      <th>divergence</th>\n",
       "      <th>avg</th>\n",
       "      <th>correct_move</th>\n",
       "    </tr>\n",
       "  </thead>\n",
       "  <tbody>\n",
       "    <tr>\n",
       "      <th>count</th>\n",
       "      <td>25.0</td>\n",
       "      <td>25.000000</td>\n",
       "      <td>25.000000</td>\n",
       "      <td>25.000000</td>\n",
       "      <td>25.000000</td>\n",
       "      <td>25.000000</td>\n",
       "    </tr>\n",
       "    <tr>\n",
       "      <th>mean</th>\n",
       "      <td>1000.0</td>\n",
       "      <td>646.720000</td>\n",
       "      <td>646.720000</td>\n",
       "      <td>328409.440000</td>\n",
       "      <td>328409.440000</td>\n",
       "      <td>37.880000</td>\n",
       "    </tr>\n",
       "    <tr>\n",
       "      <th>std</th>\n",
       "      <td>0.0</td>\n",
       "      <td>94.738025</td>\n",
       "      <td>94.738025</td>\n",
       "      <td>33772.605021</td>\n",
       "      <td>33772.605021</td>\n",
       "      <td>27.234047</td>\n",
       "    </tr>\n",
       "    <tr>\n",
       "      <th>min</th>\n",
       "      <td>1000.0</td>\n",
       "      <td>562.000000</td>\n",
       "      <td>562.000000</td>\n",
       "      <td>290584.000000</td>\n",
       "      <td>290584.000000</td>\n",
       "      <td>13.000000</td>\n",
       "    </tr>\n",
       "    <tr>\n",
       "      <th>25%</th>\n",
       "      <td>1000.0</td>\n",
       "      <td>562.000000</td>\n",
       "      <td>562.000000</td>\n",
       "      <td>291045.000000</td>\n",
       "      <td>291045.000000</td>\n",
       "      <td>13.000000</td>\n",
       "    </tr>\n",
       "    <tr>\n",
       "      <th>50%</th>\n",
       "      <td>1000.0</td>\n",
       "      <td>672.000000</td>\n",
       "      <td>672.000000</td>\n",
       "      <td>332104.000000</td>\n",
       "      <td>332104.000000</td>\n",
       "      <td>29.000000</td>\n",
       "    </tr>\n",
       "    <tr>\n",
       "      <th>75%</th>\n",
       "      <td>1000.0</td>\n",
       "      <td>692.000000</td>\n",
       "      <td>692.000000</td>\n",
       "      <td>355346.000000</td>\n",
       "      <td>355346.000000</td>\n",
       "      <td>46.000000</td>\n",
       "    </tr>\n",
       "    <tr>\n",
       "      <th>max</th>\n",
       "      <td>1000.0</td>\n",
       "      <td>1000.000000</td>\n",
       "      <td>1000.000000</td>\n",
       "      <td>404251.000000</td>\n",
       "      <td>404251.000000</td>\n",
       "      <td>93.000000</td>\n",
       "    </tr>\n",
       "  </tbody>\n",
       "</table>\n",
       "</div>"
      ],
      "text/plain": [
       "       total_positions  total_matches  num_suggestions     divergence  \\\n",
       "count             25.0      25.000000        25.000000      25.000000   \n",
       "mean            1000.0     646.720000       646.720000  328409.440000   \n",
       "std                0.0      94.738025        94.738025   33772.605021   \n",
       "min             1000.0     562.000000       562.000000  290584.000000   \n",
       "25%             1000.0     562.000000       562.000000  291045.000000   \n",
       "50%             1000.0     672.000000       672.000000  332104.000000   \n",
       "75%             1000.0     692.000000       692.000000  355346.000000   \n",
       "max             1000.0    1000.000000      1000.000000  404251.000000   \n",
       "\n",
       "                 avg  correct_move  \n",
       "count      25.000000     25.000000  \n",
       "mean   328409.440000     37.880000  \n",
       "std     33772.605021     27.234047  \n",
       "min    290584.000000     13.000000  \n",
       "25%    291045.000000     13.000000  \n",
       "50%    332104.000000     29.000000  \n",
       "75%    355346.000000     46.000000  \n",
       "max    404251.000000     93.000000  "
      ]
     },
     "execution_count": 29,
     "metadata": {},
     "output_type": "execute_result"
    }
   ],
   "source": [
    "df.describe()"
   ]
  },
  {
   "cell_type": "code",
   "execution_count": 30,
   "metadata": {},
   "outputs": [
    {
     "data": {
      "text/html": [
       "<div>\n",
       "<style scoped>\n",
       "    .dataframe tbody tr th:only-of-type {\n",
       "        vertical-align: middle;\n",
       "    }\n",
       "\n",
       "    .dataframe tbody tr th {\n",
       "        vertical-align: top;\n",
       "    }\n",
       "\n",
       "    .dataframe thead th {\n",
       "        text-align: right;\n",
       "    }\n",
       "</style>\n",
       "<table border=\"1\" class=\"dataframe\">\n",
       "  <thead>\n",
       "    <tr style=\"text-align: right;\">\n",
       "      <th></th>\n",
       "      <th>text</th>\n",
       "      <th>total_positions</th>\n",
       "      <th>total_matches</th>\n",
       "      <th>num_suggestions</th>\n",
       "      <th>divergence</th>\n",
       "      <th>avg</th>\n",
       "      <th>correct_move</th>\n",
       "    </tr>\n",
       "  </thead>\n",
       "  <tbody>\n",
       "    <tr>\n",
       "      <th>0</th>\n",
       "      <td>f(A,B,C):-legal_move(B,C,A)</td>\n",
       "      <td>1000</td>\n",
       "      <td>1000</td>\n",
       "      <td>1000</td>\n",
       "      <td>404251.0</td>\n",
       "      <td>404251.0</td>\n",
       "      <td>56</td>\n",
       "    </tr>\n",
       "    <tr>\n",
       "      <th>1</th>\n",
       "      <td>f(A,B,C):-legal_move(B,C,A),attacks(B,C,A)</td>\n",
       "      <td>1000</td>\n",
       "      <td>692</td>\n",
       "      <td>692</td>\n",
       "      <td>351803.0</td>\n",
       "      <td>351803.0</td>\n",
       "      <td>93</td>\n",
       "    </tr>\n",
       "    <tr>\n",
       "      <th>2</th>\n",
       "      <td>f(A,B,C):-legal_move(B,C,A),attacks(B,C,A),att...</td>\n",
       "      <td>1000</td>\n",
       "      <td>692</td>\n",
       "      <td>692</td>\n",
       "      <td>353855.0</td>\n",
       "      <td>353855.0</td>\n",
       "      <td>93</td>\n",
       "    </tr>\n",
       "    <tr>\n",
       "      <th>3</th>\n",
       "      <td>f(A,B,C):-legal_move(B,C,A),attacks(B,C,A),att...</td>\n",
       "      <td>1000</td>\n",
       "      <td>692</td>\n",
       "      <td>692</td>\n",
       "      <td>353855.0</td>\n",
       "      <td>353855.0</td>\n",
       "      <td>93</td>\n",
       "    </tr>\n",
       "    <tr>\n",
       "      <th>4</th>\n",
       "      <td>f(A,B,C):-legal_move(B,C,A),attacks(B,C,A),dif...</td>\n",
       "      <td>1000</td>\n",
       "      <td>692</td>\n",
       "      <td>692</td>\n",
       "      <td>353786.0</td>\n",
       "      <td>353786.0</td>\n",
       "      <td>93</td>\n",
       "    </tr>\n",
       "    <tr>\n",
       "      <th>5</th>\n",
       "      <td>f(A,B,C):-legal_move(B,C,A),attacks(B,D,A),att...</td>\n",
       "      <td>1000</td>\n",
       "      <td>562</td>\n",
       "      <td>562</td>\n",
       "      <td>290584.0</td>\n",
       "      <td>290584.0</td>\n",
       "      <td>29</td>\n",
       "    </tr>\n",
       "    <tr>\n",
       "      <th>6</th>\n",
       "      <td>f(A,B,C):-legal_move(B,C,A),attacks(B,D,A),att...</td>\n",
       "      <td>1000</td>\n",
       "      <td>562</td>\n",
       "      <td>562</td>\n",
       "      <td>290789.0</td>\n",
       "      <td>290789.0</td>\n",
       "      <td>29</td>\n",
       "    </tr>\n",
       "    <tr>\n",
       "      <th>7</th>\n",
       "      <td>f(A,B,C):-legal_move(B,C,A),attacks(B,D,A),att...</td>\n",
       "      <td>1000</td>\n",
       "      <td>692</td>\n",
       "      <td>692</td>\n",
       "      <td>332104.0</td>\n",
       "      <td>332104.0</td>\n",
       "      <td>46</td>\n",
       "    </tr>\n",
       "    <tr>\n",
       "      <th>8</th>\n",
       "      <td>f(A,B,C):-legal_move(B,C,A),attacks(B,D,A),att...</td>\n",
       "      <td>1000</td>\n",
       "      <td>672</td>\n",
       "      <td>672</td>\n",
       "      <td>354432.0</td>\n",
       "      <td>354432.0</td>\n",
       "      <td>13</td>\n",
       "    </tr>\n",
       "    <tr>\n",
       "      <th>9</th>\n",
       "      <td>f(A,B,C):-legal_move(B,C,A),attacks(B,D,A),att...</td>\n",
       "      <td>1000</td>\n",
       "      <td>672</td>\n",
       "      <td>672</td>\n",
       "      <td>355701.0</td>\n",
       "      <td>355701.0</td>\n",
       "      <td>13</td>\n",
       "    </tr>\n",
       "    <tr>\n",
       "      <th>10</th>\n",
       "      <td>f(A,B,C):-legal_move(B,C,A),attacks(B,D,A),att...</td>\n",
       "      <td>1000</td>\n",
       "      <td>672</td>\n",
       "      <td>672</td>\n",
       "      <td>355701.0</td>\n",
       "      <td>355701.0</td>\n",
       "      <td>13</td>\n",
       "    </tr>\n",
       "    <tr>\n",
       "      <th>11</th>\n",
       "      <td>f(A,B,C):-legal_move(B,C,A),attacks(B,D,A),beh...</td>\n",
       "      <td>1000</td>\n",
       "      <td>562</td>\n",
       "      <td>562</td>\n",
       "      <td>291099.0</td>\n",
       "      <td>291099.0</td>\n",
       "      <td>29</td>\n",
       "    </tr>\n",
       "    <tr>\n",
       "      <th>12</th>\n",
       "      <td>f(A,B,C):-legal_move(B,C,A),attacks(B,D,A),beh...</td>\n",
       "      <td>1000</td>\n",
       "      <td>562</td>\n",
       "      <td>562</td>\n",
       "      <td>291099.0</td>\n",
       "      <td>291099.0</td>\n",
       "      <td>29</td>\n",
       "    </tr>\n",
       "    <tr>\n",
       "      <th>13</th>\n",
       "      <td>f(A,B,C):-legal_move(B,C,A),attacks(B,D,A),beh...</td>\n",
       "      <td>1000</td>\n",
       "      <td>562</td>\n",
       "      <td>562</td>\n",
       "      <td>291045.0</td>\n",
       "      <td>291045.0</td>\n",
       "      <td>29</td>\n",
       "    </tr>\n",
       "    <tr>\n",
       "      <th>14</th>\n",
       "      <td>f(A,B,C):-legal_move(B,C,A),attacks(B,D,A),beh...</td>\n",
       "      <td>1000</td>\n",
       "      <td>562</td>\n",
       "      <td>562</td>\n",
       "      <td>291045.0</td>\n",
       "      <td>291045.0</td>\n",
       "      <td>29</td>\n",
       "    </tr>\n",
       "    <tr>\n",
       "      <th>15</th>\n",
       "      <td>f(A,B,C):-legal_move(B,C,A),attacks(B,D,A),beh...</td>\n",
       "      <td>1000</td>\n",
       "      <td>562</td>\n",
       "      <td>562</td>\n",
       "      <td>290992.0</td>\n",
       "      <td>290992.0</td>\n",
       "      <td>29</td>\n",
       "    </tr>\n",
       "    <tr>\n",
       "      <th>16</th>\n",
       "      <td>f(A,B,C):-legal_move(B,C,A),attacks(B,D,A),beh...</td>\n",
       "      <td>1000</td>\n",
       "      <td>562</td>\n",
       "      <td>562</td>\n",
       "      <td>290992.0</td>\n",
       "      <td>290992.0</td>\n",
       "      <td>29</td>\n",
       "    </tr>\n",
       "    <tr>\n",
       "      <th>17</th>\n",
       "      <td>f(A,B,C):-legal_move(B,C,A),attacks(B,D,A),beh...</td>\n",
       "      <td>1000</td>\n",
       "      <td>562</td>\n",
       "      <td>562</td>\n",
       "      <td>290992.0</td>\n",
       "      <td>290992.0</td>\n",
       "      <td>29</td>\n",
       "    </tr>\n",
       "    <tr>\n",
       "      <th>18</th>\n",
       "      <td>f(A,B,C):-legal_move(B,C,A),attacks(B,D,A),dif...</td>\n",
       "      <td>1000</td>\n",
       "      <td>692</td>\n",
       "      <td>692</td>\n",
       "      <td>331849.0</td>\n",
       "      <td>331849.0</td>\n",
       "      <td>46</td>\n",
       "    </tr>\n",
       "    <tr>\n",
       "      <th>19</th>\n",
       "      <td>f(A,B,C):-legal_move(B,C,A),attacks(B,D,A),dif...</td>\n",
       "      <td>1000</td>\n",
       "      <td>692</td>\n",
       "      <td>692</td>\n",
       "      <td>331849.0</td>\n",
       "      <td>331849.0</td>\n",
       "      <td>46</td>\n",
       "    </tr>\n",
       "    <tr>\n",
       "      <th>20</th>\n",
       "      <td>f(A,B,C):-legal_move(B,C,A),attacks(B,D,A),dif...</td>\n",
       "      <td>1000</td>\n",
       "      <td>672</td>\n",
       "      <td>672</td>\n",
       "      <td>355346.0</td>\n",
       "      <td>355346.0</td>\n",
       "      <td>13</td>\n",
       "    </tr>\n",
       "    <tr>\n",
       "      <th>21</th>\n",
       "      <td>f(A,B,C):-legal_move(B,C,A),attacks(B,D,A),dif...</td>\n",
       "      <td>1000</td>\n",
       "      <td>672</td>\n",
       "      <td>672</td>\n",
       "      <td>355346.0</td>\n",
       "      <td>355346.0</td>\n",
       "      <td>13</td>\n",
       "    </tr>\n",
       "    <tr>\n",
       "      <th>22</th>\n",
       "      <td>f(A,B,C):-legal_move(B,C,A),attacks(B,D,A),dif...</td>\n",
       "      <td>1000</td>\n",
       "      <td>672</td>\n",
       "      <td>672</td>\n",
       "      <td>355346.0</td>\n",
       "      <td>355346.0</td>\n",
       "      <td>13</td>\n",
       "    </tr>\n",
       "    <tr>\n",
       "      <th>23</th>\n",
       "      <td>f(A,B,C):-legal_move(B,C,A),attacks(B,D,A),dif...</td>\n",
       "      <td>1000</td>\n",
       "      <td>672</td>\n",
       "      <td>672</td>\n",
       "      <td>355421.0</td>\n",
       "      <td>355421.0</td>\n",
       "      <td>13</td>\n",
       "    </tr>\n",
       "    <tr>\n",
       "      <th>24</th>\n",
       "      <td>f(A,B,C):-legal_move(B,C,A),attacks(B,E,A),att...</td>\n",
       "      <td>1000</td>\n",
       "      <td>562</td>\n",
       "      <td>562</td>\n",
       "      <td>290954.0</td>\n",
       "      <td>290954.0</td>\n",
       "      <td>29</td>\n",
       "    </tr>\n",
       "  </tbody>\n",
       "</table>\n",
       "</div>"
      ],
      "text/plain": [
       "                                                 text  total_positions  \\\n",
       "0                         f(A,B,C):-legal_move(B,C,A)             1000   \n",
       "1          f(A,B,C):-legal_move(B,C,A),attacks(B,C,A)             1000   \n",
       "2   f(A,B,C):-legal_move(B,C,A),attacks(B,C,A),att...             1000   \n",
       "3   f(A,B,C):-legal_move(B,C,A),attacks(B,C,A),att...             1000   \n",
       "4   f(A,B,C):-legal_move(B,C,A),attacks(B,C,A),dif...             1000   \n",
       "5   f(A,B,C):-legal_move(B,C,A),attacks(B,D,A),att...             1000   \n",
       "6   f(A,B,C):-legal_move(B,C,A),attacks(B,D,A),att...             1000   \n",
       "7   f(A,B,C):-legal_move(B,C,A),attacks(B,D,A),att...             1000   \n",
       "8   f(A,B,C):-legal_move(B,C,A),attacks(B,D,A),att...             1000   \n",
       "9   f(A,B,C):-legal_move(B,C,A),attacks(B,D,A),att...             1000   \n",
       "10  f(A,B,C):-legal_move(B,C,A),attacks(B,D,A),att...             1000   \n",
       "11  f(A,B,C):-legal_move(B,C,A),attacks(B,D,A),beh...             1000   \n",
       "12  f(A,B,C):-legal_move(B,C,A),attacks(B,D,A),beh...             1000   \n",
       "13  f(A,B,C):-legal_move(B,C,A),attacks(B,D,A),beh...             1000   \n",
       "14  f(A,B,C):-legal_move(B,C,A),attacks(B,D,A),beh...             1000   \n",
       "15  f(A,B,C):-legal_move(B,C,A),attacks(B,D,A),beh...             1000   \n",
       "16  f(A,B,C):-legal_move(B,C,A),attacks(B,D,A),beh...             1000   \n",
       "17  f(A,B,C):-legal_move(B,C,A),attacks(B,D,A),beh...             1000   \n",
       "18  f(A,B,C):-legal_move(B,C,A),attacks(B,D,A),dif...             1000   \n",
       "19  f(A,B,C):-legal_move(B,C,A),attacks(B,D,A),dif...             1000   \n",
       "20  f(A,B,C):-legal_move(B,C,A),attacks(B,D,A),dif...             1000   \n",
       "21  f(A,B,C):-legal_move(B,C,A),attacks(B,D,A),dif...             1000   \n",
       "22  f(A,B,C):-legal_move(B,C,A),attacks(B,D,A),dif...             1000   \n",
       "23  f(A,B,C):-legal_move(B,C,A),attacks(B,D,A),dif...             1000   \n",
       "24  f(A,B,C):-legal_move(B,C,A),attacks(B,E,A),att...             1000   \n",
       "\n",
       "    total_matches  num_suggestions  divergence       avg  correct_move  \n",
       "0            1000             1000    404251.0  404251.0            56  \n",
       "1             692              692    351803.0  351803.0            93  \n",
       "2             692              692    353855.0  353855.0            93  \n",
       "3             692              692    353855.0  353855.0            93  \n",
       "4             692              692    353786.0  353786.0            93  \n",
       "5             562              562    290584.0  290584.0            29  \n",
       "6             562              562    290789.0  290789.0            29  \n",
       "7             692              692    332104.0  332104.0            46  \n",
       "8             672              672    354432.0  354432.0            13  \n",
       "9             672              672    355701.0  355701.0            13  \n",
       "10            672              672    355701.0  355701.0            13  \n",
       "11            562              562    291099.0  291099.0            29  \n",
       "12            562              562    291099.0  291099.0            29  \n",
       "13            562              562    291045.0  291045.0            29  \n",
       "14            562              562    291045.0  291045.0            29  \n",
       "15            562              562    290992.0  290992.0            29  \n",
       "16            562              562    290992.0  290992.0            29  \n",
       "17            562              562    290992.0  290992.0            29  \n",
       "18            692              692    331849.0  331849.0            46  \n",
       "19            692              692    331849.0  331849.0            46  \n",
       "20            672              672    355346.0  355346.0            13  \n",
       "21            672              672    355346.0  355346.0            13  \n",
       "22            672              672    355346.0  355346.0            13  \n",
       "23            672              672    355421.0  355421.0            13  \n",
       "24            562              562    290954.0  290954.0            29  "
      ]
     },
     "execution_count": 30,
     "metadata": {},
     "output_type": "execute_result"
    }
   ],
   "source": [
    "df"
   ]
  },
  {
   "cell_type": "code",
   "execution_count": 33,
   "metadata": {},
   "outputs": [
    {
     "data": {
      "text/plain": [
       "Text(0, 0.5, 'Frequency')"
      ]
     },
     "execution_count": 33,
     "metadata": {},
     "output_type": "execute_result"
    },
    {
     "data": {
      "image/png": "[encoded data removed]",
      "text/plain": [
       "<Figure size 432x288 with 1 Axes>"
      ]
     },
     "metadata": {
      "needs_background": "light"
     },
     "output_type": "display_data"
    }
   ],
   "source": [
    "df['avg_divergence'] = df['divergence'] / df['total_matches']\n",
    "plt.hist(df['avg_divergence'], bins=10)\n",
    "plt.axvline(df.loc[(df['text'] == \"f(A,B,C):-legal_move(B,C,A)\")]['avg_divergence'].values, linestyle='dashed')\n",
    "plt.title('Histogram of Divergence$(T_{SF},$ Stockfish 14, $P_{test})$')\n",
    "plt.xlabel('Divergence')\n",
    "plt.ylabel('Frequency')"
   ]
  },
  {
   "cell_type": "code",
   "execution_count": 72,
   "metadata": {},
   "outputs": [
    {
     "data": {
      "text/plain": [
       "array([93.075])"
      ]
     },
     "execution_count": 72,
     "metadata": {},
     "output_type": "execute_result"
    }
   ],
   "source": [
    "df.loc[(df['text'] == \"f(A,B,C):-legal_move(B,C,A)\")]['avg_divergence'].values"
   ]
  },
  {
   "cell_type": "code",
   "execution_count": 80,
   "metadata": {},
   "outputs": [
    {
     "data": {
      "text/plain": [
       "<matplotlib.lines.Line2D at 0x7fb4251704c0>"
      ]
     },
     "execution_count": 80,
     "metadata": {},
     "output_type": "execute_result"
    },
    {
     "data": {
      "image/png": "[encoded data removed]",
      "text/plain": [
       "<Figure size 432x288 with 1 Axes>"
      ]
     },
     "metadata": {
      "needs_background": "light"
     },
     "output_type": "display_data"
    }
   ],
   "source": [
    "plt.hist(df['avg'], bins=10)\n",
    "plt.axvline(df.loc[(df['text'] == \"f(A,B,C):-legal_move(B,C,A)\")]['avg_divergence'].values, linestyle='dashed')"
   ]
  },
  {
   "cell_type": "code",
   "execution_count": 34,
   "metadata": {},
   "outputs": [
    {
     "data": {
      "text/plain": [
       "Text(0, 0.5, 'Frequency')"
      ]
     },
     "execution_count": 34,
     "metadata": {},
     "output_type": "execute_result"
    },
    {
     "data": {
      "image/png": "[encoded data removed]",
      "text/plain": [
       "<Figure size 432x288 with 1 Axes>"
      ]
     },
     "metadata": {
      "needs_background": "light"
     },
     "output_type": "display_data"
    }
   ],
   "source": [
    "df['coverage'] = df['total_matches'] / df['total_positions']\n",
    "plt.hist(df['coverage'], bins=10)\n",
    "plt.axvline(df.loc[(df['text'] == \"f(A,B,C):-legal_move(B,C,A)\")]['coverage'].values, linestyle='dashed')\n",
    "plt.title('Histogram of Coverage$(T_{SF},$ Stockfish 14, $P_{test})$')\n",
    "plt.xlabel('Coverage')\n",
    "plt.ylabel('Frequency')"
   ]
  },
  {
   "cell_type": "code",
   "execution_count": 35,
   "metadata": {},
   "outputs": [
    {
     "data": {
      "text/plain": [
       "Text(0, 0.5, 'Frequency')"
      ]
     },
     "execution_count": 35,
     "metadata": {},
     "output_type": "execute_result"
    },
    {
     "data": {
      "image/png": "[encoded data removed]",
      "text/plain": [
       "<Figure size 432x288 with 1 Axes>"
      ]
     },
     "metadata": {
      "needs_background": "light"
     },
     "output_type": "display_data"
    }
   ],
   "source": [
    "df['accuracy'] = df['correct_move'] / df['total_matches']\n",
    "plt.hist(df['accuracy'], bins=10)\n",
    "plt.axvline(df.loc[(df['text'] == \"f(A,B,C):-legal_move(B,C,A)\")]['accuracy'].values, linestyle='dashed')\n",
    "plt.title('Histogram of Accuracy$(T_{SF},$ Stockfish 14, $P_{test})$')\n",
    "plt.xlabel('Accuracy')\n",
    "plt.ylabel('Frequency')"
   ]
  },
  {
   "cell_type": "code",
   "execution_count": 86,
   "metadata": {},
   "outputs": [],
   "source": [
    "final = df.sort_values(by = ['avg_divergence', 'total_matches', 'correct_move'], ascending = [True, False, False])[:39]"
   ]
  },
  {
   "cell_type": "code",
   "execution_count": 87,
   "metadata": {},
   "outputs": [
    {
     "name": "stdout",
     "output_type": "stream",
     "text": [
      "f(A,B,C):-legal_move(B,C,A).\n",
      "f(A,B,C):-legal_move(B,C,A),attacks(B,C,A).\n",
      "f(A,B,C):-legal_move(B,C,A),attacks(B,C,A),attacks(B,D,A),different_pos(B,C),different_pos(B,D).\n",
      "f(A,B,C):-legal_move(B,C,A),attacks(B,C,A),attacks(B,D,A),different_pos(B,D).\n",
      "f(A,B,C):-legal_move(B,C,A),attacks(B,C,A),different_pos(B,C).\n",
      "f(A,B,C):-legal_move(B,C,A),attacks(B,D,A),attacks(B,E,A),behind(B,D,E,A).\n",
      "f(A,B,C):-legal_move(B,C,A),attacks(B,D,A),attacks(B,E,A),behind(B,D,E,A),different_pos(B,D).\n",
      "f(A,B,C):-legal_move(B,C,A),attacks(B,D,A),attacks(B,E,A),different_pos(B,E),different_pos(B,D).\n",
      "f(A,B,C):-legal_move(B,C,A),attacks(B,D,A),attacks(B,E,A),different_pos(C,D),different_pos(B,E).\n",
      "f(A,B,C):-legal_move(B,C,A),attacks(B,D,A),attacks(B,E,A),different_pos(C,E),different_pos(B,D).\n",
      "f(A,B,C):-legal_move(B,C,A),attacks(B,D,A),attacks(B,E,A),different_pos(C,E),different_pos(C,D).\n",
      "f(A,B,C):-legal_move(B,C,A),attacks(B,D,A),behind(B,D,E,A),behind(B,E,D,A).\n",
      "f(A,B,C):-legal_move(B,C,A),attacks(B,D,A),behind(B,D,E,A),behind(B,E,D,A),different_pos(B,C).\n",
      "f(A,B,C):-legal_move(B,C,A),attacks(B,D,A),behind(B,D,E,A),behind(B,E,D,A),different_pos(B,E).\n",
      "f(A,B,C):-legal_move(B,C,A),attacks(B,D,A),behind(B,D,E,A),different_pos(B,C),different_pos(B,E).\n",
      "f(A,B,C):-legal_move(B,C,A),attacks(B,D,A),behind(B,D,E,A),different_pos(B,E).\n",
      "f(A,B,C):-legal_move(B,C,A),attacks(B,D,A),behind(B,D,E,A),different_pos(B,E),different_pos(B,D).\n",
      "f(A,B,C):-legal_move(B,C,A),attacks(B,D,A),behind(B,D,E,A),different_pos(C,E).\n",
      "f(A,B,C):-legal_move(B,C,A),attacks(B,D,A),different_pos(B,C),different_pos(B,D).\n",
      "f(A,B,C):-legal_move(B,C,A),attacks(B,D,A),different_pos(B,D).\n",
      "f(A,B,C):-legal_move(B,C,A),attacks(B,D,A),different_pos(C,D).\n",
      "f(A,B,C):-legal_move(B,C,A),attacks(B,D,A),different_pos(C,D),different_pos(B,C).\n",
      "f(A,B,C):-legal_move(B,C,A),attacks(B,D,A),different_pos(C,D),different_pos(B,C),different_pos(B,D).\n",
      "f(A,B,C):-legal_move(B,C,A),attacks(B,D,A),different_pos(C,D),different_pos(B,D).\n",
      "f(A,B,C):-legal_move(B,C,A),attacks(B,E,A),attacks(B,D,A),behind(B,E,D,A).\n",
      "f(A,B,C):-legal_move(B,C,A),attacks(B,E,A),behind(B,C,E,A),behind(B,D,C,A),behind(B,C,D,A).\n",
      "f(A,B,C):-legal_move(B,C,A),attacks(B,E,A),behind(B,D,E,A),behind(B,E,C,A),behind(B,D,C,A).\n",
      "f(A,B,C):-legal_move(B,C,A),attacks(B,E,A),behind(B,D,E,A),different_pos(B,C),different_pos(B,D).\n",
      "f(A,B,C):-legal_move(B,C,A),attacks(B,E,A),behind(B,E,D,A),different_pos(B,C),different_pos(B,D).\n",
      "f(A,B,C):-legal_move(B,C,A),attacks(B,E,A),behind(B,E,D,A),different_pos(B,E),different_pos(B,D).\n",
      "f(A,B,C):-legal_move(B,C,A),attacks(B,E,A),behind(B,E,D,A),different_pos(C,D),different_pos(B,D).\n",
      "f(A,B,C):-legal_move(B,C,A),behind(B,D,E,A),behind(B,C,D,A),different_pos(B,C),different_pos(B,E).\n",
      "f(A,B,C):-legal_move(B,C,A),behind(B,D,E,A),behind(B,E,C,A),behind(B,D,C,A),different_pos(B,C).\n",
      "f(A,B,C):-legal_move(B,C,A),behind(B,D,E,A),behind(B,E,D,A),different_pos(B,C).\n",
      "f(A,B,C):-legal_move(B,C,A),behind(B,D,E,A),behind(B,E,D,A),different_pos(B,D).\n",
      "f(A,B,C):-legal_move(B,C,A),behind(B,E,D,A),behind(B,C,E,A),behind(B,D,C,A).\n",
      "f(A,B,C):-legal_move(B,C,A),behind(B,E,D,A),behind(B,E,C,A),different_pos(B,C),different_pos(B,D).\n",
      "f(A,B,C):-legal_move(B,C,A),behind(B,E,D,A),different_pos(B,E),different_pos(B,D).\n",
      "f(A,B,C):-legal_move(B,C,A),different_pos(B,C).\n"
     ]
    }
   ],
   "source": [
    "for tactic in sorted(final['text'].values.tolist()):\n",
    "    print(tactic + '.')"
   ]
  },
  {
   "cell_type": "markdown",
   "metadata": {},
   "source": [
    "# Calculate Dataset Metrics"
   ]
  },
  {
   "cell_type": "code",
   "execution_count": 14,
   "metadata": {},
   "outputs": [],
   "source": [
    "from collections import Counter\n",
    "\n",
    "total_games = 0\n",
    "valid_elo = 0\n",
    "total_pos = 0\n",
    "total_elo = 0\n",
    "game_count = Counter()\n",
    "\n",
    "pgn_path = 'data/lichess_db_standard_rated_2013-02.pgn'"
   ]
  },
  {
   "cell_type": "code",
   "execution_count": 15,
   "metadata": {},
   "outputs": [],
   "source": [
    "import chess.pgn\n",
    "\n",
    "with open(pgn_path) as pgn:\n",
    "    while game := chess.pgn.read_game(pgn):\n",
    "        total_games += 1\n",
    "        white_elo = game.headers['WhiteElo']\n",
    "        black_elo = game.headers['BlackElo']\n",
    "        if '?' not in white_elo and '?' not in black_elo:\n",
    "            total_elo += int(white_elo)\n",
    "            total_elo += int(black_elo)\n",
    "            valid_elo += 1\n",
    "        game_count[game.headers['Event']] += 1"
   ]
  },
  {
   "cell_type": "code",
   "execution_count": 19,
   "metadata": {},
   "outputs": [
    {
     "name": "stdout",
     "output_type": "stream",
     "text": [
      "Total games 245293\n",
      "Average ELO 1594.5634701202948\n"
     ]
    }
   ],
   "source": [
    "print('Total games', total_games)\n",
    "avg_elo = total_elo / (2 * valid_elo)\n",
    "print('Average ELO', avg_elo)"
   ]
  },
  {
   "cell_type": "code",
   "execution_count": 20,
   "metadata": {},
   "outputs": [],
   "source": [
    "variance = 0\n",
    "\n",
    "with open(pgn_path) as pgn:\n",
    "    while game := chess.pgn.read_game(pgn):\n",
    "        total_games += 1\n",
    "        white_elo = game.headers['WhiteElo']\n",
    "        black_elo = game.headers['BlackElo']\n",
    "        if '?' not in white_elo and '?' not in black_elo:\n",
    "            variance += (int(white_elo) - avg_elo) ** 2\n",
    "            variance += (int(black_elo) - avg_elo) ** 2\n",
    "        game_count[game.headers['Event']] += 1"
   ]
  },
  {
   "cell_type": "code",
   "execution_count": 21,
   "metadata": {},
   "outputs": [
    {
     "name": "stdout",
     "output_type": "stream",
     "text": [
      "SD 297.6346612884856\n"
     ]
    }
   ],
   "source": [
    "import math\n",
    "\n",
    "print('SD', math.sqrt(variance / valid_elo))"
   ]
  }
 ],
 "metadata": {
  "interpreter": {
   "hash": "6355374956c5778604016e244f979cc331398a530384f2842e5bccfbc3abef60"
  },
  "kernelspec": {
   "display_name": "Python 3.10.0 ('tactics')",
   "language": "python",
   "name": "python3"
  },
  "language_info": {
   "codemirror_mode": {
    "name": "ipython",
    "version": 3
   },
   "file_extension": ".py",
   "mimetype": "text/x-python",
   "name": "python",
   "nbconvert_exporter": "python",
   "pygments_lexer": "ipython3",
   "version": "3.10.0"
  },
  "orig_nbformat": 4
 },
 "nbformat": 4,
 "nbformat_minor": 2
}
