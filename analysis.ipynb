{
 "cells": [
  {
   "cell_type": "markdown",
   "metadata": {},
   "source": [
    "# Import required libraries"
   ]
  },
  {
   "cell_type": "code",
   "execution_count": 1,
   "metadata": {},
   "outputs": [],
   "source": [
    "import numpy as np\n",
    "import pandas as pd\n",
    "import matplotlib.pyplot as plt"
   ]
  },
  {
   "cell_type": "markdown",
   "metadata": {},
   "source": [
    "# Load data"
   ]
  },
  {
   "cell_type": "code",
   "execution_count": 2,
   "metadata": {},
   "outputs": [],
   "source": [
    "data_filename = 'tactics/data/stats/metrics_test_t_m1600.csv'\n",
    "df = pd.read_csv(data_filename)"
   ]
  },
  {
   "cell_type": "code",
   "execution_count": 3,
   "metadata": {},
   "outputs": [
    {
     "data": {
      "text/html": [
       "<div>\n",
       "<style scoped>\n",
       "    .dataframe tbody tr th:only-of-type {\n",
       "        vertical-align: middle;\n",
       "    }\n",
       "\n",
       "    .dataframe tbody tr th {\n",
       "        vertical-align: top;\n",
       "    }\n",
       "\n",
       "    .dataframe thead th {\n",
       "        text-align: right;\n",
       "    }\n",
       "</style>\n",
       "<table border=\"1\" class=\"dataframe\">\n",
       "  <thead>\n",
       "    <tr style=\"text-align: right;\">\n",
       "      <th></th>\n",
       "      <th>match</th>\n",
       "      <th>num_suggestions</th>\n",
       "      <th>correct_move</th>\n",
       "      <th>tactic_ground_div</th>\n",
       "      <th>tactic_ground_avg</th>\n",
       "    </tr>\n",
       "  </thead>\n",
       "  <tbody>\n",
       "    <tr>\n",
       "      <th>count</th>\n",
       "      <td>8880.000000</td>\n",
       "      <td>2647.000000</td>\n",
       "      <td>2647.000000</td>\n",
       "      <td>2647.000000</td>\n",
       "      <td>2647.000000</td>\n",
       "    </tr>\n",
       "    <tr>\n",
       "      <th>mean</th>\n",
       "      <td>0.298086</td>\n",
       "      <td>22.010578</td>\n",
       "      <td>0.768417</td>\n",
       "      <td>106.727047</td>\n",
       "      <td>224.054478</td>\n",
       "    </tr>\n",
       "    <tr>\n",
       "      <th>std</th>\n",
       "      <td>0.457443</td>\n",
       "      <td>17.849985</td>\n",
       "      <td>0.421924</td>\n",
       "      <td>169.310635</td>\n",
       "      <td>299.838531</td>\n",
       "    </tr>\n",
       "    <tr>\n",
       "      <th>min</th>\n",
       "      <td>0.000000</td>\n",
       "      <td>1.000000</td>\n",
       "      <td>0.000000</td>\n",
       "      <td>0.000000</td>\n",
       "      <td>0.000000</td>\n",
       "    </tr>\n",
       "    <tr>\n",
       "      <th>25%</th>\n",
       "      <td>0.000000</td>\n",
       "      <td>2.000000</td>\n",
       "      <td>1.000000</td>\n",
       "      <td>4.873477</td>\n",
       "      <td>14.100000</td>\n",
       "    </tr>\n",
       "    <tr>\n",
       "      <th>50%</th>\n",
       "      <td>0.000000</td>\n",
       "      <td>23.000000</td>\n",
       "      <td>1.000000</td>\n",
       "      <td>31.841126</td>\n",
       "      <td>86.470588</td>\n",
       "    </tr>\n",
       "    <tr>\n",
       "      <th>75%</th>\n",
       "      <td>1.000000</td>\n",
       "      <td>35.000000</td>\n",
       "      <td>1.000000</td>\n",
       "      <td>175.299027</td>\n",
       "      <td>272.812500</td>\n",
       "    </tr>\n",
       "    <tr>\n",
       "      <th>max</th>\n",
       "      <td>1.000000</td>\n",
       "      <td>57.000000</td>\n",
       "      <td>1.000000</td>\n",
       "      <td>1086.000000</td>\n",
       "      <td>1086.000000</td>\n",
       "    </tr>\n",
       "  </tbody>\n",
       "</table>\n",
       "</div>"
      ],
      "text/plain": [
       "             match  num_suggestions  correct_move  tactic_ground_div  \\\n",
       "count  8880.000000      2647.000000   2647.000000        2647.000000   \n",
       "mean      0.298086        22.010578      0.768417         106.727047   \n",
       "std       0.457443        17.849985      0.421924         169.310635   \n",
       "min       0.000000         1.000000      0.000000           0.000000   \n",
       "25%       0.000000         2.000000      1.000000           4.873477   \n",
       "50%       0.000000        23.000000      1.000000          31.841126   \n",
       "75%       1.000000        35.000000      1.000000         175.299027   \n",
       "max       1.000000        57.000000      1.000000        1086.000000   \n",
       "\n",
       "       tactic_ground_avg  \n",
       "count        2647.000000  \n",
       "mean          224.054478  \n",
       "std           299.838531  \n",
       "min             0.000000  \n",
       "25%            14.100000  \n",
       "50%            86.470588  \n",
       "75%           272.812500  \n",
       "max          1086.000000  "
      ]
     },
     "execution_count": 3,
     "metadata": {},
     "output_type": "execute_result"
    }
   ],
   "source": [
    "df.describe()"
   ]
  },
  {
   "cell_type": "markdown",
   "metadata": {},
   "source": [
    "## Generate graphs"
   ]
  },
  {
   "cell_type": "code",
   "execution_count": 4,
   "metadata": {},
   "outputs": [],
   "source": [
    "def calculate_metrics(df): # TODO: refactor this and the method in analysis.py\n",
    "    agg = df.groupby('tactic_text').aggregate(np.nansum).reset_index()\n",
    "    agg['avg_tactic_ground_avg'] = agg['tactic_ground_avg'] / agg['match']\n",
    "    agg['coverage'] = agg['match'] / df.groupby(['position', 'move']).ngroups\n",
    "    agg['accuracy'] = agg['correct_move'] / agg['match']\n",
    "    return agg"
   ]
  },
  {
   "cell_type": "code",
   "execution_count": 8,
   "metadata": {},
   "outputs": [],
   "source": [
    "def generate_frequency_graph(df, metric_fname: str, title: str='?', xlabel: str=None, bins: int=20, left: int=0, right=None):\n",
    "    mask = df['tactic_text'].isin(['ground', 'sf15', 'maia_1600', 'random'])\n",
    "    df_masked = df[~mask]\n",
    "    plt.hist(df_masked[metric_fname], bins=bins) # exclude default tactics from histogram\n",
    "    plt.axvline(df[df['tactic_text'] == \"random\"][metric_fname].values, linestyle='dashed', color='blue', label='random move tactic')\n",
    "    plt.axvline(df[df['tactic_text'] == \"ground\"][metric_fname].values, linestyle='dashed', color='green', label='ground move tactic')\n",
    "    plt.axvline(df[df['tactic_text'] == \"sf15\"][metric_fname].values, linestyle='dashed', color='red', label='sf15 move tactic')\n",
    "    plt.axvline(df[df['tactic_text'] == \"maia_1600\"][metric_fname].values, linestyle='dashed', color='magenta', label='maia-1600 move tactic')\n",
    "    plt.title(f'Histogram of {title}')\n",
    "    plt.xlabel(xlabel if xlabel else metric_fname)\n",
    "    plt.ylabel('Frequency')\n",
    "    plt.xlim(left=left, right=right)\n",
    "    plt.legend(loc=1)\n",
    "    plt.show()"
   ]
  },
  {
   "cell_type": "code",
   "execution_count": 6,
   "metadata": {},
   "outputs": [],
   "source": [
    "df_metrics = calculate_metrics(df)"
   ]
  },
  {
   "cell_type": "code",
   "execution_count": 9,
   "metadata": {},
   "outputs": [
    {
     "data": {
      "image/png": "[encoded data removed]",
      "text/plain": [
       "<Figure size 640x480 with 1 Axes>"
      ]
     },
     "metadata": {},
     "output_type": "display_data"
    }
   ],
   "source": [
    "generate_frequency_graph(df_metrics, 'avg_tactic_ground_avg', \"Divergence $(T,$ Maia-1600, $P_{test})$\", \"Divergence (Cp)\", left=-10)"
   ]
  },
  {
   "cell_type": "code",
   "execution_count": 10,
   "metadata": {},
   "outputs": [
    {
     "data": {
      "image/png": "[encoded data removed]",
      "text/plain": [
       "<Figure size 640x480 with 1 Axes>"
      ]
     },
     "metadata": {},
     "output_type": "display_data"
    }
   ],
   "source": [
    "generate_frequency_graph(df_metrics, 'coverage', \"Coverage $(T,$ $P_{test})$\", \"Coverage\")"
   ]
  },
  {
   "cell_type": "code",
   "execution_count": 11,
   "metadata": {},
   "outputs": [
    {
     "data": {
      "image/png": "[encoded data removed]",
      "text/plain": [
       "<Figure size 640x480 with 1 Axes>"
      ]
     },
     "metadata": {},
     "output_type": "display_data"
    }
   ],
   "source": [
    "generate_frequency_graph(df_metrics, 'accuracy', \"Accuracy $(T,$ $P_{test})$\", \"Accuracy\", left=-0.1, right=1.1)"
   ]
  },
  {
   "cell_type": "code",
   "execution_count": 20,
   "metadata": {},
   "outputs": [
    {
     "data": {
      "text/html": [
       "<div>\n",
       "<style scoped>\n",
       "    .dataframe tbody tr th:only-of-type {\n",
       "        vertical-align: middle;\n",
       "    }\n",
       "\n",
       "    .dataframe tbody tr th {\n",
       "        vertical-align: top;\n",
       "    }\n",
       "\n",
       "    .dataframe thead th {\n",
       "        text-align: right;\n",
       "    }\n",
       "</style>\n",
       "<table border=\"1\" class=\"dataframe\">\n",
       "  <thead>\n",
       "    <tr style=\"text-align: right;\">\n",
       "      <th></th>\n",
       "      <th>tactic_text</th>\n",
       "      <th>match</th>\n",
       "      <th>num_suggestions</th>\n",
       "      <th>correct_move</th>\n",
       "      <th>tactic_ground_div</th>\n",
       "      <th>tactic_ground_avg</th>\n",
       "      <th>avg_tactic_ground_avg</th>\n",
       "      <th>coverage</th>\n",
       "      <th>accuracy</th>\n",
       "    </tr>\n",
       "  </thead>\n",
       "  <tbody>\n",
       "    <tr>\n",
       "      <th>877</th>\n",
       "      <td>ground</td>\n",
       "      <td>10</td>\n",
       "      <td>10.0</td>\n",
       "      <td>10.0</td>\n",
       "      <td>0.000000</td>\n",
       "      <td>0.000000</td>\n",
       "      <td>0.000000</td>\n",
       "      <td>1.0</td>\n",
       "      <td>1.0</td>\n",
       "    </tr>\n",
       "    <tr>\n",
       "      <th>878</th>\n",
       "      <td>maia_1600</td>\n",
       "      <td>10</td>\n",
       "      <td>10.0</td>\n",
       "      <td>7.0</td>\n",
       "      <td>24.000000</td>\n",
       "      <td>24.000000</td>\n",
       "      <td>2.400000</td>\n",
       "      <td>1.0</td>\n",
       "      <td>0.7</td>\n",
       "    </tr>\n",
       "    <tr>\n",
       "      <th>880</th>\n",
       "      <td>sf15</td>\n",
       "      <td>10</td>\n",
       "      <td>10.0</td>\n",
       "      <td>4.0</td>\n",
       "      <td>324.000000</td>\n",
       "      <td>324.000000</td>\n",
       "      <td>32.400000</td>\n",
       "      <td>1.0</td>\n",
       "      <td>0.4</td>\n",
       "    </tr>\n",
       "    <tr>\n",
       "      <th>357</th>\n",
       "      <td>f(A,B):-legal_move(A,B),queenside_castle(A,C),...</td>\n",
       "      <td>4</td>\n",
       "      <td>36.0</td>\n",
       "      <td>0.0</td>\n",
       "      <td>107.137406</td>\n",
       "      <td>171.256566</td>\n",
       "      <td>42.814141</td>\n",
       "      <td>0.4</td>\n",
       "      <td>0.0</td>\n",
       "    </tr>\n",
       "    <tr>\n",
       "      <th>197</th>\n",
       "      <td>f(A,B):-kingside_castle(A,C),legal_move(A,B),i...</td>\n",
       "      <td>4</td>\n",
       "      <td>36.0</td>\n",
       "      <td>0.0</td>\n",
       "      <td>107.137406</td>\n",
       "      <td>171.256566</td>\n",
       "      <td>42.814141</td>\n",
       "      <td>0.4</td>\n",
       "      <td>0.0</td>\n",
       "    </tr>\n",
       "    <tr>\n",
       "      <th>...</th>\n",
       "      <td>...</td>\n",
       "      <td>...</td>\n",
       "      <td>...</td>\n",
       "      <td>...</td>\n",
       "      <td>...</td>\n",
       "      <td>...</td>\n",
       "      <td>...</td>\n",
       "      <td>...</td>\n",
       "      <td>...</td>\n",
       "    </tr>\n",
       "    <tr>\n",
       "      <th>800</th>\n",
       "      <td>f(A,B):-pseudo_legal_move(A,D),make_move(A,D,C...</td>\n",
       "      <td>10</td>\n",
       "      <td>480.0</td>\n",
       "      <td>0.0</td>\n",
       "      <td>2585.871418</td>\n",
       "      <td>9739.000000</td>\n",
       "      <td>973.900000</td>\n",
       "      <td>1.0</td>\n",
       "      <td>0.0</td>\n",
       "    </tr>\n",
       "    <tr>\n",
       "      <th>798</th>\n",
       "      <td>f(A,B):-pseudo_legal_move(A,D),make_move(A,D,C...</td>\n",
       "      <td>10</td>\n",
       "      <td>49.0</td>\n",
       "      <td>0.0</td>\n",
       "      <td>5982.461488</td>\n",
       "      <td>9739.000000</td>\n",
       "      <td>973.900000</td>\n",
       "      <td>1.0</td>\n",
       "      <td>0.0</td>\n",
       "    </tr>\n",
       "    <tr>\n",
       "      <th>797</th>\n",
       "      <td>f(A,B):-pseudo_legal_move(A,D),make_move(A,D,C...</td>\n",
       "      <td>10</td>\n",
       "      <td>480.0</td>\n",
       "      <td>0.0</td>\n",
       "      <td>2585.871418</td>\n",
       "      <td>9739.000000</td>\n",
       "      <td>973.900000</td>\n",
       "      <td>1.0</td>\n",
       "      <td>0.0</td>\n",
       "    </tr>\n",
       "    <tr>\n",
       "      <th>399</th>\n",
       "      <td>f(A,B):-legal_move(A,D),make_move(A,D,C),castl...</td>\n",
       "      <td>3</td>\n",
       "      <td>4.0</td>\n",
       "      <td>0.0</td>\n",
       "      <td>2746.649412</td>\n",
       "      <td>2931.000000</td>\n",
       "      <td>977.000000</td>\n",
       "      <td>0.3</td>\n",
       "      <td>0.0</td>\n",
       "    </tr>\n",
       "    <tr>\n",
       "      <th>796</th>\n",
       "      <td>f(A,B):-pseudo_legal_move(A,D),make_move(A,D,C...</td>\n",
       "      <td>3</td>\n",
       "      <td>4.0</td>\n",
       "      <td>0.0</td>\n",
       "      <td>2746.649412</td>\n",
       "      <td>2931.000000</td>\n",
       "      <td>977.000000</td>\n",
       "      <td>0.3</td>\n",
       "      <td>0.0</td>\n",
       "    </tr>\n",
       "  </tbody>\n",
       "</table>\n",
       "<p>256 rows × 9 columns</p>\n",
       "</div>"
      ],
      "text/plain": [
       "                                           tactic_text  match  \\\n",
       "877                                             ground     10   \n",
       "878                                          maia_1600     10   \n",
       "880                                               sf15     10   \n",
       "357  f(A,B):-legal_move(A,B),queenside_castle(A,C),...      4   \n",
       "197  f(A,B):-kingside_castle(A,C),legal_move(A,B),i...      4   \n",
       "..                                                 ...    ...   \n",
       "800  f(A,B):-pseudo_legal_move(A,D),make_move(A,D,C...     10   \n",
       "798  f(A,B):-pseudo_legal_move(A,D),make_move(A,D,C...     10   \n",
       "797  f(A,B):-pseudo_legal_move(A,D),make_move(A,D,C...     10   \n",
       "399  f(A,B):-legal_move(A,D),make_move(A,D,C),castl...      3   \n",
       "796  f(A,B):-pseudo_legal_move(A,D),make_move(A,D,C...      3   \n",
       "\n",
       "     num_suggestions  correct_move  tactic_ground_div  tactic_ground_avg  \\\n",
       "877             10.0          10.0           0.000000           0.000000   \n",
       "878             10.0           7.0          24.000000          24.000000   \n",
       "880             10.0           4.0         324.000000         324.000000   \n",
       "357             36.0           0.0         107.137406         171.256566   \n",
       "197             36.0           0.0         107.137406         171.256566   \n",
       "..               ...           ...                ...                ...   \n",
       "800            480.0           0.0        2585.871418        9739.000000   \n",
       "798             49.0           0.0        5982.461488        9739.000000   \n",
       "797            480.0           0.0        2585.871418        9739.000000   \n",
       "399              4.0           0.0        2746.649412        2931.000000   \n",
       "796              4.0           0.0        2746.649412        2931.000000   \n",
       "\n",
       "     avg_tactic_ground_avg  coverage  accuracy  \n",
       "877               0.000000       1.0       1.0  \n",
       "878               2.400000       1.0       0.7  \n",
       "880              32.400000       1.0       0.4  \n",
       "357              42.814141       0.4       0.0  \n",
       "197              42.814141       0.4       0.0  \n",
       "..                     ...       ...       ...  \n",
       "800             973.900000       1.0       0.0  \n",
       "798             973.900000       1.0       0.0  \n",
       "797             973.900000       1.0       0.0  \n",
       "399             977.000000       0.3       0.0  \n",
       "796             977.000000       0.3       0.0  \n",
       "\n",
       "[256 rows x 9 columns]"
      ]
     },
     "execution_count": 20,
     "metadata": {},
     "output_type": "execute_result"
    }
   ],
   "source": [
    "final = df_metrics.sort_values(by = ['avg_tactic_ground_avg'], ascending = [True])\n",
    "final[final['coverage'] > 0.2]"
   ]
  },
  {
   "cell_type": "code",
   "execution_count": null,
   "metadata": {},
   "outputs": [],
   "source": []
  },
  {
   "cell_type": "markdown",
   "metadata": {},
   "source": [
    "# Analyze Position Features"
   ]
  },
  {
   "cell_type": "code",
   "execution_count": null,
   "metadata": {},
   "outputs": [],
   "source": [
    "df['pos_move'] = df['position'] + \",\" + df['move']"
   ]
  },
  {
   "cell_type": "code",
   "execution_count": null,
   "metadata": {},
   "outputs": [],
   "source": [
    "df2 = df.groupby('pos_move')\n",
    "agg = df2.aggregate(np.sum)\n",
    "agg"
   ]
  },
  {
   "cell_type": "code",
   "execution_count": null,
   "metadata": {},
   "outputs": [],
   "source": [
    "plt.hist(agg['exec_time'], bins=100)\n",
    "plt.title('Histogram of Execution Time $(T_{1600},$ Stockfish 14, $P_{valid})$')\n",
    "plt.xlabel('Execution Time (s)')\n",
    "plt.ylabel('Frequency')"
   ]
  },
  {
   "cell_type": "code",
   "execution_count": null,
   "metadata": {},
   "outputs": [],
   "source": [
    "high_exec = agg[agg['exec_time'] > 100]\n",
    "high_exec = high_exec.sort_values(by = ['exec_time'], ascending = [False])\n",
    "high_exec"
   ]
  },
  {
   "cell_type": "code",
   "execution_count": null,
   "metadata": {},
   "outputs": [],
   "source": [
    "low_exec = agg[agg['exec_time'] <= 100]\n",
    "plt.hist(low_exec['exec_time'], bins=100)\n",
    "plt.title('Histogram of Execution Time $(T_{1600},$ Stockfish 14, $P_{valid})$')\n",
    "plt.xlabel('Execution Time (s)')\n",
    "plt.ylabel('Frequency')"
   ]
  },
  {
   "cell_type": "code",
   "execution_count": null,
   "metadata": {},
   "outputs": [],
   "source": [
    "num_exs = [1, 5, 20, 100]\n",
    "time_vals = [27.5, 60 + 33, 60 * 6 + 33, 33 * 60 + 8]\n",
    "num_tactics = [9, 117, 469, 837]"
   ]
  },
  {
   "cell_type": "code",
   "execution_count": null,
   "metadata": {},
   "outputs": [],
   "source": [
    "plt.plot(num_exs, time_vals)\n",
    "plt.xlabel('Number of train examples')\n",
    "plt.ylabel('Execution time (s)')\n",
    "plt.show()"
   ]
  },
  {
   "cell_type": "code",
   "execution_count": null,
   "metadata": {},
   "outputs": [],
   "source": [
    "plt.plot(num_exs, num_tactics)\n",
    "plt.xlabel('Number of train examples')\n",
    "plt.ylabel('Number of tactics learned')\n",
    "plt.show()"
   ]
  },
  {
   "cell_type": "code",
   "execution_count": null,
   "metadata": {},
   "outputs": [],
   "source": [
    "plt.plot(num_tactics, time_vals)\n",
    "plt.xlabel('Number of tactics learned')\n",
    "plt.ylabel('Execution time (s)')\n",
    "plt.show()"
   ]
  },
  {
   "cell_type": "markdown",
   "metadata": {},
   "source": [
    "# Calculate Dataset Metrics"
   ]
  },
  {
   "cell_type": "code",
   "execution_count": null,
   "metadata": {},
   "outputs": [],
   "source": [
    "from collections import Counter\n",
    "\n",
    "total_games = 0\n",
    "valid_elo = 0\n",
    "total_pos = 0\n",
    "total_elo = 0\n",
    "game_count = Counter()\n",
    "\n",
    "pgn_path = 'tactics/data/lichess_db_standard_rated_2013-01.pgn'"
   ]
  },
  {
   "cell_type": "code",
   "execution_count": null,
   "metadata": {},
   "outputs": [],
   "source": [
    "offsets = []\n",
    "handle = open(pgn_path)\n",
    "header = chess.pgn.read_headers(handle)"
   ]
  },
  {
   "cell_type": "code",
   "execution_count": null,
   "metadata": {},
   "outputs": [],
   "source": [
    "header.get('Termination')\n"
   ]
  },
  {
   "cell_type": "code",
   "execution_count": null,
   "metadata": {},
   "outputs": [],
   "source": [
    "import chess.pgn\n",
    "\n",
    "with open(pgn_path) as pgn:\n",
    "    while game := chess.pgn.read_game(pgn):\n",
    "        total_games += 1\n",
    "        white_elo = game.headers['WhiteElo']\n",
    "        black_elo = game.headers['BlackElo']\n",
    "        if '?' not in white_elo and '?' not in black_elo:\n",
    "            total_elo += int(white_elo)\n",
    "            total_elo += int(black_elo)\n",
    "            valid_elo += 1\n",
    "        game_count[game.headers['Event']] += 1"
   ]
  },
  {
   "cell_type": "code",
   "execution_count": null,
   "metadata": {},
   "outputs": [],
   "source": [
    "print('Total games', total_games)\n",
    "avg_elo = total_elo / (2 * valid_elo)\n",
    "print('Average ELO', avg_elo)"
   ]
  },
  {
   "cell_type": "code",
   "execution_count": null,
   "metadata": {},
   "outputs": [],
   "source": [
    "variance = 0\n",
    "\n",
    "with open(pgn_path) as pgn:\n",
    "    while game := chess.pgn.read_game(pgn):\n",
    "        total_games += 1\n",
    "        white_elo = game.headers['WhiteElo']\n",
    "        black_elo = game.headers['BlackElo']\n",
    "        if '?' not in white_elo and '?' not in black_elo:\n",
    "            variance += (int(white_elo) - avg_elo) ** 2\n",
    "            variance += (int(black_elo) - avg_elo) ** 2\n",
    "        game_count[game.headers['Event']] += 1"
   ]
  },
  {
   "cell_type": "code",
   "execution_count": null,
   "metadata": {},
   "outputs": [],
   "source": [
    "import math\n",
    "\n",
    "print('SD', math.sqrt(variance / valid_elo))"
   ]
  },
  {
   "cell_type": "markdown",
   "metadata": {},
   "source": [
    "# Test Evaluation"
   ]
  },
  {
   "cell_type": "code",
   "execution_count": null,
   "metadata": {},
   "outputs": [],
   "source": [
    "import chess\n",
    "import chess.engine\n",
    "from tactics.util import *\n",
    "\n",
    "board = chess.Board('r1bqkb1r/ppp1pnpp/3p4/7Q/8/3B4/PPP2PPP/RNB2RK1 w kq - 0 10')\n",
    "move_names = [\n",
    "    'b1c3',\n",
    "    'c1g5',\n",
    "    'd3c4',\n",
    "    'f1e1'\n",
    "]\n",
    "moves = [chess.Move.from_uci(move_name) for move_name in move_names]\n",
    "engine_path = get_lc0_cmd(LC0, MAIA_1600) + ['--nncache=0']\n",
    "#engine_path = STOCKFISH\n",
    "mate_score = 2000\n",
    "n = 10"
   ]
  },
  {
   "cell_type": "code",
   "execution_count": null,
   "metadata": {},
   "outputs": [],
   "source": [
    "with chess.engine.SimpleEngine.popen_uci(engine_path) as engine:\n",
    "    tmp_analysis = engine.analyse(board, limit=chess.engine.Limit(nodes=1), multipv=n, game=object())\n",
    "    top_results = [(root['pv'][0], root['score'].relative.score(mate_score=mate_score)) for root in tmp_analysis]\n",
    "    top_n_results = top_results[:n]\n",
    "top_n_results"
   ]
  },
  {
   "cell_type": "code",
   "execution_count": null,
   "metadata": {},
   "outputs": [],
   "source": [
    "with chess.engine.SimpleEngine.popen_uci(engine_path) as engine:\n",
    "    all_evals = get_evals(engine, board, board.legal_moves)\n",
    "    all_evals.sort(key=lambda eval: eval[1], reverse=True)\n",
    "    top_n_results = all_evals[:n]\n",
    "top_n_results"
   ]
  },
  {
   "cell_type": "code",
   "execution_count": null,
   "metadata": {},
   "outputs": [],
   "source": [
    "def get_evals(engine: chess.engine.SimpleEngine, board: chess.Board, suggestions: List[chess.Move], mate_score: int=2000) -> List[Tuple[chess.Move, int]]:\n",
    "    \"Obtain engine evaluations for a list of moves in a given position\"\n",
    "\n",
    "    evals = []\n",
    "    for move in suggestions:\n",
    "        tmp_board = chess.Board(board.fen())\n",
    "        tmp_board.push(move)\n",
    "        if tmp_board.outcome() is not None:\n",
    "            move_score = mate_score if tmp_board.is_checkmate() else -mate_score\n",
    "            evals.append((move, move_score))\n",
    "            continue\n",
    "        limit = chess.engine.Limit(nodes=1)\n",
    "        # prev_eval = engine.analyse(board, limit=limit, game=object()) # https://stackoverflow.com/a/66251120\n",
    "        # print(prev_eval) \n",
    "        curr_eval = engine.analyse(tmp_board, limit=limit, game=object())\n",
    "        print(curr_eval)\n",
    "        orig_turn = board.turn\n",
    "        if 'pv' in curr_eval:\n",
    "            # prev_score = prev_eval['score'].pov(orig_turn)\n",
    "            curr_score = curr_eval['score'].pov(orig_turn)\n",
    "            move_score = curr_score.score(mate_score=mate_score)\n",
    "            evals.append((move, move_score))\n",
    "    return evals"
   ]
  },
  {
   "cell_type": "code",
   "execution_count": null,
   "metadata": {},
   "outputs": [],
   "source": [
    "with chess.engine.SimpleEngine.popen_uci(engine_path) as engine:\n",
    "    evals = get_evals(engine, board, moves)\n",
    "evals"
   ]
  }
 ],
 "metadata": {
  "kernelspec": {
   "display_name": "Python 3",
   "language": "python",
   "name": "python3"
  },
  "language_info": {
   "codemirror_mode": {
    "name": "ipython",
    "version": 3
   },
   "file_extension": ".py",
   "mimetype": "text/x-python",
   "name": "python",
   "nbconvert_exporter": "python",
   "pygments_lexer": "ipython3",
   "version": "3.10.8 (main, Nov  4 2022, 13:48:29) [GCC 11.2.0]"
  },
  "orig_nbformat": 4,
  "vscode": {
   "interpreter": {
    "hash": "5e324cb5850aaaec487f27f03ba9eba2477cd58aa23b6276a6301c881a1db4aa"
   }
  }
 },
 "nbformat": 4,
 "nbformat_minor": 2
}
