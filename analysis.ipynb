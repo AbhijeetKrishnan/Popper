{
 "cells": [
  {
   "cell_type": "markdown",
   "metadata": {},
   "source": [
    "# Import required libraries"
   ]
  },
  {
   "cell_type": "code",
   "execution_count": 1,
   "metadata": {},
   "outputs": [],
   "source": [
    "import numpy as np\n",
    "import pandas as pd\n",
    "import matplotlib.pyplot as plt"
   ]
  },
  {
   "cell_type": "markdown",
   "metadata": {},
   "source": [
    "# Load data"
   ]
  },
  {
   "cell_type": "code",
   "execution_count": 2,
   "metadata": {},
   "outputs": [],
   "source": [
    "data_filename = 'tactics/data/stats/metrics_valid_maia1600.csv'\n",
    "df = pd.read_csv(data_filename)"
   ]
  },
  {
   "cell_type": "markdown",
   "metadata": {},
   "source": [
    "# Do analysis"
   ]
  },
  {
   "cell_type": "code",
   "execution_count": 3,
   "metadata": {},
   "outputs": [
    {
     "data": {
      "text/html": [
       "<div>\n",
       "<style scoped>\n",
       "    .dataframe tbody tr th:only-of-type {\n",
       "        vertical-align: middle;\n",
       "    }\n",
       "\n",
       "    .dataframe tbody tr th {\n",
       "        vertical-align: top;\n",
       "    }\n",
       "\n",
       "    .dataframe thead th {\n",
       "        text-align: right;\n",
       "    }\n",
       "</style>\n",
       "<table border=\"1\" class=\"dataframe\">\n",
       "  <thead>\n",
       "    <tr style=\"text-align: right;\">\n",
       "      <th></th>\n",
       "      <th>match</th>\n",
       "      <th>num_suggestions</th>\n",
       "      <th>correct_move</th>\n",
       "      <th>tactic_ground_div</th>\n",
       "      <th>tactic_ground_avg</th>\n",
       "    </tr>\n",
       "  </thead>\n",
       "  <tbody>\n",
       "    <tr>\n",
       "      <th>count</th>\n",
       "      <td>8390.000000</td>\n",
       "      <td>4567.000000</td>\n",
       "      <td>4567.000000</td>\n",
       "      <td>4567.000000</td>\n",
       "      <td>4567.000000</td>\n",
       "    </tr>\n",
       "    <tr>\n",
       "      <th>mean</th>\n",
       "      <td>0.544338</td>\n",
       "      <td>2.713817</td>\n",
       "      <td>0.128312</td>\n",
       "      <td>315.504708</td>\n",
       "      <td>315.504708</td>\n",
       "    </tr>\n",
       "    <tr>\n",
       "      <th>std</th>\n",
       "      <td>0.498060</td>\n",
       "      <td>0.575633</td>\n",
       "      <td>0.334473</td>\n",
       "      <td>288.584141</td>\n",
       "      <td>288.584141</td>\n",
       "    </tr>\n",
       "    <tr>\n",
       "      <th>min</th>\n",
       "      <td>0.000000</td>\n",
       "      <td>1.000000</td>\n",
       "      <td>0.000000</td>\n",
       "      <td>0.000000</td>\n",
       "      <td>0.000000</td>\n",
       "    </tr>\n",
       "    <tr>\n",
       "      <th>25%</th>\n",
       "      <td>0.000000</td>\n",
       "      <td>3.000000</td>\n",
       "      <td>0.000000</td>\n",
       "      <td>64.000000</td>\n",
       "      <td>64.000000</td>\n",
       "    </tr>\n",
       "    <tr>\n",
       "      <th>50%</th>\n",
       "      <td>1.000000</td>\n",
       "      <td>3.000000</td>\n",
       "      <td>0.000000</td>\n",
       "      <td>192.000000</td>\n",
       "      <td>192.000000</td>\n",
       "    </tr>\n",
       "    <tr>\n",
       "      <th>75%</th>\n",
       "      <td>1.000000</td>\n",
       "      <td>3.000000</td>\n",
       "      <td>0.000000</td>\n",
       "      <td>597.000000</td>\n",
       "      <td>597.000000</td>\n",
       "    </tr>\n",
       "    <tr>\n",
       "      <th>max</th>\n",
       "      <td>1.000000</td>\n",
       "      <td>3.000000</td>\n",
       "      <td>1.000000</td>\n",
       "      <td>840.000000</td>\n",
       "      <td>840.000000</td>\n",
       "    </tr>\n",
       "  </tbody>\n",
       "</table>\n",
       "</div>"
      ],
      "text/plain": [
       "             match  num_suggestions  correct_move  tactic_ground_div  \\\n",
       "count  8390.000000      4567.000000   4567.000000        4567.000000   \n",
       "mean      0.544338         2.713817      0.128312         315.504708   \n",
       "std       0.498060         0.575633      0.334473         288.584141   \n",
       "min       0.000000         1.000000      0.000000           0.000000   \n",
       "25%       0.000000         3.000000      0.000000          64.000000   \n",
       "50%       1.000000         3.000000      0.000000         192.000000   \n",
       "75%       1.000000         3.000000      0.000000         597.000000   \n",
       "max       1.000000         3.000000      1.000000         840.000000   \n",
       "\n",
       "       tactic_ground_avg  \n",
       "count        4567.000000  \n",
       "mean          315.504708  \n",
       "std           288.584141  \n",
       "min             0.000000  \n",
       "25%            64.000000  \n",
       "50%           192.000000  \n",
       "75%           597.000000  \n",
       "max           840.000000  "
      ]
     },
     "execution_count": 3,
     "metadata": {},
     "output_type": "execute_result"
    }
   ],
   "source": [
    "df.describe()"
   ]
  },
  {
   "cell_type": "markdown",
   "metadata": {},
   "source": [
    "## Group by tactic"
   ]
  },
  {
   "cell_type": "code",
   "execution_count": 38,
   "metadata": {},
   "outputs": [
    {
     "data": {
      "text/html": [
       "<div>\n",
       "<style scoped>\n",
       "    .dataframe tbody tr th:only-of-type {\n",
       "        vertical-align: middle;\n",
       "    }\n",
       "\n",
       "    .dataframe tbody tr th {\n",
       "        vertical-align: top;\n",
       "    }\n",
       "\n",
       "    .dataframe thead th {\n",
       "        text-align: right;\n",
       "    }\n",
       "</style>\n",
       "<table border=\"1\" class=\"dataframe\">\n",
       "  <thead>\n",
       "    <tr style=\"text-align: right;\">\n",
       "      <th></th>\n",
       "      <th>tactic_text</th>\n",
       "      <th>match</th>\n",
       "      <th>num_suggestions</th>\n",
       "      <th>correct_move</th>\n",
       "      <th>tactic_ground_div</th>\n",
       "      <th>tactic_ground_avg</th>\n",
       "    </tr>\n",
       "  </thead>\n",
       "  <tbody>\n",
       "    <tr>\n",
       "      <th>1</th>\n",
       "      <td>f(A,B,C):-legal_move(B,C,A)</td>\n",
       "      <td>10</td>\n",
       "      <td>30.0</td>\n",
       "      <td>1.0</td>\n",
       "      <td>1961.0</td>\n",
       "      <td>1961.0</td>\n",
       "    </tr>\n",
       "    <tr>\n",
       "      <th>2</th>\n",
       "      <td>f(A,B,C):-legal_move(B,C,A),attacks(B,C,A)</td>\n",
       "      <td>8</td>\n",
       "      <td>19.0</td>\n",
       "      <td>3.0</td>\n",
       "      <td>1534.0</td>\n",
       "      <td>1534.0</td>\n",
       "    </tr>\n",
       "    <tr>\n",
       "      <th>3</th>\n",
       "      <td>f(A,B,C):-legal_move(B,C,A),attacks(B,C,A),att...</td>\n",
       "      <td>7</td>\n",
       "      <td>17.0</td>\n",
       "      <td>2.0</td>\n",
       "      <td>1580.0</td>\n",
       "      <td>1580.0</td>\n",
       "    </tr>\n",
       "    <tr>\n",
       "      <th>4</th>\n",
       "      <td>f(A,B,C):-legal_move(B,C,A),attacks(B,C,A),att...</td>\n",
       "      <td>8</td>\n",
       "      <td>20.0</td>\n",
       "      <td>3.0</td>\n",
       "      <td>1534.0</td>\n",
       "      <td>1534.0</td>\n",
       "    </tr>\n",
       "    <tr>\n",
       "      <th>5</th>\n",
       "      <td>f(A,B,C):-legal_move(B,C,A),attacks(B,C,A),att...</td>\n",
       "      <td>4</td>\n",
       "      <td>11.0</td>\n",
       "      <td>0.0</td>\n",
       "      <td>1640.0</td>\n",
       "      <td>1640.0</td>\n",
       "    </tr>\n",
       "    <tr>\n",
       "      <th>...</th>\n",
       "      <td>...</td>\n",
       "      <td>...</td>\n",
       "      <td>...</td>\n",
       "      <td>...</td>\n",
       "      <td>...</td>\n",
       "      <td>...</td>\n",
       "    </tr>\n",
       "    <tr>\n",
       "      <th>833</th>\n",
       "      <td>f(A,B,C):-legal_move(B,C,A),behind(B,E,D,A),di...</td>\n",
       "      <td>4</td>\n",
       "      <td>12.0</td>\n",
       "      <td>0.0</td>\n",
       "      <td>1587.0</td>\n",
       "      <td>1587.0</td>\n",
       "    </tr>\n",
       "    <tr>\n",
       "      <th>834</th>\n",
       "      <td>f(A,B,C):-legal_move(B,C,A),behind(B,E,D,A),di...</td>\n",
       "      <td>4</td>\n",
       "      <td>12.0</td>\n",
       "      <td>0.0</td>\n",
       "      <td>1587.0</td>\n",
       "      <td>1587.0</td>\n",
       "    </tr>\n",
       "    <tr>\n",
       "      <th>835</th>\n",
       "      <td>f(A,B,C):-legal_move(B,C,A),behind(B,E,D,A),di...</td>\n",
       "      <td>4</td>\n",
       "      <td>12.0</td>\n",
       "      <td>0.0</td>\n",
       "      <td>1480.0</td>\n",
       "      <td>1480.0</td>\n",
       "    </tr>\n",
       "    <tr>\n",
       "      <th>836</th>\n",
       "      <td>f(A,B,C):-legal_move(B,C,A),behind(B,E,D,A),di...</td>\n",
       "      <td>4</td>\n",
       "      <td>12.0</td>\n",
       "      <td>0.0</td>\n",
       "      <td>1587.0</td>\n",
       "      <td>1587.0</td>\n",
       "    </tr>\n",
       "    <tr>\n",
       "      <th>837</th>\n",
       "      <td>f(A,B,C):-legal_move(B,C,A),different_pos(B,C)</td>\n",
       "      <td>10</td>\n",
       "      <td>30.0</td>\n",
       "      <td>1.0</td>\n",
       "      <td>1961.0</td>\n",
       "      <td>1961.0</td>\n",
       "    </tr>\n",
       "  </tbody>\n",
       "</table>\n",
       "<p>837 rows × 6 columns</p>\n",
       "</div>"
      ],
      "text/plain": [
       "                                           tactic_text  match  \\\n",
       "1                          f(A,B,C):-legal_move(B,C,A)     10   \n",
       "2           f(A,B,C):-legal_move(B,C,A),attacks(B,C,A)      8   \n",
       "3    f(A,B,C):-legal_move(B,C,A),attacks(B,C,A),att...      7   \n",
       "4    f(A,B,C):-legal_move(B,C,A),attacks(B,C,A),att...      8   \n",
       "5    f(A,B,C):-legal_move(B,C,A),attacks(B,C,A),att...      4   \n",
       "..                                                 ...    ...   \n",
       "833  f(A,B,C):-legal_move(B,C,A),behind(B,E,D,A),di...      4   \n",
       "834  f(A,B,C):-legal_move(B,C,A),behind(B,E,D,A),di...      4   \n",
       "835  f(A,B,C):-legal_move(B,C,A),behind(B,E,D,A),di...      4   \n",
       "836  f(A,B,C):-legal_move(B,C,A),behind(B,E,D,A),di...      4   \n",
       "837     f(A,B,C):-legal_move(B,C,A),different_pos(B,C)     10   \n",
       "\n",
       "     num_suggestions  correct_move  tactic_ground_div  tactic_ground_avg  \n",
       "1               30.0           1.0             1961.0             1961.0  \n",
       "2               19.0           3.0             1534.0             1534.0  \n",
       "3               17.0           2.0             1580.0             1580.0  \n",
       "4               20.0           3.0             1534.0             1534.0  \n",
       "5               11.0           0.0             1640.0             1640.0  \n",
       "..               ...           ...                ...                ...  \n",
       "833             12.0           0.0             1587.0             1587.0  \n",
       "834             12.0           0.0             1587.0             1587.0  \n",
       "835             12.0           0.0             1480.0             1480.0  \n",
       "836             12.0           0.0             1587.0             1587.0  \n",
       "837             30.0           1.0             1961.0             1961.0  \n",
       "\n",
       "[837 rows x 6 columns]"
      ]
     },
     "execution_count": 38,
     "metadata": {},
     "output_type": "execute_result"
    }
   ],
   "source": [
    "df_grouped = df.groupby('tactic_text')\n",
    "df_grouped.describe()\n",
    "agg = df_grouped.aggregate(np.nansum).reset_index()\n",
    "mask = agg['tactic_text'].isin(['ground', 'engine_best'])\n",
    "agg_masked = agg[~mask]\n",
    "agg_masked"
   ]
  },
  {
   "cell_type": "code",
   "execution_count": 42,
   "metadata": {},
   "outputs": [
    {
     "data": {
      "image/png": "[encoded data removed]",
      "text/plain": [
       "<Figure size 432x288 with 1 Axes>"
      ]
     },
     "metadata": {
      "needs_background": "light"
     },
     "output_type": "display_data"
    }
   ],
   "source": [
    "agg['avg_tactic_ground_div'] = agg['tactic_ground_div'] / agg['match']\n",
    "mask = agg['tactic_text'].isin(['ground', 'engine_best'])\n",
    "agg_masked = agg[~mask]\n",
    "plt.hist(agg_masked['avg_tactic_ground_div'], bins=10)\n",
    "plt.axvline(agg[agg['tactic_text'] == \"f(A,B,C):-legal_move(B,C,A)\"]['avg_tactic_ground_div'].values, linestyle='dashed', color='blue', label='random move tactic')\n",
    "plt.axvline(agg[agg['tactic_text'] == \"ground\"]['avg_tactic_ground_div'].values, linestyle='dashed', color='green', label='ground move tactic')\n",
    "plt.axvline(agg[agg['tactic_text'] == \"engine_best\"]['avg_tactic_ground_div'].values, linestyle='dashed', color='red', label='engine move tactic')\n",
    "plt.title('Histogram of Divergence from Ground $(T,$ Maia-1600, $P_{valid})$')\n",
    "plt.xlabel('Divergence (Cp)')\n",
    "plt.ylabel('Frequency')\n",
    "plt.xlim(left=-10)\n",
    "\n",
    "plt.legend(loc=1)\n",
    "plt.show()"
   ]
  },
  {
   "cell_type": "code",
   "execution_count": 15,
   "metadata": {},
   "outputs": [
    {
     "data": {
      "image/png": "[encoded data removed]",
      "text/plain": [
       "<Figure size 432x288 with 1 Axes>"
      ]
     },
     "metadata": {
      "needs_background": "light"
     },
     "output_type": "display_data"
    }
   ],
   "source": [
    "agg['coverage'] = agg['match'] / df.groupby(['position', 'move']).ngroups\n",
    "plt.hist(agg['coverage'], bins=10)\n",
    "plt.axvline(agg.loc[[\"f(A,B,C):-legal_move(B,C,A)\"]]['coverage'].values, linestyle='dashed', color='blue', label='random move tactic')\n",
    "plt.axvline(agg.loc[[\"ground\"]]['coverage'].values, linestyle='dashed', color='green', label='ground move tactic')\n",
    "plt.axvline(agg.loc[[\"engine_best\"]]['coverage'].values, linestyle='dashed', color='red', label='engine move tactic')\n",
    "plt.title('Histogram of Coverage $(T$, $P_{valid})$')\n",
    "plt.xlabel('Coverage')\n",
    "plt.ylabel('Frequency')\n",
    "plt.xlim(left=0)\n",
    "\n",
    "plt.legend(loc=1)\n",
    "plt.show()"
   ]
  },
  {
   "cell_type": "code",
   "execution_count": 16,
   "metadata": {},
   "outputs": [
    {
     "data": {
      "image/png": "[encoded data removed]",
      "text/plain": [
       "<Figure size 432x288 with 1 Axes>"
      ]
     },
     "metadata": {
      "needs_background": "light"
     },
     "output_type": "display_data"
    }
   ],
   "source": [
    "agg['accuracy'] = agg['correct_move'] / agg['match']\n",
    "plt.hist(agg['accuracy'], bins=10)\n",
    "plt.axvline(agg.loc[[\"f(A,B,C):-legal_move(B,C,A)\"]]['accuracy'].values, linestyle='dashed', color='blue', label='random move tactic')\n",
    "plt.axvline(agg.loc[[\"ground\"]]['accuracy'].values, linestyle='dashed', color='green', label='ground move tactic')\n",
    "plt.axvline(agg.loc[[\"engine_best\"]]['accuracy'].values, linestyle='dashed', color='red', label='engine move tactic')\n",
    "plt.title('Histogram of Accuracy $(T$, $P_{valid})$')\n",
    "plt.xlabel('Accuracy')\n",
    "plt.ylabel('Frequency')\n",
    "plt.xlim(right=None)\n",
    "\n",
    "plt.legend(loc=1)\n",
    "plt.show()"
   ]
  },
  {
   "cell_type": "code",
   "execution_count": 19,
   "metadata": {},
   "outputs": [
    {
     "data": {
      "text/html": [
       "<div>\n",
       "<style scoped>\n",
       "    .dataframe tbody tr th:only-of-type {\n",
       "        vertical-align: middle;\n",
       "    }\n",
       "\n",
       "    .dataframe tbody tr th {\n",
       "        vertical-align: top;\n",
       "    }\n",
       "\n",
       "    .dataframe thead th {\n",
       "        text-align: right;\n",
       "    }\n",
       "</style>\n",
       "<table border=\"1\" class=\"dataframe\">\n",
       "  <thead>\n",
       "    <tr style=\"text-align: right;\">\n",
       "      <th></th>\n",
       "      <th>match</th>\n",
       "      <th>num_suggestions</th>\n",
       "      <th>correct_move</th>\n",
       "      <th>tactic_ground_div</th>\n",
       "      <th>tactic_ground_avg</th>\n",
       "      <th>avg_tactic_ground_div</th>\n",
       "      <th>coverage</th>\n",
       "      <th>accuracy</th>\n",
       "    </tr>\n",
       "    <tr>\n",
       "      <th>tactic_text</th>\n",
       "      <th></th>\n",
       "      <th></th>\n",
       "      <th></th>\n",
       "      <th></th>\n",
       "      <th></th>\n",
       "      <th></th>\n",
       "      <th></th>\n",
       "      <th></th>\n",
       "    </tr>\n",
       "  </thead>\n",
       "  <tbody>\n",
       "    <tr>\n",
       "      <th>ground</th>\n",
       "      <td>10</td>\n",
       "      <td>10.0</td>\n",
       "      <td>10.0</td>\n",
       "      <td>0.0</td>\n",
       "      <td>0.0</td>\n",
       "      <td>0.00</td>\n",
       "      <td>1.0</td>\n",
       "      <td>1.000</td>\n",
       "    </tr>\n",
       "    <tr>\n",
       "      <th>engine_best</th>\n",
       "      <td>10</td>\n",
       "      <td>30.0</td>\n",
       "      <td>7.0</td>\n",
       "      <td>1778.0</td>\n",
       "      <td>1778.0</td>\n",
       "      <td>177.80</td>\n",
       "      <td>1.0</td>\n",
       "      <td>0.700</td>\n",
       "    </tr>\n",
       "    <tr>\n",
       "      <th>f(A,B,C):-legal_move(B,C,A),attacks(B,C,A)</th>\n",
       "      <td>8</td>\n",
       "      <td>19.0</td>\n",
       "      <td>3.0</td>\n",
       "      <td>1534.0</td>\n",
       "      <td>1534.0</td>\n",
       "      <td>191.75</td>\n",
       "      <td>0.8</td>\n",
       "      <td>0.375</td>\n",
       "    </tr>\n",
       "    <tr>\n",
       "      <th>f(A,B,C):-legal_move(B,C,A),attacks(B,D,A),attacks(B,C,A),different_pos(B,D),different_pos(B,C)</th>\n",
       "      <td>8</td>\n",
       "      <td>20.0</td>\n",
       "      <td>3.0</td>\n",
       "      <td>1534.0</td>\n",
       "      <td>1534.0</td>\n",
       "      <td>191.75</td>\n",
       "      <td>0.8</td>\n",
       "      <td>0.375</td>\n",
       "    </tr>\n",
       "    <tr>\n",
       "      <th>f(A,B,C):-legal_move(B,C,A),attacks(B,C,A),different_pos(B,C)</th>\n",
       "      <td>8</td>\n",
       "      <td>19.0</td>\n",
       "      <td>3.0</td>\n",
       "      <td>1534.0</td>\n",
       "      <td>1534.0</td>\n",
       "      <td>191.75</td>\n",
       "      <td>0.8</td>\n",
       "      <td>0.375</td>\n",
       "    </tr>\n",
       "    <tr>\n",
       "      <th>...</th>\n",
       "      <td>...</td>\n",
       "      <td>...</td>\n",
       "      <td>...</td>\n",
       "      <td>...</td>\n",
       "      <td>...</td>\n",
       "      <td>...</td>\n",
       "      <td>...</td>\n",
       "      <td>...</td>\n",
       "    </tr>\n",
       "    <tr>\n",
       "      <th>f(A,B,C):-legal_move(B,C,A),behind(B,D,C,A),behind(B,D,E,A),different_pos(D,E),different_pos(B,E)</th>\n",
       "      <td>4</td>\n",
       "      <td>12.0</td>\n",
       "      <td>0.0</td>\n",
       "      <td>1640.0</td>\n",
       "      <td>1640.0</td>\n",
       "      <td>410.00</td>\n",
       "      <td>0.4</td>\n",
       "      <td>0.000</td>\n",
       "    </tr>\n",
       "    <tr>\n",
       "      <th>f(A,B,C):-legal_move(B,C,A),behind(B,D,C,A),behind(B,D,E,A),different_pos(D,E),different_pos(B,C)</th>\n",
       "      <td>4</td>\n",
       "      <td>12.0</td>\n",
       "      <td>0.0</td>\n",
       "      <td>1640.0</td>\n",
       "      <td>1640.0</td>\n",
       "      <td>410.00</td>\n",
       "      <td>0.4</td>\n",
       "      <td>0.000</td>\n",
       "    </tr>\n",
       "    <tr>\n",
       "      <th>f(A,B,C):-legal_move(B,C,A),behind(B,D,C,A),behind(B,D,E,A),different_pos(D,E)</th>\n",
       "      <td>4</td>\n",
       "      <td>12.0</td>\n",
       "      <td>0.0</td>\n",
       "      <td>1640.0</td>\n",
       "      <td>1640.0</td>\n",
       "      <td>410.00</td>\n",
       "      <td>0.4</td>\n",
       "      <td>0.000</td>\n",
       "    </tr>\n",
       "    <tr>\n",
       "      <th>f(A,B,C):-legal_move(B,C,A),behind(B,D,C,A),behind(B,E,D,A),behind(B,D,E,A),different_pos(C,E)</th>\n",
       "      <td>4</td>\n",
       "      <td>12.0</td>\n",
       "      <td>0.0</td>\n",
       "      <td>1640.0</td>\n",
       "      <td>1640.0</td>\n",
       "      <td>410.00</td>\n",
       "      <td>0.4</td>\n",
       "      <td>0.000</td>\n",
       "    </tr>\n",
       "    <tr>\n",
       "      <th>f(A,B,C):-legal_move(B,C,A),attacks(B,E,A),behind(B,E,C,A),behind(B,E,D,A),different_pos(C,D)</th>\n",
       "      <td>4</td>\n",
       "      <td>12.0</td>\n",
       "      <td>0.0</td>\n",
       "      <td>1640.0</td>\n",
       "      <td>1640.0</td>\n",
       "      <td>410.00</td>\n",
       "      <td>0.4</td>\n",
       "      <td>0.000</td>\n",
       "    </tr>\n",
       "  </tbody>\n",
       "</table>\n",
       "<p>839 rows × 8 columns</p>\n",
       "</div>"
      ],
      "text/plain": [
       "                                                    match  num_suggestions  \\\n",
       "tactic_text                                                                  \n",
       "ground                                                 10             10.0   \n",
       "engine_best                                            10             30.0   \n",
       "f(A,B,C):-legal_move(B,C,A),attacks(B,C,A)              8             19.0   \n",
       "f(A,B,C):-legal_move(B,C,A),attacks(B,D,A),atta...      8             20.0   \n",
       "f(A,B,C):-legal_move(B,C,A),attacks(B,C,A),diff...      8             19.0   \n",
       "...                                                   ...              ...   \n",
       "f(A,B,C):-legal_move(B,C,A),behind(B,D,C,A),beh...      4             12.0   \n",
       "f(A,B,C):-legal_move(B,C,A),behind(B,D,C,A),beh...      4             12.0   \n",
       "f(A,B,C):-legal_move(B,C,A),behind(B,D,C,A),beh...      4             12.0   \n",
       "f(A,B,C):-legal_move(B,C,A),behind(B,D,C,A),beh...      4             12.0   \n",
       "f(A,B,C):-legal_move(B,C,A),attacks(B,E,A),behi...      4             12.0   \n",
       "\n",
       "                                                    correct_move  \\\n",
       "tactic_text                                                        \n",
       "ground                                                      10.0   \n",
       "engine_best                                                  7.0   \n",
       "f(A,B,C):-legal_move(B,C,A),attacks(B,C,A)                   3.0   \n",
       "f(A,B,C):-legal_move(B,C,A),attacks(B,D,A),atta...           3.0   \n",
       "f(A,B,C):-legal_move(B,C,A),attacks(B,C,A),diff...           3.0   \n",
       "...                                                          ...   \n",
       "f(A,B,C):-legal_move(B,C,A),behind(B,D,C,A),beh...           0.0   \n",
       "f(A,B,C):-legal_move(B,C,A),behind(B,D,C,A),beh...           0.0   \n",
       "f(A,B,C):-legal_move(B,C,A),behind(B,D,C,A),beh...           0.0   \n",
       "f(A,B,C):-legal_move(B,C,A),behind(B,D,C,A),beh...           0.0   \n",
       "f(A,B,C):-legal_move(B,C,A),attacks(B,E,A),behi...           0.0   \n",
       "\n",
       "                                                    tactic_ground_div  \\\n",
       "tactic_text                                                             \n",
       "ground                                                            0.0   \n",
       "engine_best                                                    1778.0   \n",
       "f(A,B,C):-legal_move(B,C,A),attacks(B,C,A)                     1534.0   \n",
       "f(A,B,C):-legal_move(B,C,A),attacks(B,D,A),atta...             1534.0   \n",
       "f(A,B,C):-legal_move(B,C,A),attacks(B,C,A),diff...             1534.0   \n",
       "...                                                               ...   \n",
       "f(A,B,C):-legal_move(B,C,A),behind(B,D,C,A),beh...             1640.0   \n",
       "f(A,B,C):-legal_move(B,C,A),behind(B,D,C,A),beh...             1640.0   \n",
       "f(A,B,C):-legal_move(B,C,A),behind(B,D,C,A),beh...             1640.0   \n",
       "f(A,B,C):-legal_move(B,C,A),behind(B,D,C,A),beh...             1640.0   \n",
       "f(A,B,C):-legal_move(B,C,A),attacks(B,E,A),behi...             1640.0   \n",
       "\n",
       "                                                    tactic_ground_avg  \\\n",
       "tactic_text                                                             \n",
       "ground                                                            0.0   \n",
       "engine_best                                                    1778.0   \n",
       "f(A,B,C):-legal_move(B,C,A),attacks(B,C,A)                     1534.0   \n",
       "f(A,B,C):-legal_move(B,C,A),attacks(B,D,A),atta...             1534.0   \n",
       "f(A,B,C):-legal_move(B,C,A),attacks(B,C,A),diff...             1534.0   \n",
       "...                                                               ...   \n",
       "f(A,B,C):-legal_move(B,C,A),behind(B,D,C,A),beh...             1640.0   \n",
       "f(A,B,C):-legal_move(B,C,A),behind(B,D,C,A),beh...             1640.0   \n",
       "f(A,B,C):-legal_move(B,C,A),behind(B,D,C,A),beh...             1640.0   \n",
       "f(A,B,C):-legal_move(B,C,A),behind(B,D,C,A),beh...             1640.0   \n",
       "f(A,B,C):-legal_move(B,C,A),attacks(B,E,A),behi...             1640.0   \n",
       "\n",
       "                                                    avg_tactic_ground_div  \\\n",
       "tactic_text                                                                 \n",
       "ground                                                               0.00   \n",
       "engine_best                                                        177.80   \n",
       "f(A,B,C):-legal_move(B,C,A),attacks(B,C,A)                         191.75   \n",
       "f(A,B,C):-legal_move(B,C,A),attacks(B,D,A),atta...                 191.75   \n",
       "f(A,B,C):-legal_move(B,C,A),attacks(B,C,A),diff...                 191.75   \n",
       "...                                                                   ...   \n",
       "f(A,B,C):-legal_move(B,C,A),behind(B,D,C,A),beh...                 410.00   \n",
       "f(A,B,C):-legal_move(B,C,A),behind(B,D,C,A),beh...                 410.00   \n",
       "f(A,B,C):-legal_move(B,C,A),behind(B,D,C,A),beh...                 410.00   \n",
       "f(A,B,C):-legal_move(B,C,A),behind(B,D,C,A),beh...                 410.00   \n",
       "f(A,B,C):-legal_move(B,C,A),attacks(B,E,A),behi...                 410.00   \n",
       "\n",
       "                                                    coverage  accuracy  \n",
       "tactic_text                                                             \n",
       "ground                                                   1.0     1.000  \n",
       "engine_best                                              1.0     0.700  \n",
       "f(A,B,C):-legal_move(B,C,A),attacks(B,C,A)               0.8     0.375  \n",
       "f(A,B,C):-legal_move(B,C,A),attacks(B,D,A),atta...       0.8     0.375  \n",
       "f(A,B,C):-legal_move(B,C,A),attacks(B,C,A),diff...       0.8     0.375  \n",
       "...                                                      ...       ...  \n",
       "f(A,B,C):-legal_move(B,C,A),behind(B,D,C,A),beh...       0.4     0.000  \n",
       "f(A,B,C):-legal_move(B,C,A),behind(B,D,C,A),beh...       0.4     0.000  \n",
       "f(A,B,C):-legal_move(B,C,A),behind(B,D,C,A),beh...       0.4     0.000  \n",
       "f(A,B,C):-legal_move(B,C,A),behind(B,D,C,A),beh...       0.4     0.000  \n",
       "f(A,B,C):-legal_move(B,C,A),attacks(B,E,A),behi...       0.4     0.000  \n",
       "\n",
       "[839 rows x 8 columns]"
      ]
     },
     "execution_count": 19,
     "metadata": {},
     "output_type": "execute_result"
    }
   ],
   "source": [
    "final = agg.sort_values(by = ['avg_tactic_ground_div'], ascending = [True])\n",
    "final"
   ]
  },
  {
   "cell_type": "code",
   "execution_count": null,
   "metadata": {},
   "outputs": [],
   "source": [
    "list(final.index)"
   ]
  },
  {
   "cell_type": "markdown",
   "metadata": {},
   "source": [
    "# Analyze Position Features"
   ]
  },
  {
   "cell_type": "code",
   "execution_count": 23,
   "metadata": {},
   "outputs": [],
   "source": [
    "df['pos_move'] = df['position'] + \",\" + df['move']"
   ]
  },
  {
   "cell_type": "code",
   "execution_count": 24,
   "metadata": {},
   "outputs": [
    {
     "data": {
      "text/html": [
       "<div>\n",
       "<style scoped>\n",
       "    .dataframe tbody tr th:only-of-type {\n",
       "        vertical-align: middle;\n",
       "    }\n",
       "\n",
       "    .dataframe tbody tr th {\n",
       "        vertical-align: top;\n",
       "    }\n",
       "\n",
       "    .dataframe thead th {\n",
       "        text-align: right;\n",
       "    }\n",
       "</style>\n",
       "<table border=\"1\" class=\"dataframe\">\n",
       "  <thead>\n",
       "    <tr style=\"text-align: right;\">\n",
       "      <th></th>\n",
       "      <th>matches</th>\n",
       "      <th>divergence</th>\n",
       "      <th>avg</th>\n",
       "      <th>empty_suggestions</th>\n",
       "      <th>num_suggestions</th>\n",
       "      <th>correct_move</th>\n",
       "      <th>tactic_evals</th>\n",
       "      <th>ground_evals</th>\n",
       "      <th>best_move_evals</th>\n",
       "      <th>exec_time</th>\n",
       "    </tr>\n",
       "    <tr>\n",
       "      <th>pos_move</th>\n",
       "      <th></th>\n",
       "      <th></th>\n",
       "      <th></th>\n",
       "      <th></th>\n",
       "      <th></th>\n",
       "      <th></th>\n",
       "      <th></th>\n",
       "      <th></th>\n",
       "      <th></th>\n",
       "      <th></th>\n",
       "    </tr>\n",
       "  </thead>\n",
       "  <tbody>\n",
       "    <tr>\n",
       "      <th>3r4/1B3p1p/4pk2/2b2p2/Q1P5/P2P2PP/5n2/5R1K w - - 1 28,h1g2</th>\n",
       "      <td>325</td>\n",
       "      <td>33927.666667</td>\n",
       "      <td>33927.666667</td>\n",
       "      <td>144</td>\n",
       "      <td>329</td>\n",
       "      <td>2</td>\n",
       "      <td>-20303</td>\n",
       "      <td>19698</td>\n",
       "      <td>19698</td>\n",
       "      <td>35.411442</td>\n",
       "    </tr>\n",
       "    <tr>\n",
       "      <th>4k3/p1p4p/1p4p1/8/8/P1Q5/5PPP/R2rK2R w KQ - 1 23,e1d1</th>\n",
       "      <td>332</td>\n",
       "      <td>13053.333333</td>\n",
       "      <td>13053.333333</td>\n",
       "      <td>137</td>\n",
       "      <td>346</td>\n",
       "      <td>9</td>\n",
       "      <td>-44656</td>\n",
       "      <td>-60970</td>\n",
       "      <td>-50652</td>\n",
       "      <td>35.921003</td>\n",
       "    </tr>\n",
       "    <tr>\n",
       "      <th>8/3N4/7p/8/2K2Npk/P6P/5PP1/8 b - - 0 49,g4g3</th>\n",
       "      <td>16</td>\n",
       "      <td>448.166667</td>\n",
       "      <td>448.166667</td>\n",
       "      <td>453</td>\n",
       "      <td>23</td>\n",
       "      <td>10</td>\n",
       "      <td>637</td>\n",
       "      <td>29547</td>\n",
       "      <td>-4690</td>\n",
       "      <td>28.130674</td>\n",
       "    </tr>\n",
       "    <tr>\n",
       "      <th>8/p7/1p6/1P2k3/PnP2R2/2K5/4N3/8 b - - 6 47,b4a2</th>\n",
       "      <td>2</td>\n",
       "      <td>226.666667</td>\n",
       "      <td>226.666667</td>\n",
       "      <td>467</td>\n",
       "      <td>6</td>\n",
       "      <td>0</td>\n",
       "      <td>-448</td>\n",
       "      <td>54404</td>\n",
       "      <td>54404</td>\n",
       "      <td>28.712242</td>\n",
       "    </tr>\n",
       "    <tr>\n",
       "      <th>r1b1qb1r/3nk1p1/2P1p2p/p3Pp1Q/4p3/B6P/P1B2PPN/R4RK1 b - - 0 18,e7d8</th>\n",
       "      <td>2</td>\n",
       "      <td>0.000000</td>\n",
       "      <td>0.000000</td>\n",
       "      <td>467</td>\n",
       "      <td>4</td>\n",
       "      <td>2</td>\n",
       "      <td>50</td>\n",
       "      <td>11725</td>\n",
       "      <td>11725</td>\n",
       "      <td>27.353722</td>\n",
       "    </tr>\n",
       "    <tr>\n",
       "      <th>r1b2rk1/pp3ppp/2n2n2/q1Pp2N1/8/P3P3/1QP2PPP/RN2KB1R w KQ - 1 13,b2c3</th>\n",
       "      <td>2</td>\n",
       "      <td>43.333333</td>\n",
       "      <td>43.333333</td>\n",
       "      <td>467</td>\n",
       "      <td>6</td>\n",
       "      <td>0</td>\n",
       "      <td>-76</td>\n",
       "      <td>12663</td>\n",
       "      <td>6566</td>\n",
       "      <td>30.567458</td>\n",
       "    </tr>\n",
       "    <tr>\n",
       "      <th>r3k2B/p1p2p1p/p6n/3b4/8/5N2/P2N1PPP/R3R1K1 b q - 1 16,d5e6</th>\n",
       "      <td>2</td>\n",
       "      <td>84.000000</td>\n",
       "      <td>84.000000</td>\n",
       "      <td>467</td>\n",
       "      <td>6</td>\n",
       "      <td>0</td>\n",
       "      <td>244</td>\n",
       "      <td>-1876</td>\n",
       "      <td>67067</td>\n",
       "      <td>28.251340</td>\n",
       "    </tr>\n",
       "    <tr>\n",
       "      <th>r4r2/1k1nq3/4p1p1/NP1bPp2/3P3p/3BQ3/1P3PPP/R1R3K1 b - - 0 27,a8a5</th>\n",
       "      <td>325</td>\n",
       "      <td>105.333333</td>\n",
       "      <td>105.333333</td>\n",
       "      <td>144</td>\n",
       "      <td>329</td>\n",
       "      <td>323</td>\n",
       "      <td>-69559</td>\n",
       "      <td>-100835</td>\n",
       "      <td>-21574</td>\n",
       "      <td>36.631233</td>\n",
       "    </tr>\n",
       "    <tr>\n",
       "      <th>rn1k1Q2/pbpp2b1/1p6/8/3P4/2N3N1/PPP3PP/4RRK1 b - - 0 21,g7f8</th>\n",
       "      <td>325</td>\n",
       "      <td>0.000000</td>\n",
       "      <td>0.000000</td>\n",
       "      <td>144</td>\n",
       "      <td>325</td>\n",
       "      <td>325</td>\n",
       "      <td>118950</td>\n",
       "      <td>171654</td>\n",
       "      <td>171654</td>\n",
       "      <td>34.761903</td>\n",
       "    </tr>\n",
       "  </tbody>\n",
       "</table>\n",
       "</div>"
      ],
      "text/plain": [
       "                                                    matches    divergence  \\\n",
       "pos_move                                                                    \n",
       "3r4/1B3p1p/4pk2/2b2p2/Q1P5/P2P2PP/5n2/5R1K w - ...      325  33927.666667   \n",
       "4k3/p1p4p/1p4p1/8/8/P1Q5/5PPP/R2rK2R w KQ - 1 2...      332  13053.333333   \n",
       "8/3N4/7p/8/2K2Npk/P6P/5PP1/8 b - - 0 49,g4g3             16    448.166667   \n",
       "8/p7/1p6/1P2k3/PnP2R2/2K5/4N3/8 b - - 6 47,b4a2           2    226.666667   \n",
       "r1b1qb1r/3nk1p1/2P1p2p/p3Pp1Q/4p3/B6P/P1B2PPN/R...        2      0.000000   \n",
       "r1b2rk1/pp3ppp/2n2n2/q1Pp2N1/8/P3P3/1QP2PPP/RN2...        2     43.333333   \n",
       "r3k2B/p1p2p1p/p6n/3b4/8/5N2/P2N1PPP/R3R1K1 b q ...        2     84.000000   \n",
       "r4r2/1k1nq3/4p1p1/NP1bPp2/3P3p/3BQ3/1P3PPP/R1R3...      325    105.333333   \n",
       "rn1k1Q2/pbpp2b1/1p6/8/3P4/2N3N1/PPP3PP/4RRK1 b ...      325      0.000000   \n",
       "\n",
       "                                                             avg  \\\n",
       "pos_move                                                           \n",
       "3r4/1B3p1p/4pk2/2b2p2/Q1P5/P2P2PP/5n2/5R1K w - ...  33927.666667   \n",
       "4k3/p1p4p/1p4p1/8/8/P1Q5/5PPP/R2rK2R w KQ - 1 2...  13053.333333   \n",
       "8/3N4/7p/8/2K2Npk/P6P/5PP1/8 b - - 0 49,g4g3          448.166667   \n",
       "8/p7/1p6/1P2k3/PnP2R2/2K5/4N3/8 b - - 6 47,b4a2       226.666667   \n",
       "r1b1qb1r/3nk1p1/2P1p2p/p3Pp1Q/4p3/B6P/P1B2PPN/R...      0.000000   \n",
       "r1b2rk1/pp3ppp/2n2n2/q1Pp2N1/8/P3P3/1QP2PPP/RN2...     43.333333   \n",
       "r3k2B/p1p2p1p/p6n/3b4/8/5N2/P2N1PPP/R3R1K1 b q ...     84.000000   \n",
       "r4r2/1k1nq3/4p1p1/NP1bPp2/3P3p/3BQ3/1P3PPP/R1R3...    105.333333   \n",
       "rn1k1Q2/pbpp2b1/1p6/8/3P4/2N3N1/PPP3PP/4RRK1 b ...      0.000000   \n",
       "\n",
       "                                                    empty_suggestions  \\\n",
       "pos_move                                                                \n",
       "3r4/1B3p1p/4pk2/2b2p2/Q1P5/P2P2PP/5n2/5R1K w - ...                144   \n",
       "4k3/p1p4p/1p4p1/8/8/P1Q5/5PPP/R2rK2R w KQ - 1 2...                137   \n",
       "8/3N4/7p/8/2K2Npk/P6P/5PP1/8 b - - 0 49,g4g3                      453   \n",
       "8/p7/1p6/1P2k3/PnP2R2/2K5/4N3/8 b - - 6 47,b4a2                   467   \n",
       "r1b1qb1r/3nk1p1/2P1p2p/p3Pp1Q/4p3/B6P/P1B2PPN/R...                467   \n",
       "r1b2rk1/pp3ppp/2n2n2/q1Pp2N1/8/P3P3/1QP2PPP/RN2...                467   \n",
       "r3k2B/p1p2p1p/p6n/3b4/8/5N2/P2N1PPP/R3R1K1 b q ...                467   \n",
       "r4r2/1k1nq3/4p1p1/NP1bPp2/3P3p/3BQ3/1P3PPP/R1R3...                144   \n",
       "rn1k1Q2/pbpp2b1/1p6/8/3P4/2N3N1/PPP3PP/4RRK1 b ...                144   \n",
       "\n",
       "                                                    num_suggestions  \\\n",
       "pos_move                                                              \n",
       "3r4/1B3p1p/4pk2/2b2p2/Q1P5/P2P2PP/5n2/5R1K w - ...              329   \n",
       "4k3/p1p4p/1p4p1/8/8/P1Q5/5PPP/R2rK2R w KQ - 1 2...              346   \n",
       "8/3N4/7p/8/2K2Npk/P6P/5PP1/8 b - - 0 49,g4g3                     23   \n",
       "8/p7/1p6/1P2k3/PnP2R2/2K5/4N3/8 b - - 6 47,b4a2                   6   \n",
       "r1b1qb1r/3nk1p1/2P1p2p/p3Pp1Q/4p3/B6P/P1B2PPN/R...                4   \n",
       "r1b2rk1/pp3ppp/2n2n2/q1Pp2N1/8/P3P3/1QP2PPP/RN2...                6   \n",
       "r3k2B/p1p2p1p/p6n/3b4/8/5N2/P2N1PPP/R3R1K1 b q ...                6   \n",
       "r4r2/1k1nq3/4p1p1/NP1bPp2/3P3p/3BQ3/1P3PPP/R1R3...              329   \n",
       "rn1k1Q2/pbpp2b1/1p6/8/3P4/2N3N1/PPP3PP/4RRK1 b ...              325   \n",
       "\n",
       "                                                    correct_move  \\\n",
       "pos_move                                                           \n",
       "3r4/1B3p1p/4pk2/2b2p2/Q1P5/P2P2PP/5n2/5R1K w - ...             2   \n",
       "4k3/p1p4p/1p4p1/8/8/P1Q5/5PPP/R2rK2R w KQ - 1 2...             9   \n",
       "8/3N4/7p/8/2K2Npk/P6P/5PP1/8 b - - 0 49,g4g3                  10   \n",
       "8/p7/1p6/1P2k3/PnP2R2/2K5/4N3/8 b - - 6 47,b4a2                0   \n",
       "r1b1qb1r/3nk1p1/2P1p2p/p3Pp1Q/4p3/B6P/P1B2PPN/R...             2   \n",
       "r1b2rk1/pp3ppp/2n2n2/q1Pp2N1/8/P3P3/1QP2PPP/RN2...             0   \n",
       "r3k2B/p1p2p1p/p6n/3b4/8/5N2/P2N1PPP/R3R1K1 b q ...             0   \n",
       "r4r2/1k1nq3/4p1p1/NP1bPp2/3P3p/3BQ3/1P3PPP/R1R3...           323   \n",
       "rn1k1Q2/pbpp2b1/1p6/8/3P4/2N3N1/PPP3PP/4RRK1 b ...           325   \n",
       "\n",
       "                                                    tactic_evals  \\\n",
       "pos_move                                                           \n",
       "3r4/1B3p1p/4pk2/2b2p2/Q1P5/P2P2PP/5n2/5R1K w - ...        -20303   \n",
       "4k3/p1p4p/1p4p1/8/8/P1Q5/5PPP/R2rK2R w KQ - 1 2...        -44656   \n",
       "8/3N4/7p/8/2K2Npk/P6P/5PP1/8 b - - 0 49,g4g3                 637   \n",
       "8/p7/1p6/1P2k3/PnP2R2/2K5/4N3/8 b - - 6 47,b4a2             -448   \n",
       "r1b1qb1r/3nk1p1/2P1p2p/p3Pp1Q/4p3/B6P/P1B2PPN/R...            50   \n",
       "r1b2rk1/pp3ppp/2n2n2/q1Pp2N1/8/P3P3/1QP2PPP/RN2...           -76   \n",
       "r3k2B/p1p2p1p/p6n/3b4/8/5N2/P2N1PPP/R3R1K1 b q ...           244   \n",
       "r4r2/1k1nq3/4p1p1/NP1bPp2/3P3p/3BQ3/1P3PPP/R1R3...        -69559   \n",
       "rn1k1Q2/pbpp2b1/1p6/8/3P4/2N3N1/PPP3PP/4RRK1 b ...        118950   \n",
       "\n",
       "                                                    ground_evals  \\\n",
       "pos_move                                                           \n",
       "3r4/1B3p1p/4pk2/2b2p2/Q1P5/P2P2PP/5n2/5R1K w - ...         19698   \n",
       "4k3/p1p4p/1p4p1/8/8/P1Q5/5PPP/R2rK2R w KQ - 1 2...        -60970   \n",
       "8/3N4/7p/8/2K2Npk/P6P/5PP1/8 b - - 0 49,g4g3               29547   \n",
       "8/p7/1p6/1P2k3/PnP2R2/2K5/4N3/8 b - - 6 47,b4a2            54404   \n",
       "r1b1qb1r/3nk1p1/2P1p2p/p3Pp1Q/4p3/B6P/P1B2PPN/R...         11725   \n",
       "r1b2rk1/pp3ppp/2n2n2/q1Pp2N1/8/P3P3/1QP2PPP/RN2...         12663   \n",
       "r3k2B/p1p2p1p/p6n/3b4/8/5N2/P2N1PPP/R3R1K1 b q ...         -1876   \n",
       "r4r2/1k1nq3/4p1p1/NP1bPp2/3P3p/3BQ3/1P3PPP/R1R3...       -100835   \n",
       "rn1k1Q2/pbpp2b1/1p6/8/3P4/2N3N1/PPP3PP/4RRK1 b ...        171654   \n",
       "\n",
       "                                                    best_move_evals  exec_time  \n",
       "pos_move                                                                        \n",
       "3r4/1B3p1p/4pk2/2b2p2/Q1P5/P2P2PP/5n2/5R1K w - ...            19698  35.411442  \n",
       "4k3/p1p4p/1p4p1/8/8/P1Q5/5PPP/R2rK2R w KQ - 1 2...           -50652  35.921003  \n",
       "8/3N4/7p/8/2K2Npk/P6P/5PP1/8 b - - 0 49,g4g3                  -4690  28.130674  \n",
       "8/p7/1p6/1P2k3/PnP2R2/2K5/4N3/8 b - - 6 47,b4a2               54404  28.712242  \n",
       "r1b1qb1r/3nk1p1/2P1p2p/p3Pp1Q/4p3/B6P/P1B2PPN/R...            11725  27.353722  \n",
       "r1b2rk1/pp3ppp/2n2n2/q1Pp2N1/8/P3P3/1QP2PPP/RN2...             6566  30.567458  \n",
       "r3k2B/p1p2p1p/p6n/3b4/8/5N2/P2N1PPP/R3R1K1 b q ...            67067  28.251340  \n",
       "r4r2/1k1nq3/4p1p1/NP1bPp2/3P3p/3BQ3/1P3PPP/R1R3...           -21574  36.631233  \n",
       "rn1k1Q2/pbpp2b1/1p6/8/3P4/2N3N1/PPP3PP/4RRK1 b ...           171654  34.761903  "
      ]
     },
     "execution_count": 24,
     "metadata": {},
     "output_type": "execute_result"
    }
   ],
   "source": [
    "df2 = df.groupby('pos_move')\n",
    "agg = df2.aggregate(np.sum)\n",
    "agg"
   ]
  },
  {
   "cell_type": "code",
   "execution_count": 17,
   "metadata": {},
   "outputs": [
    {
     "data": {
      "text/plain": [
       "Text(0, 0.5, 'Frequency')"
      ]
     },
     "execution_count": 17,
     "metadata": {},
     "output_type": "execute_result"
    },
    {
     "data": {
      "image/png": "[encoded data removed]",
      "text/plain": [
       "<Figure size 432x288 with 1 Axes>"
      ]
     },
     "metadata": {
      "needs_background": "light"
     },
     "output_type": "display_data"
    }
   ],
   "source": [
    "plt.hist(agg['exec_time'], bins=100)\n",
    "plt.title('Histogram of Execution Time $(T_{1600},$ Stockfish 14, $P_{valid})$')\n",
    "plt.xlabel('Execution Time (s)')\n",
    "plt.ylabel('Frequency')"
   ]
  },
  {
   "cell_type": "code",
   "execution_count": 18,
   "metadata": {},
   "outputs": [
    {
     "data": {
      "text/html": [
       "<div>\n",
       "<style scoped>\n",
       "    .dataframe tbody tr th:only-of-type {\n",
       "        vertical-align: middle;\n",
       "    }\n",
       "\n",
       "    .dataframe tbody tr th {\n",
       "        vertical-align: top;\n",
       "    }\n",
       "\n",
       "    .dataframe thead th {\n",
       "        text-align: right;\n",
       "    }\n",
       "</style>\n",
       "<table border=\"1\" class=\"dataframe\">\n",
       "  <thead>\n",
       "    <tr style=\"text-align: right;\">\n",
       "      <th></th>\n",
       "      <th>matches</th>\n",
       "      <th>divergence</th>\n",
       "      <th>avg</th>\n",
       "      <th>empty_suggestions</th>\n",
       "      <th>num_suggestions</th>\n",
       "      <th>correct_move</th>\n",
       "      <th>tactic_evals</th>\n",
       "      <th>ground_evals</th>\n",
       "      <th>best_move_evals</th>\n",
       "      <th>exec_time</th>\n",
       "    </tr>\n",
       "    <tr>\n",
       "      <th>tactic_text</th>\n",
       "      <th></th>\n",
       "      <th></th>\n",
       "      <th></th>\n",
       "      <th></th>\n",
       "      <th></th>\n",
       "      <th></th>\n",
       "      <th></th>\n",
       "      <th></th>\n",
       "      <th></th>\n",
       "      <th></th>\n",
       "    </tr>\n",
       "  </thead>\n",
       "  <tbody>\n",
       "  </tbody>\n",
       "</table>\n",
       "</div>"
      ],
      "text/plain": [
       "Empty DataFrame\n",
       "Columns: [matches, divergence, avg, empty_suggestions, num_suggestions, correct_move, tactic_evals, ground_evals, best_move_evals, exec_time]\n",
       "Index: []"
      ]
     },
     "execution_count": 18,
     "metadata": {},
     "output_type": "execute_result"
    }
   ],
   "source": [
    "high_exec = agg[agg['exec_time'] > 100]\n",
    "high_exec = high_exec.sort_values(by = ['exec_time'], ascending = [False])\n",
    "high_exec"
   ]
  },
  {
   "cell_type": "code",
   "execution_count": 13,
   "metadata": {},
   "outputs": [
    {
     "data": {
      "text/plain": [
       "Text(0, 0.5, 'Frequency')"
      ]
     },
     "execution_count": 13,
     "metadata": {},
     "output_type": "execute_result"
    },
    {
     "data": {
      "image/png": "[encoded data removed]",
      "text/plain": [
       "<Figure size 432x288 with 1 Axes>"
      ]
     },
     "metadata": {
      "needs_background": "light"
     },
     "output_type": "display_data"
    }
   ],
   "source": [
    "low_exec = agg[agg['exec_time'] <= 100]\n",
    "plt.hist(low_exec['exec_time'], bins=100)\n",
    "plt.title('Histogram of Execution Time $(T_{1600},$ Stockfish 14, $P_{valid})$')\n",
    "plt.xlabel('Execution Time (s)')\n",
    "plt.ylabel('Frequency')"
   ]
  },
  {
   "cell_type": "code",
   "execution_count": 26,
   "metadata": {},
   "outputs": [],
   "source": [
    "num_exs = [1, 5, 20, 100]\n",
    "time_vals = [27.5, 60 + 33, 60 * 6 + 33, 33 * 60 + 8]\n",
    "num_tactics = [9, 117, 469, 837]"
   ]
  },
  {
   "cell_type": "code",
   "execution_count": 27,
   "metadata": {},
   "outputs": [
    {
     "data": {
      "image/png": "[encoded data removed]",
      "text/plain": [
       "<Figure size 432x288 with 1 Axes>"
      ]
     },
     "metadata": {
      "needs_background": "light"
     },
     "output_type": "display_data"
    }
   ],
   "source": [
    "plt.plot(num_exs, time_vals)\n",
    "plt.xlabel('Number of train examples')\n",
    "plt.ylabel('Execution time (s)')\n",
    "plt.show()"
   ]
  },
  {
   "cell_type": "code",
   "execution_count": 28,
   "metadata": {},
   "outputs": [
    {
     "data": {
      "image/png": "[encoded data removed]",
      "text/plain": [
       "<Figure size 432x288 with 1 Axes>"
      ]
     },
     "metadata": {
      "needs_background": "light"
     },
     "output_type": "display_data"
    }
   ],
   "source": [
    "plt.plot(num_exs, num_tactics)\n",
    "plt.xlabel('Number of train examples')\n",
    "plt.ylabel('Number of tactics learned')\n",
    "plt.show()"
   ]
  },
  {
   "cell_type": "code",
   "execution_count": 29,
   "metadata": {},
   "outputs": [
    {
     "data": {
      "image/png": "[encoded data removed]",
      "text/plain": [
       "<Figure size 432x288 with 1 Axes>"
      ]
     },
     "metadata": {
      "needs_background": "light"
     },
     "output_type": "display_data"
    }
   ],
   "source": [
    "plt.plot(num_tactics, time_vals)\n",
    "plt.xlabel('Number of tactics learned')\n",
    "plt.ylabel('Execution time (s)')\n",
    "plt.show()"
   ]
  },
  {
   "cell_type": "markdown",
   "metadata": {},
   "source": [
    "# Calculate Dataset Metrics"
   ]
  },
  {
   "cell_type": "code",
   "execution_count": null,
   "metadata": {},
   "outputs": [],
   "source": [
    "from collections import Counter\n",
    "\n",
    "total_games = 0\n",
    "valid_elo = 0\n",
    "total_pos = 0\n",
    "total_elo = 0\n",
    "game_count = Counter()\n",
    "\n",
    "pgn_path = 'tactics/data/lichess_db_standard_rated_2013-01.pgn'"
   ]
  },
  {
   "cell_type": "code",
   "execution_count": null,
   "metadata": {},
   "outputs": [],
   "source": [
    "offsets = []\n",
    "handle = open(pgn_path)\n",
    "header = chess.pgn.read_headers(handle)"
   ]
  },
  {
   "cell_type": "code",
   "execution_count": null,
   "metadata": {},
   "outputs": [],
   "source": [
    "header.get('Termination')\n"
   ]
  },
  {
   "cell_type": "code",
   "execution_count": null,
   "metadata": {},
   "outputs": [],
   "source": [
    "import chess.pgn\n",
    "\n",
    "with open(pgn_path) as pgn:\n",
    "    while game := chess.pgn.read_game(pgn):\n",
    "        total_games += 1\n",
    "        white_elo = game.headers['WhiteElo']\n",
    "        black_elo = game.headers['BlackElo']\n",
    "        if '?' not in white_elo and '?' not in black_elo:\n",
    "            total_elo += int(white_elo)\n",
    "            total_elo += int(black_elo)\n",
    "            valid_elo += 1\n",
    "        game_count[game.headers['Event']] += 1"
   ]
  },
  {
   "cell_type": "code",
   "execution_count": null,
   "metadata": {},
   "outputs": [],
   "source": [
    "print('Total games', total_games)\n",
    "avg_elo = total_elo / (2 * valid_elo)\n",
    "print('Average ELO', avg_elo)"
   ]
  },
  {
   "cell_type": "code",
   "execution_count": null,
   "metadata": {},
   "outputs": [],
   "source": [
    "variance = 0\n",
    "\n",
    "with open(pgn_path) as pgn:\n",
    "    while game := chess.pgn.read_game(pgn):\n",
    "        total_games += 1\n",
    "        white_elo = game.headers['WhiteElo']\n",
    "        black_elo = game.headers['BlackElo']\n",
    "        if '?' not in white_elo and '?' not in black_elo:\n",
    "            variance += (int(white_elo) - avg_elo) ** 2\n",
    "            variance += (int(black_elo) - avg_elo) ** 2\n",
    "        game_count[game.headers['Event']] += 1"
   ]
  },
  {
   "cell_type": "code",
   "execution_count": null,
   "metadata": {},
   "outputs": [],
   "source": [
    "import math\n",
    "\n",
    "print('SD', math.sqrt(variance / valid_elo))"
   ]
  },
  {
   "cell_type": "markdown",
   "metadata": {},
   "source": [
    "# Test Evaluation"
   ]
  },
  {
   "cell_type": "code",
   "execution_count": 67,
   "metadata": {},
   "outputs": [],
   "source": [
    "import chess\n",
    "import chess.engine\n",
    "from tactics.util import *\n",
    "\n",
    "board = chess.Board('r1bqkb1r/ppp1pnpp/3p4/7Q/8/3B4/PPP2PPP/RNB2RK1 w kq - 0 10')\n",
    "move_names = [\n",
    "    'b1c3',\n",
    "    'c1g5',\n",
    "    'd3c4',\n",
    "    'f1e1'\n",
    "]\n",
    "moves = [chess.Move.from_uci(move_name) for move_name in move_names]\n",
    "engine_path = get_lc0_cmd(LC0, MAIA_1600) + ['--nncache=0']\n",
    "#engine_path = STOCKFISH\n",
    "mate_score = 2000\n",
    "n = 10"
   ]
  },
  {
   "cell_type": "code",
   "execution_count": 68,
   "metadata": {},
   "outputs": [
    {
     "name": "stderr",
     "output_type": "stream",
     "text": [
      "<UciProtocol (pid=15841)>: stderr >> \u001b[1m\u001b[31m       _\n",
      "<UciProtocol (pid=15841)>: stderr >> |   _ | |\n",
      "<UciProtocol (pid=15841)>: stderr >> |_ |_ |_|\u001b[0m v0.30.0-dev+git.bfa5b7d built May 17 2022\n",
      "<UciProtocol (pid=15841)>: stderr >> Loading weights file from: tactics/bin/maia_weights/maia-1600.pb\n",
      "<UciProtocol (pid=15841)>: stderr >> Creating backend [eigen]...\n",
      "<UciProtocol (pid=15841)>: stderr >> Using Eigen version 3.3.7\n",
      "<UciProtocol (pid=15841)>: stderr >> Eigen max batch size is 256.\n"
     ]
    },
    {
     "data": {
      "text/plain": [
       "[(Move.from_uci('b1c3'), 22),\n",
       " (Move.from_uci('d3c4'), 22),\n",
       " (Move.from_uci('f1e1'), 22),\n",
       " (Move.from_uci('c1g5'), 22),\n",
       " (Move.from_uci('d3h7'), 22),\n",
       " (Move.from_uci('c1f4'), 22),\n",
       " (Move.from_uci('h5d5'), 22),\n",
       " (Move.from_uci('f2f4'), 22),\n",
       " (Move.from_uci('b2b3'), 22),\n",
       " (Move.from_uci('c1e3'), 22)]"
      ]
     },
     "execution_count": 68,
     "metadata": {},
     "output_type": "execute_result"
    }
   ],
   "source": [
    "with chess.engine.SimpleEngine.popen_uci(engine_path) as engine:\n",
    "    tmp_analysis = engine.analyse(board, limit=chess.engine.Limit(nodes=1), multipv=n, game=object())\n",
    "    top_results = [(root['pv'][0], root['score'].relative.score(mate_score=mate_score)) for root in tmp_analysis]\n",
    "    top_n_results = top_results[:n]\n",
    "top_n_results"
   ]
  },
  {
   "cell_type": "code",
   "execution_count": 59,
   "metadata": {},
   "outputs": [
    {
     "name": "stderr",
     "output_type": "stream",
     "text": [
      "<UciProtocol (pid=14473)>: stderr >> \u001b[1m\u001b[31m       _\n",
      "<UciProtocol (pid=14473)>: stderr >> |   _ | |\n",
      "<UciProtocol (pid=14473)>: stderr >> |_ |_ |_|\u001b[0m v0.30.0-dev+git.bfa5b7d built May 17 2022\n",
      "<UciProtocol (pid=14473)>: stderr >> Loading weights file from: tactics/bin/maia_weights/maia-1600.pb\n",
      "<UciProtocol (pid=14473)>: stderr >> Creating backend [eigen]...\n",
      "<UciProtocol (pid=14473)>: stderr >> Using Eigen version 3.3.7\n",
      "<UciProtocol (pid=14473)>: stderr >> Eigen max batch size is 256.\n"
     ]
    },
    {
     "name": "stdout",
     "output_type": "stream",
     "text": [
      "{'depth': 1, 'seldepth': 1, 'time': 0.003, 'nodes': 1, 'score': PovScore(Cp(+22), WHITE), 'tbhits': 0, 'pv': [Move.from_uci('b1c3')], 'string': 'node  (  48) N:       1 (+ 0) (P:  0.00%) (WL:  0.15486) (D: 0.031) (M:  0.0) (Q:  0.15486) (V:  0.1549) '}\n",
      "{'depth': 1, 'seldepth': 1, 'time': 0.004, 'nodes': 1, 'score': PovScore(Cp(-16), BLACK), 'tbhits': 0, 'pv': [Move.from_uci('h8h7')], 'string': 'node  (  24) N:       1 (+ 0) (P:  0.00%) (WL: -0.11692) (D: 0.041) (M:  0.0) (Q: -0.11692) (V: -0.1169) '}\n",
      "{'depth': 1, 'seldepth': 1, 'time': 0.003, 'nodes': 1, 'score': PovScore(Cp(+22), WHITE), 'tbhits': 0, 'pv': [Move.from_uci('b1c3')], 'string': 'node  (  48) N:       1 (+ 0) (P:  0.00%) (WL:  0.15486) (D: 0.031) (M:  0.0) (Q:  0.15486) (V:  0.1549) '}\n",
      "{'depth': 1, 'seldepth': 1, 'time': 0.003, 'nodes': 1, 'score': PovScore(Cp(+14), BLACK), 'tbhits': 0, 'pv': [Move.from_uci('e8f7')], 'string': 'node  (   2) N:       1 (+ 0) (P:  0.00%) (WL:  0.09887) (D: 0.039) (M:  0.0) (Q:  0.09887) (V:  0.0989) '}\n",
      "{'depth': 1, 'seldepth': 1, 'time': 0.003, 'nodes': 1, 'score': PovScore(Cp(+22), WHITE), 'tbhits': 0, 'pv': [Move.from_uci('b1c3')], 'string': 'node  (  48) N:       1 (+ 0) (P:  0.00%) (WL:  0.15486) (D: 0.031) (M:  0.0) (Q:  0.15486) (V:  0.1549) '}\n",
      "{'depth': 1, 'seldepth': 1, 'time': 0.002, 'nodes': 1, 'score': PovScore(Cp(+173), BLACK), 'tbhits': 0, 'pv': [Move.from_uci('g7h6')], 'string': 'node  (  24) N:       1 (+ 0) (P:  0.00%) (WL:  0.69856) (D: 0.023) (M:  0.0) (Q:  0.69856) (V:  0.6986) '}\n",
      "{'depth': 1, 'seldepth': 1, 'time': 0.002, 'nodes': 1, 'score': PovScore(Cp(+22), WHITE), 'tbhits': 0, 'pv': [Move.from_uci('b1c3')], 'string': 'node  (  48) N:       1 (+ 0) (P:  0.00%) (WL:  0.15486) (D: 0.031) (M:  0.0) (Q:  0.15486) (V:  0.1549) '}\n",
      "{'depth': 1, 'seldepth': 1, 'time': 0.002, 'nodes': 1, 'score': PovScore(Cp(+27), BLACK), 'tbhits': 0, 'pv': [Move.from_uci('h7g6')], 'string': 'node  (  21) N:       1 (+ 0) (P:  0.00%) (WL:  0.19067) (D: 0.038) (M:  0.0) (Q:  0.19067) (V:  0.1907) '}\n",
      "{'depth': 1, 'seldepth': 1, 'time': 0.002, 'nodes': 1, 'score': PovScore(Cp(+22), WHITE), 'tbhits': 0, 'pv': [Move.from_uci('b1c3')], 'string': 'node  (  48) N:       1 (+ 0) (P:  0.00%) (WL:  0.15486) (D: 0.031) (M:  0.0) (Q:  0.15486) (V:  0.1549) '}\n",
      "{'depth': 1, 'seldepth': 1, 'time': 0.003, 'nodes': 1, 'score': PovScore(Cp(+3), BLACK), 'tbhits': 0, 'pv': [Move.from_uci('f7g5')], 'string': 'node  (  24) N:       1 (+ 0) (P:  0.00%) (WL:  0.02194) (D: 0.040) (M:  0.0) (Q:  0.02194) (V:  0.0219) '}\n",
      "{'depth': 1, 'seldepth': 1, 'time': 0.002, 'nodes': 1, 'score': PovScore(Cp(+22), WHITE), 'tbhits': 0, 'pv': [Move.from_uci('b1c3')], 'string': 'node  (  48) N:       1 (+ 0) (P:  0.00%) (WL:  0.15486) (D: 0.031) (M:  0.0) (Q:  0.15486) (V:  0.1549) '}\n",
      "{'depth': 1, 'seldepth': 1, 'time': 0.002, 'nodes': 1, 'score': PovScore(Cp(+17), BLACK), 'tbhits': 0, 'pv': [Move.from_uci('c8f5')], 'string': 'node  (  22) N:       1 (+ 0) (P:  0.00%) (WL:  0.11969) (D: 0.040) (M:  0.0) (Q:  0.11969) (V:  0.1197) '}\n",
      "{'depth': 1, 'seldepth': 1, 'time': 0.002, 'nodes': 1, 'score': PovScore(Cp(+22), WHITE), 'tbhits': 0, 'pv': [Move.from_uci('b1c3')], 'string': 'node  (  48) N:       1 (+ 0) (P:  0.00%) (WL:  0.15486) (D: 0.031) (M:  0.0) (Q:  0.15486) (V:  0.1549) '}\n",
      "{'depth': 1, 'seldepth': 1, 'time': 0.003, 'nodes': 1, 'score': PovScore(Cp(+154), BLACK), 'tbhits': 0, 'pv': [Move.from_uci('f7e5')], 'string': 'node  (  25) N:       1 (+ 0) (P:  0.00%) (WL:  0.66746) (D: 0.020) (M:  0.0) (Q:  0.66746) (V:  0.6675) '}\n",
      "{'depth': 1, 'seldepth': 1, 'time': 0.003, 'nodes': 1, 'score': PovScore(Cp(+22), WHITE), 'tbhits': 0, 'pv': [Move.from_uci('b1c3')], 'string': 'node  (  48) N:       1 (+ 0) (P:  0.00%) (WL:  0.15486) (D: 0.031) (M:  0.0) (Q:  0.15486) (V:  0.1549) '}\n",
      "{'depth': 1, 'seldepth': 1, 'time': 0.002, 'nodes': 1, 'score': PovScore(Cp(-13), BLACK), 'tbhits': 0, 'pv': [Move.from_uci('c7c6')], 'string': 'node  (  24) N:       1 (+ 0) (P:  0.00%) (WL: -0.09653) (D: 0.041) (M:  0.0) (Q: -0.09653) (V: -0.0965) '}\n",
      "{'depth': 1, 'seldepth': 1, 'time': 0.002, 'nodes': 1, 'score': PovScore(Cp(+22), WHITE), 'tbhits': 0, 'pv': [Move.from_uci('b1c3')], 'string': 'node  (  48) N:       1 (+ 0) (P:  0.00%) (WL:  0.15486) (D: 0.031) (M:  0.0) (Q:  0.15486) (V:  0.1549) '}\n",
      "{'depth': 1, 'seldepth': 1, 'time': 0.002, 'nodes': 1, 'score': PovScore(Cp(+49), BLACK), 'tbhits': 0, 'pv': [Move.from_uci('d6c5')], 'string': 'node  (  25) N:       1 (+ 0) (P:  0.00%) (WL:  0.32014) (D: 0.033) (M:  0.0) (Q:  0.32014) (V:  0.3201) '}\n",
      "{'depth': 1, 'seldepth': 1, 'time': 0.002, 'nodes': 1, 'score': PovScore(Cp(+22), WHITE), 'tbhits': 0, 'pv': [Move.from_uci('b1c3')], 'string': 'node  (  48) N:       1 (+ 0) (P:  0.00%) (WL:  0.15486) (D: 0.031) (M:  0.0) (Q:  0.15486) (V:  0.1549) '}\n",
      "{'depth': 1, 'seldepth': 1, 'time': 0.001, 'nodes': 1, 'score': PovScore(Cp(-8), BLACK), 'tbhits': 0, 'pv': [Move.from_uci('c7c6')], 'string': 'node  (   3) N:       1 (+ 0) (P:  0.00%) (WL: -0.06324) (D: 0.048) (M:  0.0) (Q: -0.06324) (V: -0.0632) '}\n",
      "{'depth': 1, 'seldepth': 1, 'time': 0.002, 'nodes': 1, 'score': PovScore(Cp(+22), WHITE), 'tbhits': 0, 'pv': [Move.from_uci('b1c3')], 'string': 'node  (  48) N:       1 (+ 0) (P:  0.00%) (WL:  0.15486) (D: 0.031) (M:  0.0) (Q:  0.15486) (V:  0.1549) '}\n",
      "{'depth': 1, 'seldepth': 1, 'time': 0.002, 'nodes': 1, 'score': PovScore(Cp(-12), BLACK), 'tbhits': 0, 'pv': [Move.from_uci('b7b6')], 'string': 'node  (  24) N:       1 (+ 0) (P:  0.00%) (WL: -0.08730) (D: 0.043) (M:  0.0) (Q: -0.08730) (V: -0.0873) '}\n",
      "{'depth': 1, 'seldepth': 1, 'time': 0.001, 'nodes': 1, 'score': PovScore(Cp(+22), WHITE), 'tbhits': 0, 'pv': [Move.from_uci('b1c3')], 'string': 'node  (  48) N:       1 (+ 0) (P:  0.00%) (WL:  0.15486) (D: 0.031) (M:  0.0) (Q:  0.15486) (V:  0.1549) '}\n",
      "{'depth': 1, 'seldepth': 1, 'time': 0.001, 'nodes': 1, 'score': PovScore(Cp(-20), BLACK), 'tbhits': 0, 'pv': [Move.from_uci('e7e5')], 'string': 'node  (  25) N:       1 (+ 0) (P:  0.00%) (WL: -0.14628) (D: 0.037) (M:  0.0) (Q: -0.14628) (V: -0.1463) '}\n",
      "{'depth': 1, 'seldepth': 1, 'time': 0.002, 'nodes': 1, 'score': PovScore(Cp(+22), WHITE), 'tbhits': 0, 'pv': [Move.from_uci('b1c3')], 'string': 'node  (  48) N:       1 (+ 0) (P:  0.00%) (WL:  0.15486) (D: 0.031) (M:  0.0) (Q:  0.15486) (V:  0.1549) '}\n",
      "{'depth': 1, 'seldepth': 1, 'time': 0.001, 'nodes': 1, 'score': PovScore(Cp(+192), BLACK), 'tbhits': 0, 'pv': [Move.from_uci('c8g4')], 'string': 'node  (  23) N:       1 (+ 0) (P:  0.00%) (WL:  0.72476) (D: 0.022) (M:  0.0) (Q:  0.72476) (V:  0.7248) '}\n",
      "{'depth': 1, 'seldepth': 1, 'time': 0.002, 'nodes': 1, 'score': PovScore(Cp(+22), WHITE), 'tbhits': 0, 'pv': [Move.from_uci('b1c3')], 'string': 'node  (  48) N:       1 (+ 0) (P:  0.00%) (WL:  0.15486) (D: 0.031) (M:  0.0) (Q:  0.15486) (V:  0.1549) '}\n",
      "{'depth': 1, 'seldepth': 1, 'time': 0.002, 'nodes': 1, 'score': PovScore(Cp(+112), BLACK), 'tbhits': 0, 'pv': [Move.from_uci('c8h3')], 'string': 'node  (  24) N:       1 (+ 0) (P:  0.00%) (WL:  0.57409) (D: 0.029) (M:  0.0) (Q:  0.57409) (V:  0.5741) '}\n",
      "{'depth': 1, 'seldepth': 1, 'time': 0.002, 'nodes': 1, 'score': PovScore(Cp(+22), WHITE), 'tbhits': 0, 'pv': [Move.from_uci('b1c3')], 'string': 'node  (  48) N:       1 (+ 0) (P:  0.00%) (WL:  0.15486) (D: 0.031) (M:  0.0) (Q:  0.15486) (V:  0.1549) '}\n",
      "{'depth': 1, 'seldepth': 1, 'time': 0.002, 'nodes': 1, 'score': PovScore(Cp(-13), BLACK), 'tbhits': 0, 'pv': [Move.from_uci('e7e5')], 'string': 'node  (  25) N:       1 (+ 0) (P:  0.00%) (WL: -0.09419) (D: 0.040) (M:  0.0) (Q: -0.09419) (V: -0.0942) '}\n",
      "{'depth': 1, 'seldepth': 1, 'time': 0.002, 'nodes': 1, 'score': PovScore(Cp(+22), WHITE), 'tbhits': 0, 'pv': [Move.from_uci('b1c3')], 'string': 'node  (  48) N:       1 (+ 0) (P:  0.00%) (WL:  0.15486) (D: 0.031) (M:  0.0) (Q:  0.15486) (V:  0.1549) '}\n",
      "{'depth': 1, 'seldepth': 1, 'time': 0.002, 'nodes': 1, 'score': PovScore(Cp(-10), BLACK), 'tbhits': 0, 'pv': [Move.from_uci('e7e5')], 'string': 'node  (  25) N:       1 (+ 0) (P:  0.00%) (WL: -0.07762) (D: 0.041) (M:  0.0) (Q: -0.07762) (V: -0.0776) '}\n",
      "{'depth': 1, 'seldepth': 1, 'time': 0.002, 'nodes': 1, 'score': PovScore(Cp(+22), WHITE), 'tbhits': 0, 'pv': [Move.from_uci('b1c3')], 'string': 'node  (  48) N:       1 (+ 0) (P:  0.00%) (WL:  0.15486) (D: 0.031) (M:  0.0) (Q:  0.15486) (V:  0.1549) '}\n",
      "{'depth': 1, 'seldepth': 1, 'time': 0.002, 'nodes': 1, 'score': PovScore(Cp(-6), BLACK), 'tbhits': 0, 'pv': [Move.from_uci('e7e5')], 'string': 'node  (  25) N:       1 (+ 0) (P:  0.00%) (WL: -0.04734) (D: 0.043) (M:  0.0) (Q: -0.04734) (V: -0.0473) '}\n",
      "{'depth': 1, 'seldepth': 1, 'time': 0.002, 'nodes': 1, 'score': PovScore(Cp(+22), WHITE), 'tbhits': 0, 'pv': [Move.from_uci('b1c3')], 'string': 'node  (  48) N:       1 (+ 0) (P:  0.00%) (WL:  0.15486) (D: 0.031) (M:  0.0) (Q:  0.15486) (V:  0.1549) '}\n",
      "{'depth': 1, 'seldepth': 1, 'time': 0.001, 'nodes': 1, 'score': PovScore(Cp(-76), BLACK), 'tbhits': 0, 'pv': [Move.from_uci('c8e6')], 'string': 'node  (  21) N:       1 (+ 0) (P:  0.00%) (WL: -0.45234) (D: 0.029) (M:  0.0) (Q: -0.45234) (V: -0.4523) '}\n",
      "{'depth': 1, 'seldepth': 1, 'time': 0.002, 'nodes': 1, 'score': PovScore(Cp(+22), WHITE), 'tbhits': 0, 'pv': [Move.from_uci('b1c3')], 'string': 'node  (  48) N:       1 (+ 0) (P:  0.00%) (WL:  0.15486) (D: 0.031) (M:  0.0) (Q:  0.15486) (V:  0.1549) '}\n",
      "{'depth': 1, 'seldepth': 1, 'time': 0.002, 'nodes': 1, 'score': PovScore(Cp(-22), BLACK), 'tbhits': 0, 'pv': [Move.from_uci('h7g6')], 'string': 'node  (  20) N:       1 (+ 0) (P:  0.00%) (WL: -0.15404) (D: 0.040) (M:  0.0) (Q: -0.15404) (V: -0.1540) '}\n",
      "{'depth': 1, 'seldepth': 1, 'time': 0.002, 'nodes': 1, 'score': PovScore(Cp(+22), WHITE), 'tbhits': 0, 'pv': [Move.from_uci('b1c3')], 'string': 'node  (  48) N:       1 (+ 0) (P:  0.00%) (WL:  0.15486) (D: 0.031) (M:  0.0) (Q:  0.15486) (V:  0.1549) '}\n",
      "{'depth': 1, 'seldepth': 1, 'time': 0.002, 'nodes': 1, 'score': PovScore(Cp(+20), BLACK), 'tbhits': 0, 'pv': [Move.from_uci('b7a6')], 'string': 'node  (  20) N:       1 (+ 0) (P:  0.00%) (WL:  0.14337) (D: 0.032) (M:  0.0) (Q:  0.14337) (V:  0.1434) '}\n",
      "{'depth': 1, 'seldepth': 1, 'time': 0.002, 'nodes': 1, 'score': PovScore(Cp(+22), WHITE), 'tbhits': 0, 'pv': [Move.from_uci('b1c3')], 'string': 'node  (  48) N:       1 (+ 0) (P:  0.00%) (WL:  0.15486) (D: 0.031) (M:  0.0) (Q:  0.15486) (V:  0.1549) '}\n",
      "{'depth': 1, 'seldepth': 1, 'time': 0.002, 'nodes': 1, 'score': PovScore(Cp(-7), BLACK), 'tbhits': 0, 'pv': [Move.from_uci('c8f5')], 'string': 'node  (  18) N:       1 (+ 0) (P:  0.00%) (WL: -0.05184) (D: 0.040) (M:  0.0) (Q: -0.05184) (V: -0.0518) '}\n",
      "{'depth': 1, 'seldepth': 1, 'time': 0.002, 'nodes': 1, 'score': PovScore(Cp(+22), WHITE), 'tbhits': 0, 'pv': [Move.from_uci('b1c3')], 'string': 'node  (  48) N:       1 (+ 0) (P:  0.00%) (WL:  0.15486) (D: 0.031) (M:  0.0) (Q:  0.15486) (V:  0.1549) '}\n",
      "{'depth': 1, 'seldepth': 1, 'time': 0.002, 'nodes': 1, 'score': PovScore(Cp(-17), BLACK), 'tbhits': 0, 'pv': [Move.from_uci('c7c6')], 'string': 'node  (   3) N:       1 (+ 0) (P:  0.00%) (WL: -0.12111) (D: 0.046) (M:  0.0) (Q: -0.12111) (V: -0.1211) '}\n",
      "{'depth': 1, 'seldepth': 1, 'time': 0.002, 'nodes': 1, 'score': PovScore(Cp(+22), WHITE), 'tbhits': 0, 'pv': [Move.from_uci('b1c3')], 'string': 'node  (  48) N:       1 (+ 0) (P:  0.00%) (WL:  0.15486) (D: 0.031) (M:  0.0) (Q:  0.15486) (V:  0.1549) '}\n",
      "{'depth': 1, 'seldepth': 1, 'time': 0.002, 'nodes': 1, 'score': PovScore(Cp(-18), BLACK), 'tbhits': 0, 'pv': [Move.from_uci('g7g6')], 'string': 'node  (  21) N:       1 (+ 0) (P:  0.00%) (WL: -0.13157) (D: 0.041) (M:  0.0) (Q: -0.13157) (V: -0.1316) '}\n",
      "{'depth': 1, 'seldepth': 1, 'time': 0.001, 'nodes': 1, 'score': PovScore(Cp(+22), WHITE), 'tbhits': 0, 'pv': [Move.from_uci('b1c3')], 'string': 'node  (  48) N:       1 (+ 0) (P:  0.00%) (WL:  0.15486) (D: 0.031) (M:  0.0) (Q:  0.15486) (V:  0.1549) '}\n",
      "{'depth': 1, 'seldepth': 1, 'time': 0.003, 'nodes': 1, 'score': PovScore(Cp(-35), BLACK), 'tbhits': 0, 'pv': [Move.from_uci('g7g6')], 'string': 'node  (  21) N:       1 (+ 0) (P:  0.00%) (WL: -0.23826) (D: 0.036) (M:  0.0) (Q: -0.23826) (V: -0.2383) '}\n",
      "{'depth': 1, 'seldepth': 1, 'time': 0.001, 'nodes': 1, 'score': PovScore(Cp(+22), WHITE), 'tbhits': 0, 'pv': [Move.from_uci('b1c3')], 'string': 'node  (  48) N:       1 (+ 0) (P:  0.00%) (WL:  0.15486) (D: 0.031) (M:  0.0) (Q:  0.15486) (V:  0.1549) '}\n",
      "{'depth': 1, 'seldepth': 1, 'time': 0.001, 'nodes': 1, 'score': PovScore(Cp(-15), BLACK), 'tbhits': 0, 'pv': [Move.from_uci('g7g6')], 'string': 'node  (  21) N:       1 (+ 0) (P:  0.00%) (WL: -0.11110) (D: 0.044) (M:  0.0) (Q: -0.11110) (V: -0.1111) '}\n",
      "{'depth': 1, 'seldepth': 1, 'time': 0.002, 'nodes': 1, 'score': PovScore(Cp(+22), WHITE), 'tbhits': 0, 'pv': [Move.from_uci('b1c3')], 'string': 'node  (  48) N:       1 (+ 0) (P:  0.00%) (WL:  0.15486) (D: 0.031) (M:  0.0) (Q:  0.15486) (V:  0.1549) '}\n",
      "{'depth': 1, 'seldepth': 1, 'time': 0.002, 'nodes': 1, 'score': PovScore(Cp(-19), BLACK), 'tbhits': 0, 'pv': [Move.from_uci('g7g6')], 'string': 'node  (  21) N:       1 (+ 0) (P:  0.00%) (WL: -0.13743) (D: 0.037) (M:  0.0) (Q: -0.13743) (V: -0.1374) '}\n",
      "{'depth': 1, 'seldepth': 1, 'time': 0.002, 'nodes': 1, 'score': PovScore(Cp(+22), WHITE), 'tbhits': 0, 'pv': [Move.from_uci('b1c3')], 'string': 'node  (  48) N:       1 (+ 0) (P:  0.00%) (WL:  0.15486) (D: 0.031) (M:  0.0) (Q:  0.15486) (V:  0.1549) '}\n",
      "{'depth': 1, 'seldepth': 1, 'time': 0.002, 'nodes': 1, 'score': PovScore(Cp(-29), BLACK), 'tbhits': 0, 'pv': [Move.from_uci('g7g6')], 'string': 'node  (  21) N:       1 (+ 0) (P:  0.00%) (WL: -0.20299) (D: 0.036) (M:  0.0) (Q: -0.20299) (V: -0.2030) '}\n",
      "{'depth': 1, 'seldepth': 1, 'time': 0.001, 'nodes': 1, 'score': PovScore(Cp(+22), WHITE), 'tbhits': 0, 'pv': [Move.from_uci('b1c3')], 'string': 'node  (  48) N:       1 (+ 0) (P:  0.00%) (WL:  0.15486) (D: 0.031) (M:  0.0) (Q:  0.15486) (V:  0.1549) '}\n",
      "{'depth': 1, 'seldepth': 1, 'time': 0.002, 'nodes': 1, 'score': PovScore(Cp(-20), BLACK), 'tbhits': 0, 'pv': [Move.from_uci('g7g6')], 'string': 'node  (  21) N:       1 (+ 0) (P:  0.00%) (WL: -0.14519) (D: 0.038) (M:  0.0) (Q: -0.14519) (V: -0.1452) '}\n",
      "{'depth': 1, 'seldepth': 1, 'time': 0.002, 'nodes': 1, 'score': PovScore(Cp(+22), WHITE), 'tbhits': 0, 'pv': [Move.from_uci('b1c3')], 'string': 'node  (  48) N:       1 (+ 0) (P:  0.00%) (WL:  0.15486) (D: 0.031) (M:  0.0) (Q:  0.15486) (V:  0.1549) '}\n",
      "{'depth': 1, 'seldepth': 1, 'time': 0.001, 'nodes': 1, 'score': PovScore(Cp(+25), BLACK), 'tbhits': 0, 'pv': [Move.from_uci('g7h6')], 'string': 'node  (  21) N:       1 (+ 0) (P:  0.00%) (WL:  0.17582) (D: 0.032) (M:  0.0) (Q:  0.17582) (V:  0.1758) '}\n",
      "{'depth': 1, 'seldepth': 1, 'time': 0.002, 'nodes': 1, 'score': PovScore(Cp(+22), WHITE), 'tbhits': 0, 'pv': [Move.from_uci('b1c3')], 'string': 'node  (  48) N:       1 (+ 0) (P:  0.00%) (WL:  0.15486) (D: 0.031) (M:  0.0) (Q:  0.15486) (V:  0.1549) '}\n",
      "{'depth': 1, 'seldepth': 1, 'time': 0.002, 'nodes': 1, 'score': PovScore(Cp(-28), BLACK), 'tbhits': 0, 'pv': [Move.from_uci('g7g6')], 'string': 'node  (  20) N:       1 (+ 0) (P:  0.00%) (WL: -0.19884) (D: 0.039) (M:  0.0) (Q: -0.19884) (V: -0.1988) '}\n",
      "{'depth': 1, 'seldepth': 1, 'time': 0.002, 'nodes': 1, 'score': PovScore(Cp(+22), WHITE), 'tbhits': 0, 'pv': [Move.from_uci('b1c3')], 'string': 'node  (  48) N:       1 (+ 0) (P:  0.00%) (WL:  0.15486) (D: 0.031) (M:  0.0) (Q:  0.15486) (V:  0.1549) '}\n",
      "{'depth': 1, 'seldepth': 1, 'time': 0.002, 'nodes': 1, 'score': PovScore(Cp(-25), BLACK), 'tbhits': 0, 'pv': [Move.from_uci('e7e5')], 'string': 'node  (  21) N:       1 (+ 0) (P:  0.00%) (WL: -0.17357) (D: 0.039) (M:  0.0) (Q: -0.17357) (V: -0.1736) '}\n",
      "{'depth': 1, 'seldepth': 1, 'time': 0.002, 'nodes': 1, 'score': PovScore(Cp(+22), WHITE), 'tbhits': 0, 'pv': [Move.from_uci('b1c3')], 'string': 'node  (  48) N:       1 (+ 0) (P:  0.00%) (WL:  0.15486) (D: 0.031) (M:  0.0) (Q:  0.15486) (V:  0.1549) '}\n",
      "{'depth': 1, 'seldepth': 1, 'time': 0.002, 'nodes': 1, 'score': PovScore(Cp(-23), BLACK), 'tbhits': 0, 'pv': [Move.from_uci('g7g6')], 'string': 'node  (  21) N:       1 (+ 0) (P:  0.00%) (WL: -0.16574) (D: 0.041) (M:  0.0) (Q: -0.16574) (V: -0.1657) '}\n",
      "{'depth': 1, 'seldepth': 1, 'time': 0.002, 'nodes': 1, 'score': PovScore(Cp(+22), WHITE), 'tbhits': 0, 'pv': [Move.from_uci('b1c3')], 'string': 'node  (  48) N:       1 (+ 0) (P:  0.00%) (WL:  0.15486) (D: 0.031) (M:  0.0) (Q:  0.15486) (V:  0.1549) '}\n",
      "{'depth': 1, 'seldepth': 1, 'time': 0.002, 'nodes': 1, 'score': PovScore(Cp(-25), BLACK), 'tbhits': 0, 'pv': [Move.from_uci('g7g6')], 'string': 'node  (  21) N:       1 (+ 0) (P:  0.00%) (WL: -0.17693) (D: 0.039) (M:  0.0) (Q: -0.17693) (V: -0.1769) '}\n",
      "{'depth': 1, 'seldepth': 1, 'time': 0.002, 'nodes': 1, 'score': PovScore(Cp(+22), WHITE), 'tbhits': 0, 'pv': [Move.from_uci('b1c3')], 'string': 'node  (  48) N:       1 (+ 0) (P:  0.00%) (WL:  0.15486) (D: 0.031) (M:  0.0) (Q:  0.15486) (V:  0.1549) '}\n",
      "{'depth': 1, 'seldepth': 1, 'time': 0.003, 'nodes': 1, 'score': PovScore(Cp(-26), BLACK), 'tbhits': 0, 'pv': [Move.from_uci('g7g6')], 'string': 'node  (  21) N:       1 (+ 0) (P:  0.00%) (WL: -0.18491) (D: 0.039) (M:  0.0) (Q: -0.18491) (V: -0.1849) '}\n",
      "{'depth': 1, 'seldepth': 1, 'time': 0.003, 'nodes': 1, 'score': PovScore(Cp(+22), WHITE), 'tbhits': 0, 'pv': [Move.from_uci('b1c3')], 'string': 'node  (  48) N:       1 (+ 0) (P:  0.00%) (WL:  0.15486) (D: 0.031) (M:  0.0) (Q:  0.15486) (V:  0.1549) '}\n",
      "{'depth': 1, 'seldepth': 1, 'time': 0.003, 'nodes': 1, 'score': PovScore(Cp(-25), BLACK), 'tbhits': 0, 'pv': [Move.from_uci('g7g6')], 'string': 'node  (  21) N:       1 (+ 0) (P:  0.00%) (WL: -0.17780) (D: 0.040) (M:  0.0) (Q: -0.17780) (V: -0.1778) '}\n",
      "{'depth': 1, 'seldepth': 1, 'time': 0.004, 'nodes': 1, 'score': PovScore(Cp(+22), WHITE), 'tbhits': 0, 'pv': [Move.from_uci('b1c3')], 'string': 'node  (  48) N:       1 (+ 0) (P:  0.00%) (WL:  0.15486) (D: 0.031) (M:  0.0) (Q:  0.15486) (V:  0.1549) '}\n",
      "{'depth': 1, 'seldepth': 1, 'time': 0.003, 'nodes': 1, 'score': PovScore(Cp(-27), BLACK), 'tbhits': 0, 'pv': [Move.from_uci('g7g6')], 'string': 'node  (  21) N:       1 (+ 0) (P:  0.00%) (WL: -0.18684) (D: 0.038) (M:  0.0) (Q: -0.18684) (V: -0.1868) '}\n",
      "{'depth': 1, 'seldepth': 1, 'time': 0.003, 'nodes': 1, 'score': PovScore(Cp(+22), WHITE), 'tbhits': 0, 'pv': [Move.from_uci('b1c3')], 'string': 'node  (  48) N:       1 (+ 0) (P:  0.00%) (WL:  0.15486) (D: 0.031) (M:  0.0) (Q:  0.15486) (V:  0.1549) '}\n",
      "{'depth': 1, 'seldepth': 1, 'time': 0.005, 'nodes': 1, 'score': PovScore(Cp(-18), BLACK), 'tbhits': 0, 'pv': [Move.from_uci('g7g6')], 'string': 'node  (  21) N:       1 (+ 0) (P:  0.00%) (WL: -0.13170) (D: 0.041) (M:  0.0) (Q: -0.13170) (V: -0.1317) '}\n",
      "{'depth': 1, 'seldepth': 1, 'time': 0.004, 'nodes': 1, 'score': PovScore(Cp(+22), WHITE), 'tbhits': 0, 'pv': [Move.from_uci('b1c3')], 'string': 'node  (  48) N:       1 (+ 0) (P:  0.00%) (WL:  0.15486) (D: 0.031) (M:  0.0) (Q:  0.15486) (V:  0.1549) '}\n",
      "{'depth': 1, 'seldepth': 1, 'time': 0.002, 'nodes': 1, 'score': PovScore(Cp(-16), BLACK), 'tbhits': 0, 'pv': [Move.from_uci('g7g6')], 'string': 'node  (  21) N:       1 (+ 0) (P:  0.00%) (WL: -0.11813) (D: 0.040) (M:  0.0) (Q: -0.11813) (V: -0.1181) '}\n",
      "{'depth': 1, 'seldepth': 1, 'time': 0.002, 'nodes': 1, 'score': PovScore(Cp(+22), WHITE), 'tbhits': 0, 'pv': [Move.from_uci('b1c3')], 'string': 'node  (  48) N:       1 (+ 0) (P:  0.00%) (WL:  0.15486) (D: 0.031) (M:  0.0) (Q:  0.15486) (V:  0.1549) '}\n",
      "{'depth': 1, 'seldepth': 1, 'time': 0.002, 'nodes': 1, 'score': PovScore(Cp(-18), BLACK), 'tbhits': 0, 'pv': [Move.from_uci('g7g6')], 'string': 'node  (  21) N:       1 (+ 0) (P:  0.00%) (WL: -0.12703) (D: 0.038) (M:  0.0) (Q: -0.12703) (V: -0.1270) '}\n",
      "{'depth': 1, 'seldepth': 1, 'time': 0.003, 'nodes': 1, 'score': PovScore(Cp(+22), WHITE), 'tbhits': 0, 'pv': [Move.from_uci('b1c3')], 'string': 'node  (  48) N:       1 (+ 0) (P:  0.00%) (WL:  0.15486) (D: 0.031) (M:  0.0) (Q:  0.15486) (V:  0.1549) '}\n",
      "{'depth': 1, 'seldepth': 1, 'time': 0.004, 'nodes': 1, 'score': PovScore(Cp(-19), BLACK), 'tbhits': 0, 'pv': [Move.from_uci('g7g6')], 'string': 'node  (  21) N:       1 (+ 0) (P:  0.00%) (WL: -0.13749) (D: 0.038) (M:  0.0) (Q: -0.13749) (V: -0.1375) '}\n",
      "{'depth': 1, 'seldepth': 1, 'time': 0.002, 'nodes': 1, 'score': PovScore(Cp(+22), WHITE), 'tbhits': 0, 'pv': [Move.from_uci('b1c3')], 'string': 'node  (  48) N:       1 (+ 0) (P:  0.00%) (WL:  0.15486) (D: 0.031) (M:  0.0) (Q:  0.15486) (V:  0.1549) '}\n",
      "{'depth': 1, 'seldepth': 1, 'time': 0.002, 'nodes': 1, 'score': PovScore(Cp(-22), BLACK), 'tbhits': 0, 'pv': [Move.from_uci('g7g6')], 'string': 'node  (  21) N:       1 (+ 0) (P:  0.00%) (WL: -0.15339) (D: 0.039) (M:  0.0) (Q: -0.15339) (V: -0.1534) '}\n",
      "{'depth': 1, 'seldepth': 1, 'time': 0.002, 'nodes': 1, 'score': PovScore(Cp(+22), WHITE), 'tbhits': 0, 'pv': [Move.from_uci('b1c3')], 'string': 'node  (  48) N:       1 (+ 0) (P:  0.00%) (WL:  0.15486) (D: 0.031) (M:  0.0) (Q:  0.15486) (V:  0.1549) '}\n",
      "{'depth': 1, 'seldepth': 1, 'time': 0.002, 'nodes': 1, 'score': PovScore(Cp(-22), BLACK), 'tbhits': 0, 'pv': [Move.from_uci('g7g6')], 'string': 'node  (  21) N:       1 (+ 0) (P:  0.00%) (WL: -0.15663) (D: 0.039) (M:  0.0) (Q: -0.15663) (V: -0.1566) '}\n",
      "{'depth': 1, 'seldepth': 1, 'time': 0.002, 'nodes': 1, 'score': PovScore(Cp(+22), WHITE), 'tbhits': 0, 'pv': [Move.from_uci('b1c3')], 'string': 'node  (  48) N:       1 (+ 0) (P:  0.00%) (WL:  0.15486) (D: 0.031) (M:  0.0) (Q:  0.15486) (V:  0.1549) '}\n",
      "{'depth': 1, 'seldepth': 1, 'time': 0.001, 'nodes': 1, 'score': PovScore(Cp(-20), BLACK), 'tbhits': 0, 'pv': [Move.from_uci('g7g6')], 'string': 'node  (  21) N:       1 (+ 0) (P:  0.00%) (WL: -0.14576) (D: 0.037) (M:  0.0) (Q: -0.14576) (V: -0.1458) '}\n",
      "{'depth': 1, 'seldepth': 1, 'time': 0.002, 'nodes': 1, 'score': PovScore(Cp(+22), WHITE), 'tbhits': 0, 'pv': [Move.from_uci('b1c3')], 'string': 'node  (  48) N:       1 (+ 0) (P:  0.00%) (WL:  0.15486) (D: 0.031) (M:  0.0) (Q:  0.15486) (V:  0.1549) '}\n",
      "{'depth': 1, 'seldepth': 1, 'time': 0.002, 'nodes': 1, 'score': PovScore(Cp(-11), BLACK), 'tbhits': 0, 'pv': [Move.from_uci('g7g6')], 'string': 'node  (  20) N:       1 (+ 0) (P:  0.00%) (WL: -0.08024) (D: 0.040) (M:  0.0) (Q: -0.08024) (V: -0.0802) '}\n",
      "{'depth': 1, 'seldepth': 1, 'time': 0.002, 'nodes': 1, 'score': PovScore(Cp(+22), WHITE), 'tbhits': 0, 'pv': [Move.from_uci('b1c3')], 'string': 'node  (  48) N:       1 (+ 0) (P:  0.00%) (WL:  0.15486) (D: 0.031) (M:  0.0) (Q:  0.15486) (V:  0.1549) '}\n",
      "{'depth': 1, 'seldepth': 1, 'time': 0.002, 'nodes': 1, 'score': PovScore(Cp(-24), BLACK), 'tbhits': 0, 'pv': [Move.from_uci('g7g6')], 'string': 'node  (  21) N:       1 (+ 0) (P:  0.00%) (WL: -0.17227) (D: 0.035) (M:  0.0) (Q: -0.17227) (V: -0.1723) '}\n",
      "{'depth': 1, 'seldepth': 1, 'time': 0.002, 'nodes': 1, 'score': PovScore(Cp(+22), WHITE), 'tbhits': 0, 'pv': [Move.from_uci('b1c3')], 'string': 'node  (  48) N:       1 (+ 0) (P:  0.00%) (WL:  0.15486) (D: 0.031) (M:  0.0) (Q:  0.15486) (V:  0.1549) '}\n",
      "{'depth': 1, 'seldepth': 1, 'time': 0.002, 'nodes': 1, 'score': PovScore(Cp(-15), BLACK), 'tbhits': 0, 'pv': [Move.from_uci('g7g6')], 'string': 'node  (  21) N:       1 (+ 0) (P:  0.00%) (WL: -0.11080) (D: 0.037) (M:  0.0) (Q: -0.11080) (V: -0.1108) '}\n",
      "{'depth': 1, 'seldepth': 1, 'time': 0.002, 'nodes': 1, 'score': PovScore(Cp(+22), WHITE), 'tbhits': 0, 'pv': [Move.from_uci('b1c3')], 'string': 'node  (  48) N:       1 (+ 0) (P:  0.00%) (WL:  0.15486) (D: 0.031) (M:  0.0) (Q:  0.15486) (V:  0.1549) '}\n",
      "{'depth': 1, 'seldepth': 1, 'time': 0.002, 'nodes': 1, 'score': PovScore(Cp(-20), BLACK), 'tbhits': 0, 'pv': [Move.from_uci('g7g6')], 'string': 'node  (  21) N:       1 (+ 0) (P:  0.00%) (WL: -0.14498) (D: 0.037) (M:  0.0) (Q: -0.14498) (V: -0.1450) '}\n",
      "{'depth': 1, 'seldepth': 1, 'time': 0.002, 'nodes': 1, 'score': PovScore(Cp(+22), WHITE), 'tbhits': 0, 'pv': [Move.from_uci('b1c3')], 'string': 'node  (  48) N:       1 (+ 0) (P:  0.00%) (WL:  0.15486) (D: 0.031) (M:  0.0) (Q:  0.15486) (V:  0.1549) '}\n",
      "{'depth': 1, 'seldepth': 1, 'time': 0.002, 'nodes': 1, 'score': PovScore(Cp(-24), BLACK), 'tbhits': 0, 'pv': [Move.from_uci('g7g6')], 'string': 'node  (  21) N:       1 (+ 0) (P:  0.00%) (WL: -0.17268) (D: 0.037) (M:  0.0) (Q: -0.17268) (V: -0.1727) '}\n"
     ]
    },
    {
     "data": {
      "text/plain": [
       "[(Move.from_uci('d3h7'), 0.052999999999999936),\n",
       " (Move.from_uci('d3c4'), 0.013000000000000012),\n",
       " (Move.from_uci('f1e1'), 0.007000000000000006),\n",
       " (Move.from_uci('c1g5'), 0.006000000000000005),\n",
       " (Move.from_uci('b1d2'), 0.0050000000000000044),\n",
       " (Move.from_uci('b1c3'), 0.0040000000000000036),\n",
       " (Move.from_uci('c1f4'), 0.0030000000000000027),\n",
       " (Move.from_uci('c1d2'), 0.0030000000000000027),\n",
       " (Move.from_uci('b1a3'), 0.0030000000000000027),\n",
       " (Move.from_uci('f2f4'), 0.0020000000000000018)]"
      ]
     },
     "execution_count": 59,
     "metadata": {},
     "output_type": "execute_result"
    }
   ],
   "source": [
    "with chess.engine.SimpleEngine.popen_uci(engine_path) as engine:\n",
    "    all_evals = get_evals(engine, board, board.legal_moves)\n",
    "    all_evals.sort(key=lambda eval: eval[1], reverse=True)\n",
    "    top_n_results = all_evals[:n]\n",
    "top_n_results"
   ]
  },
  {
   "cell_type": "code",
   "execution_count": 69,
   "metadata": {},
   "outputs": [],
   "source": [
    "def get_evals(engine: chess.engine.SimpleEngine, board: chess.Board, suggestions: List[chess.Move], mate_score: int=2000) -> List[Tuple[chess.Move, int]]:\n",
    "    \"Obtain engine evaluations for a list of moves in a given position\"\n",
    "\n",
    "    evals = []\n",
    "    for move in suggestions:\n",
    "        tmp_board = chess.Board(board.fen())\n",
    "        tmp_board.push(move)\n",
    "        if tmp_board.outcome() is not None:\n",
    "            move_score = mate_score if tmp_board.is_checkmate() else -mate_score\n",
    "            evals.append((move, move_score))\n",
    "            continue\n",
    "        limit = chess.engine.Limit(nodes=1)\n",
    "        # prev_eval = engine.analyse(board, limit=limit, game=object()) # https://stackoverflow.com/a/66251120\n",
    "        # print(prev_eval) \n",
    "        curr_eval = engine.analyse(tmp_board, limit=limit, game=object())\n",
    "        print(curr_eval)\n",
    "        orig_turn = board.turn\n",
    "        if 'pv' in curr_eval:\n",
    "            # prev_score = prev_eval['score'].pov(orig_turn)\n",
    "            curr_score = curr_eval['score'].pov(orig_turn)\n",
    "            move_score = curr_score.score(mate_score=mate_score)\n",
    "            evals.append((move, move_score))\n",
    "    return evals"
   ]
  },
  {
   "cell_type": "code",
   "execution_count": 70,
   "metadata": {},
   "outputs": [
    {
     "name": "stderr",
     "output_type": "stream",
     "text": [
      "<UciProtocol (pid=16002)>: stderr >> \u001b[1m\u001b[31m       _\n",
      "<UciProtocol (pid=16002)>: stderr >> |   _ | |\n",
      "<UciProtocol (pid=16002)>: stderr >> |_ |_ |_|\u001b[0m v0.30.0-dev+git.bfa5b7d built May 17 2022\n",
      "<UciProtocol (pid=16002)>: stderr >> Loading weights file from: tactics/bin/maia_weights/maia-1600.pb\n",
      "<UciProtocol (pid=16002)>: stderr >> Creating backend [eigen]...\n",
      "<UciProtocol (pid=16002)>: stderr >> Using Eigen version 3.3.7\n",
      "<UciProtocol (pid=16002)>: stderr >> Eigen max batch size is 256.\n"
     ]
    },
    {
     "name": "stdout",
     "output_type": "stream",
     "text": [
      "{'depth': 1, 'seldepth': 1, 'time': 0.002, 'nodes': 1, 'score': PovScore(Cp(-26), BLACK), 'tbhits': 0, 'pv': [Move.from_uci('g7g6')]}\n",
      "{'depth': 1, 'seldepth': 1, 'time': 0.002, 'nodes': 1, 'score': PovScore(Cp(-28), BLACK), 'tbhits': 0, 'pv': [Move.from_uci('g7g6')]}\n",
      "{'depth': 1, 'seldepth': 1, 'time': 0.002, 'nodes': 1, 'score': PovScore(Cp(-35), BLACK), 'tbhits': 0, 'pv': [Move.from_uci('g7g6')]}\n",
      "{'depth': 1, 'seldepth': 1, 'time': 0.002, 'nodes': 1, 'score': PovScore(Cp(-29), BLACK), 'tbhits': 0, 'pv': [Move.from_uci('g7g6')]}\n"
     ]
    },
    {
     "data": {
      "text/plain": [
       "[(Move.from_uci('b1c3'), 26),\n",
       " (Move.from_uci('c1g5'), 28),\n",
       " (Move.from_uci('d3c4'), 35),\n",
       " (Move.from_uci('f1e1'), 29)]"
      ]
     },
     "execution_count": 70,
     "metadata": {},
     "output_type": "execute_result"
    }
   ],
   "source": [
    "with chess.engine.SimpleEngine.popen_uci(engine_path) as engine:\n",
    "    evals = get_evals(engine, board, moves)\n",
    "evals"
   ]
  }
 ],
 "metadata": {
  "interpreter": {
   "hash": "6355374956c5778604016e244f979cc331398a530384f2842e5bccfbc3abef60"
  },
  "kernelspec": {
   "display_name": "Python 3.10.0 ('tactics')",
   "language": "python",
   "name": "python3"
  },
  "language_info": {
   "codemirror_mode": {
    "name": "ipython",
    "version": 3
   },
   "file_extension": ".py",
   "mimetype": "text/x-python",
   "name": "python",
   "nbconvert_exporter": "python",
   "pygments_lexer": "ipython3",
   "version": "3.10.0"
  },
  "orig_nbformat": 4
 },
 "nbformat": 4,
 "nbformat_minor": 2
}
