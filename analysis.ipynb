{
 "cells": [
  {
   "cell_type": "markdown",
   "metadata": {},
   "source": [
    "# Import required libraries"
   ]
  },
  {
   "cell_type": "code",
   "execution_count": 21,
   "metadata": {},
   "outputs": [],
   "source": [
    "import numpy as np\n",
    "import pandas as pd\n",
    "import matplotlib.pyplot as plt"
   ]
  },
  {
   "cell_type": "markdown",
   "metadata": {},
   "source": [
    "# Load data"
   ]
  },
  {
   "cell_type": "code",
   "execution_count": 22,
   "metadata": {},
   "outputs": [],
   "source": [
    "data_filename = 'tactics/data/stats/metrics_valid_maia1600_trial.csv'\n",
    "df = pd.read_csv(data_filename)"
   ]
  },
  {
   "cell_type": "markdown",
   "metadata": {},
   "source": [
    "# Do analysis"
   ]
  },
  {
   "cell_type": "code",
   "execution_count": null,
   "metadata": {},
   "outputs": [],
   "source": [
    "df.describe()"
   ]
  },
  {
   "cell_type": "markdown",
   "metadata": {},
   "source": [
    "## Group by tactic"
   ]
  },
  {
   "cell_type": "code",
   "execution_count": 16,
   "metadata": {},
   "outputs": [
    {
     "data": {
      "text/html": [
       "<div>\n",
       "<style scoped>\n",
       "    .dataframe tbody tr th:only-of-type {\n",
       "        vertical-align: middle;\n",
       "    }\n",
       "\n",
       "    .dataframe tbody tr th {\n",
       "        vertical-align: top;\n",
       "    }\n",
       "\n",
       "    .dataframe thead th {\n",
       "        text-align: right;\n",
       "    }\n",
       "</style>\n",
       "<table border=\"1\" class=\"dataframe\">\n",
       "  <thead>\n",
       "    <tr style=\"text-align: right;\">\n",
       "      <th></th>\n",
       "      <th>matches</th>\n",
       "      <th>divergence</th>\n",
       "      <th>avg</th>\n",
       "      <th>empty_suggestions</th>\n",
       "      <th>num_suggestions</th>\n",
       "      <th>correct_move</th>\n",
       "      <th>tactic_evals</th>\n",
       "      <th>ground_evals</th>\n",
       "      <th>best_move_evals</th>\n",
       "      <th>exec_time</th>\n",
       "    </tr>\n",
       "    <tr>\n",
       "      <th>tactic_text</th>\n",
       "      <th></th>\n",
       "      <th></th>\n",
       "      <th></th>\n",
       "      <th></th>\n",
       "      <th></th>\n",
       "      <th></th>\n",
       "      <th></th>\n",
       "      <th></th>\n",
       "      <th></th>\n",
       "      <th></th>\n",
       "    </tr>\n",
       "  </thead>\n",
       "  <tbody>\n",
       "    <tr>\n",
       "      <th>f(A,B,C):-legal_move(B,C,A)</th>\n",
       "      <td>1</td>\n",
       "      <td>0.0</td>\n",
       "      <td>0.0</td>\n",
       "      <td>0</td>\n",
       "      <td>1</td>\n",
       "      <td>1</td>\n",
       "      <td>366</td>\n",
       "      <td>366</td>\n",
       "      <td>366</td>\n",
       "      <td>0.080767</td>\n",
       "    </tr>\n",
       "    <tr>\n",
       "      <th>f(A,B,C):-legal_move(B,C,A),attacks(B,C,A)</th>\n",
       "      <td>1</td>\n",
       "      <td>0.0</td>\n",
       "      <td>0.0</td>\n",
       "      <td>0</td>\n",
       "      <td>1</td>\n",
       "      <td>1</td>\n",
       "      <td>366</td>\n",
       "      <td>366</td>\n",
       "      <td>366</td>\n",
       "      <td>0.079788</td>\n",
       "    </tr>\n",
       "    <tr>\n",
       "      <th>f(A,B,C):-legal_move(B,C,A),attacks(B,C,A),attacks(B,D,A),attacks(B,E,A),behind(B,D,E,A)</th>\n",
       "      <td>1</td>\n",
       "      <td>0.0</td>\n",
       "      <td>0.0</td>\n",
       "      <td>0</td>\n",
       "      <td>1</td>\n",
       "      <td>1</td>\n",
       "      <td>366</td>\n",
       "      <td>366</td>\n",
       "      <td>366</td>\n",
       "      <td>0.082509</td>\n",
       "    </tr>\n",
       "    <tr>\n",
       "      <th>f(A,B,C):-legal_move(B,C,A),attacks(B,C,A),attacks(B,D,A),attacks(B,E,A),behind(B,E,D,A)</th>\n",
       "      <td>1</td>\n",
       "      <td>0.0</td>\n",
       "      <td>0.0</td>\n",
       "      <td>0</td>\n",
       "      <td>1</td>\n",
       "      <td>1</td>\n",
       "      <td>366</td>\n",
       "      <td>366</td>\n",
       "      <td>366</td>\n",
       "      <td>0.080564</td>\n",
       "    </tr>\n",
       "    <tr>\n",
       "      <th>f(A,B,C):-legal_move(B,C,A),attacks(B,C,A),attacks(B,D,A),attacks(B,E,A),different_pos(D,E)</th>\n",
       "      <td>0</td>\n",
       "      <td>0.0</td>\n",
       "      <td>0.0</td>\n",
       "      <td>1</td>\n",
       "      <td>0</td>\n",
       "      <td>0</td>\n",
       "      <td>0</td>\n",
       "      <td>366</td>\n",
       "      <td>366</td>\n",
       "      <td>0.056628</td>\n",
       "    </tr>\n",
       "    <tr>\n",
       "      <th>...</th>\n",
       "      <td>...</td>\n",
       "      <td>...</td>\n",
       "      <td>...</td>\n",
       "      <td>...</td>\n",
       "      <td>...</td>\n",
       "      <td>...</td>\n",
       "      <td>...</td>\n",
       "      <td>...</td>\n",
       "      <td>...</td>\n",
       "      <td>...</td>\n",
       "    </tr>\n",
       "    <tr>\n",
       "      <th>f(A,B,C):-legal_move(B,C,A),behind(B,E,D,A),different_pos(D,E)</th>\n",
       "      <td>0</td>\n",
       "      <td>0.0</td>\n",
       "      <td>0.0</td>\n",
       "      <td>1</td>\n",
       "      <td>0</td>\n",
       "      <td>0</td>\n",
       "      <td>0</td>\n",
       "      <td>366</td>\n",
       "      <td>366</td>\n",
       "      <td>0.056805</td>\n",
       "    </tr>\n",
       "    <tr>\n",
       "      <th>f(A,B,C):-legal_move(B,C,A),behind(B,E,D,A),different_pos(D,E),different_pos(B,E)</th>\n",
       "      <td>0</td>\n",
       "      <td>0.0</td>\n",
       "      <td>0.0</td>\n",
       "      <td>1</td>\n",
       "      <td>0</td>\n",
       "      <td>0</td>\n",
       "      <td>0</td>\n",
       "      <td>366</td>\n",
       "      <td>366</td>\n",
       "      <td>0.061047</td>\n",
       "    </tr>\n",
       "    <tr>\n",
       "      <th>f(A,B,C):-legal_move(B,C,A),behind(B,E,D,A),different_pos(D,E),different_pos(B,E),different_pos(C,D)</th>\n",
       "      <td>0</td>\n",
       "      <td>0.0</td>\n",
       "      <td>0.0</td>\n",
       "      <td>1</td>\n",
       "      <td>0</td>\n",
       "      <td>0</td>\n",
       "      <td>0</td>\n",
       "      <td>366</td>\n",
       "      <td>366</td>\n",
       "      <td>0.057390</td>\n",
       "    </tr>\n",
       "    <tr>\n",
       "      <th>f(A,B,C):-legal_move(B,C,A),behind(B,E,D,A),different_pos(D,E),different_pos(C,D)</th>\n",
       "      <td>0</td>\n",
       "      <td>0.0</td>\n",
       "      <td>0.0</td>\n",
       "      <td>1</td>\n",
       "      <td>0</td>\n",
       "      <td>0</td>\n",
       "      <td>0</td>\n",
       "      <td>366</td>\n",
       "      <td>366</td>\n",
       "      <td>0.058581</td>\n",
       "    </tr>\n",
       "    <tr>\n",
       "      <th>f(A,B,C):-legal_move(B,C,A),different_pos(B,C)</th>\n",
       "      <td>1</td>\n",
       "      <td>0.0</td>\n",
       "      <td>0.0</td>\n",
       "      <td>0</td>\n",
       "      <td>1</td>\n",
       "      <td>1</td>\n",
       "      <td>366</td>\n",
       "      <td>366</td>\n",
       "      <td>366</td>\n",
       "      <td>0.082664</td>\n",
       "    </tr>\n",
       "  </tbody>\n",
       "</table>\n",
       "<p>469 rows × 10 columns</p>\n",
       "</div>"
      ],
      "text/plain": [
       "                                                    matches  divergence  avg  \\\n",
       "tactic_text                                                                    \n",
       "f(A,B,C):-legal_move(B,C,A)                               1         0.0  0.0   \n",
       "f(A,B,C):-legal_move(B,C,A),attacks(B,C,A)                1         0.0  0.0   \n",
       "f(A,B,C):-legal_move(B,C,A),attacks(B,C,A),atta...        1         0.0  0.0   \n",
       "f(A,B,C):-legal_move(B,C,A),attacks(B,C,A),atta...        1         0.0  0.0   \n",
       "f(A,B,C):-legal_move(B,C,A),attacks(B,C,A),atta...        0         0.0  0.0   \n",
       "...                                                     ...         ...  ...   \n",
       "f(A,B,C):-legal_move(B,C,A),behind(B,E,D,A),dif...        0         0.0  0.0   \n",
       "f(A,B,C):-legal_move(B,C,A),behind(B,E,D,A),dif...        0         0.0  0.0   \n",
       "f(A,B,C):-legal_move(B,C,A),behind(B,E,D,A),dif...        0         0.0  0.0   \n",
       "f(A,B,C):-legal_move(B,C,A),behind(B,E,D,A),dif...        0         0.0  0.0   \n",
       "f(A,B,C):-legal_move(B,C,A),different_pos(B,C)            1         0.0  0.0   \n",
       "\n",
       "                                                    empty_suggestions  \\\n",
       "tactic_text                                                             \n",
       "f(A,B,C):-legal_move(B,C,A)                                         0   \n",
       "f(A,B,C):-legal_move(B,C,A),attacks(B,C,A)                          0   \n",
       "f(A,B,C):-legal_move(B,C,A),attacks(B,C,A),atta...                  0   \n",
       "f(A,B,C):-legal_move(B,C,A),attacks(B,C,A),atta...                  0   \n",
       "f(A,B,C):-legal_move(B,C,A),attacks(B,C,A),atta...                  1   \n",
       "...                                                               ...   \n",
       "f(A,B,C):-legal_move(B,C,A),behind(B,E,D,A),dif...                  1   \n",
       "f(A,B,C):-legal_move(B,C,A),behind(B,E,D,A),dif...                  1   \n",
       "f(A,B,C):-legal_move(B,C,A),behind(B,E,D,A),dif...                  1   \n",
       "f(A,B,C):-legal_move(B,C,A),behind(B,E,D,A),dif...                  1   \n",
       "f(A,B,C):-legal_move(B,C,A),different_pos(B,C)                      0   \n",
       "\n",
       "                                                    num_suggestions  \\\n",
       "tactic_text                                                           \n",
       "f(A,B,C):-legal_move(B,C,A)                                       1   \n",
       "f(A,B,C):-legal_move(B,C,A),attacks(B,C,A)                        1   \n",
       "f(A,B,C):-legal_move(B,C,A),attacks(B,C,A),atta...                1   \n",
       "f(A,B,C):-legal_move(B,C,A),attacks(B,C,A),atta...                1   \n",
       "f(A,B,C):-legal_move(B,C,A),attacks(B,C,A),atta...                0   \n",
       "...                                                             ...   \n",
       "f(A,B,C):-legal_move(B,C,A),behind(B,E,D,A),dif...                0   \n",
       "f(A,B,C):-legal_move(B,C,A),behind(B,E,D,A),dif...                0   \n",
       "f(A,B,C):-legal_move(B,C,A),behind(B,E,D,A),dif...                0   \n",
       "f(A,B,C):-legal_move(B,C,A),behind(B,E,D,A),dif...                0   \n",
       "f(A,B,C):-legal_move(B,C,A),different_pos(B,C)                    1   \n",
       "\n",
       "                                                    correct_move  \\\n",
       "tactic_text                                                        \n",
       "f(A,B,C):-legal_move(B,C,A)                                    1   \n",
       "f(A,B,C):-legal_move(B,C,A),attacks(B,C,A)                     1   \n",
       "f(A,B,C):-legal_move(B,C,A),attacks(B,C,A),atta...             1   \n",
       "f(A,B,C):-legal_move(B,C,A),attacks(B,C,A),atta...             1   \n",
       "f(A,B,C):-legal_move(B,C,A),attacks(B,C,A),atta...             0   \n",
       "...                                                          ...   \n",
       "f(A,B,C):-legal_move(B,C,A),behind(B,E,D,A),dif...             0   \n",
       "f(A,B,C):-legal_move(B,C,A),behind(B,E,D,A),dif...             0   \n",
       "f(A,B,C):-legal_move(B,C,A),behind(B,E,D,A),dif...             0   \n",
       "f(A,B,C):-legal_move(B,C,A),behind(B,E,D,A),dif...             0   \n",
       "f(A,B,C):-legal_move(B,C,A),different_pos(B,C)                 1   \n",
       "\n",
       "                                                    tactic_evals  \\\n",
       "tactic_text                                                        \n",
       "f(A,B,C):-legal_move(B,C,A)                                  366   \n",
       "f(A,B,C):-legal_move(B,C,A),attacks(B,C,A)                   366   \n",
       "f(A,B,C):-legal_move(B,C,A),attacks(B,C,A),atta...           366   \n",
       "f(A,B,C):-legal_move(B,C,A),attacks(B,C,A),atta...           366   \n",
       "f(A,B,C):-legal_move(B,C,A),attacks(B,C,A),atta...             0   \n",
       "...                                                          ...   \n",
       "f(A,B,C):-legal_move(B,C,A),behind(B,E,D,A),dif...             0   \n",
       "f(A,B,C):-legal_move(B,C,A),behind(B,E,D,A),dif...             0   \n",
       "f(A,B,C):-legal_move(B,C,A),behind(B,E,D,A),dif...             0   \n",
       "f(A,B,C):-legal_move(B,C,A),behind(B,E,D,A),dif...             0   \n",
       "f(A,B,C):-legal_move(B,C,A),different_pos(B,C)               366   \n",
       "\n",
       "                                                    ground_evals  \\\n",
       "tactic_text                                                        \n",
       "f(A,B,C):-legal_move(B,C,A)                                  366   \n",
       "f(A,B,C):-legal_move(B,C,A),attacks(B,C,A)                   366   \n",
       "f(A,B,C):-legal_move(B,C,A),attacks(B,C,A),atta...           366   \n",
       "f(A,B,C):-legal_move(B,C,A),attacks(B,C,A),atta...           366   \n",
       "f(A,B,C):-legal_move(B,C,A),attacks(B,C,A),atta...           366   \n",
       "...                                                          ...   \n",
       "f(A,B,C):-legal_move(B,C,A),behind(B,E,D,A),dif...           366   \n",
       "f(A,B,C):-legal_move(B,C,A),behind(B,E,D,A),dif...           366   \n",
       "f(A,B,C):-legal_move(B,C,A),behind(B,E,D,A),dif...           366   \n",
       "f(A,B,C):-legal_move(B,C,A),behind(B,E,D,A),dif...           366   \n",
       "f(A,B,C):-legal_move(B,C,A),different_pos(B,C)               366   \n",
       "\n",
       "                                                    best_move_evals  exec_time  \n",
       "tactic_text                                                                     \n",
       "f(A,B,C):-legal_move(B,C,A)                                     366   0.080767  \n",
       "f(A,B,C):-legal_move(B,C,A),attacks(B,C,A)                      366   0.079788  \n",
       "f(A,B,C):-legal_move(B,C,A),attacks(B,C,A),atta...              366   0.082509  \n",
       "f(A,B,C):-legal_move(B,C,A),attacks(B,C,A),atta...              366   0.080564  \n",
       "f(A,B,C):-legal_move(B,C,A),attacks(B,C,A),atta...              366   0.056628  \n",
       "...                                                             ...        ...  \n",
       "f(A,B,C):-legal_move(B,C,A),behind(B,E,D,A),dif...              366   0.056805  \n",
       "f(A,B,C):-legal_move(B,C,A),behind(B,E,D,A),dif...              366   0.061047  \n",
       "f(A,B,C):-legal_move(B,C,A),behind(B,E,D,A),dif...              366   0.057390  \n",
       "f(A,B,C):-legal_move(B,C,A),behind(B,E,D,A),dif...              366   0.058581  \n",
       "f(A,B,C):-legal_move(B,C,A),different_pos(B,C)                  366   0.082664  \n",
       "\n",
       "[469 rows x 10 columns]"
      ]
     },
     "execution_count": 16,
     "metadata": {},
     "output_type": "execute_result"
    }
   ],
   "source": [
    "df2 = df.groupby('tactic_text')\n",
    "df2.describe()\n",
    "agg = df2.aggregate(np.sum)\n",
    "agg"
   ]
  },
  {
   "cell_type": "code",
   "execution_count": null,
   "metadata": {},
   "outputs": [],
   "source": [
    "agg['avg_divergence'] = agg['divergence'] / agg['matches']\n",
    "plt.hist(agg['avg_divergence'], bins=10)\n",
    "plt.axvline(agg.loc[[\"f(A,B,C):-legal_move(B,C,A)\"]]['avg_divergence'].values, linestyle='dashed')\n",
    "plt.title('Histogram of Divergence $(T_{1600},$ Stockfish 14, $P_{test})$')\n",
    "plt.xlabel('Divergence (Cp)')\n",
    "plt.ylabel('Frequency')"
   ]
  },
  {
   "cell_type": "code",
   "execution_count": null,
   "metadata": {},
   "outputs": [],
   "source": [
    "df.loc[(df['text'] == \"f(A,B,C):-legal_move(B,C,A)\")]['avg_divergence'].values"
   ]
  },
  {
   "cell_type": "code",
   "execution_count": null,
   "metadata": {},
   "outputs": [],
   "source": [
    "plt.hist(df['avg'], bins=10)\n",
    "plt.axvline(df.loc[(df['text'] == \"f(A,B,C):-legal_move(B,C,A)\")]['avg_divergence'].values, linestyle='dashed')"
   ]
  },
  {
   "cell_type": "code",
   "execution_count": null,
   "metadata": {},
   "outputs": [],
   "source": [
    "agg['coverage'] = agg['matches'] / df.groupby(['position', 'move']).ngroups\n",
    "plt.hist(agg['coverage'], bins=10)\n",
    "plt.axvline(agg.loc[[\"f(A,B,C):-legal_move(B,C,A)\"]]['coverage'].values, linestyle='dashed')\n",
    "plt.title('Histogram of Coverage $(T_{1600}$, $P_{test})$')\n",
    "plt.xlabel('Coverage')\n",
    "plt.ylabel('Frequency')"
   ]
  },
  {
   "cell_type": "code",
   "execution_count": null,
   "metadata": {},
   "outputs": [],
   "source": [
    "agg['accuracy'] = agg['correct_move'] / agg['matches']\n",
    "plt.hist(agg['accuracy'], bins=10)\n",
    "plt.axvline(agg.loc[[\"f(A,B,C):-legal_move(B,C,A)\"]]['accuracy'].values, linestyle='dashed')\n",
    "plt.title('Histogram of Accuracy $(T_{1600}$, $P_{test})$')\n",
    "plt.xlabel('Accuracy')\n",
    "plt.ylabel('Frequency')"
   ]
  },
  {
   "cell_type": "code",
   "execution_count": null,
   "metadata": {},
   "outputs": [],
   "source": [
    "plt.hist(agg['tactic_evals'], bins=10)\n",
    "plt.axvline(agg.loc[[\"f(A,B,C):-legal_move(B,C,A)\"]]['tactic_evals'].values, linestyle='dashed', color='blue', label='Random tactic evaluation')\n",
    "plt.axvline(agg.loc[[\"f(A,B,C):-legal_move(B,C,A)\"]]['ground_evals'].values, linestyle='dashed', color='green', label='Ground move evaluation')\n",
    "plt.axvline(agg.loc[[\"f(A,B,C):-legal_move(B,C,A)\"]]['best_move_evals'].values, linestyle='dashed', color='red', label='Stockfish 14 best move evaluation')\n",
    "plt.xlabel('Total Evaluation Score (Cp)')\n",
    "plt.ylabel('Frequency')\n",
    "plt.legend(loc=1)"
   ]
  },
  {
   "cell_type": "code",
   "execution_count": null,
   "metadata": {},
   "outputs": [],
   "source": [
    "final = agg.sort_values(by = ['avg_divergence'], ascending = [True])\n",
    "final"
   ]
  },
  {
   "cell_type": "code",
   "execution_count": null,
   "metadata": {},
   "outputs": [],
   "source": [
    "list(final.index)"
   ]
  },
  {
   "cell_type": "markdown",
   "metadata": {},
   "source": [
    "# Analyze Position Features"
   ]
  },
  {
   "cell_type": "code",
   "execution_count": 23,
   "metadata": {},
   "outputs": [],
   "source": [
    "df['pos_move'] = df['position'] + \",\" + df['move']"
   ]
  },
  {
   "cell_type": "code",
   "execution_count": 24,
   "metadata": {},
   "outputs": [
    {
     "data": {
      "text/html": [
       "<div>\n",
       "<style scoped>\n",
       "    .dataframe tbody tr th:only-of-type {\n",
       "        vertical-align: middle;\n",
       "    }\n",
       "\n",
       "    .dataframe tbody tr th {\n",
       "        vertical-align: top;\n",
       "    }\n",
       "\n",
       "    .dataframe thead th {\n",
       "        text-align: right;\n",
       "    }\n",
       "</style>\n",
       "<table border=\"1\" class=\"dataframe\">\n",
       "  <thead>\n",
       "    <tr style=\"text-align: right;\">\n",
       "      <th></th>\n",
       "      <th>matches</th>\n",
       "      <th>divergence</th>\n",
       "      <th>avg</th>\n",
       "      <th>empty_suggestions</th>\n",
       "      <th>num_suggestions</th>\n",
       "      <th>correct_move</th>\n",
       "      <th>tactic_evals</th>\n",
       "      <th>ground_evals</th>\n",
       "      <th>best_move_evals</th>\n",
       "      <th>exec_time</th>\n",
       "    </tr>\n",
       "    <tr>\n",
       "      <th>pos_move</th>\n",
       "      <th></th>\n",
       "      <th></th>\n",
       "      <th></th>\n",
       "      <th></th>\n",
       "      <th></th>\n",
       "      <th></th>\n",
       "      <th></th>\n",
       "      <th></th>\n",
       "      <th></th>\n",
       "      <th></th>\n",
       "    </tr>\n",
       "  </thead>\n",
       "  <tbody>\n",
       "    <tr>\n",
       "      <th>3r4/1B3p1p/4pk2/2b2p2/Q1P5/P2P2PP/5n2/5R1K w - - 1 28,h1g2</th>\n",
       "      <td>325</td>\n",
       "      <td>33927.666667</td>\n",
       "      <td>33927.666667</td>\n",
       "      <td>144</td>\n",
       "      <td>329</td>\n",
       "      <td>2</td>\n",
       "      <td>-20303</td>\n",
       "      <td>19698</td>\n",
       "      <td>19698</td>\n",
       "      <td>35.411442</td>\n",
       "    </tr>\n",
       "    <tr>\n",
       "      <th>4k3/p1p4p/1p4p1/8/8/P1Q5/5PPP/R2rK2R w KQ - 1 23,e1d1</th>\n",
       "      <td>332</td>\n",
       "      <td>13053.333333</td>\n",
       "      <td>13053.333333</td>\n",
       "      <td>137</td>\n",
       "      <td>346</td>\n",
       "      <td>9</td>\n",
       "      <td>-44656</td>\n",
       "      <td>-60970</td>\n",
       "      <td>-50652</td>\n",
       "      <td>35.921003</td>\n",
       "    </tr>\n",
       "    <tr>\n",
       "      <th>8/3N4/7p/8/2K2Npk/P6P/5PP1/8 b - - 0 49,g4g3</th>\n",
       "      <td>16</td>\n",
       "      <td>448.166667</td>\n",
       "      <td>448.166667</td>\n",
       "      <td>453</td>\n",
       "      <td>23</td>\n",
       "      <td>10</td>\n",
       "      <td>637</td>\n",
       "      <td>29547</td>\n",
       "      <td>-4690</td>\n",
       "      <td>28.130674</td>\n",
       "    </tr>\n",
       "    <tr>\n",
       "      <th>8/p7/1p6/1P2k3/PnP2R2/2K5/4N3/8 b - - 6 47,b4a2</th>\n",
       "      <td>2</td>\n",
       "      <td>226.666667</td>\n",
       "      <td>226.666667</td>\n",
       "      <td>467</td>\n",
       "      <td>6</td>\n",
       "      <td>0</td>\n",
       "      <td>-448</td>\n",
       "      <td>54404</td>\n",
       "      <td>54404</td>\n",
       "      <td>28.712242</td>\n",
       "    </tr>\n",
       "    <tr>\n",
       "      <th>r1b1qb1r/3nk1p1/2P1p2p/p3Pp1Q/4p3/B6P/P1B2PPN/R4RK1 b - - 0 18,e7d8</th>\n",
       "      <td>2</td>\n",
       "      <td>0.000000</td>\n",
       "      <td>0.000000</td>\n",
       "      <td>467</td>\n",
       "      <td>4</td>\n",
       "      <td>2</td>\n",
       "      <td>50</td>\n",
       "      <td>11725</td>\n",
       "      <td>11725</td>\n",
       "      <td>27.353722</td>\n",
       "    </tr>\n",
       "    <tr>\n",
       "      <th>r1b2rk1/pp3ppp/2n2n2/q1Pp2N1/8/P3P3/1QP2PPP/RN2KB1R w KQ - 1 13,b2c3</th>\n",
       "      <td>2</td>\n",
       "      <td>43.333333</td>\n",
       "      <td>43.333333</td>\n",
       "      <td>467</td>\n",
       "      <td>6</td>\n",
       "      <td>0</td>\n",
       "      <td>-76</td>\n",
       "      <td>12663</td>\n",
       "      <td>6566</td>\n",
       "      <td>30.567458</td>\n",
       "    </tr>\n",
       "    <tr>\n",
       "      <th>r3k2B/p1p2p1p/p6n/3b4/8/5N2/P2N1PPP/R3R1K1 b q - 1 16,d5e6</th>\n",
       "      <td>2</td>\n",
       "      <td>84.000000</td>\n",
       "      <td>84.000000</td>\n",
       "      <td>467</td>\n",
       "      <td>6</td>\n",
       "      <td>0</td>\n",
       "      <td>244</td>\n",
       "      <td>-1876</td>\n",
       "      <td>67067</td>\n",
       "      <td>28.251340</td>\n",
       "    </tr>\n",
       "    <tr>\n",
       "      <th>r4r2/1k1nq3/4p1p1/NP1bPp2/3P3p/3BQ3/1P3PPP/R1R3K1 b - - 0 27,a8a5</th>\n",
       "      <td>325</td>\n",
       "      <td>105.333333</td>\n",
       "      <td>105.333333</td>\n",
       "      <td>144</td>\n",
       "      <td>329</td>\n",
       "      <td>323</td>\n",
       "      <td>-69559</td>\n",
       "      <td>-100835</td>\n",
       "      <td>-21574</td>\n",
       "      <td>36.631233</td>\n",
       "    </tr>\n",
       "    <tr>\n",
       "      <th>rn1k1Q2/pbpp2b1/1p6/8/3P4/2N3N1/PPP3PP/4RRK1 b - - 0 21,g7f8</th>\n",
       "      <td>325</td>\n",
       "      <td>0.000000</td>\n",
       "      <td>0.000000</td>\n",
       "      <td>144</td>\n",
       "      <td>325</td>\n",
       "      <td>325</td>\n",
       "      <td>118950</td>\n",
       "      <td>171654</td>\n",
       "      <td>171654</td>\n",
       "      <td>34.761903</td>\n",
       "    </tr>\n",
       "  </tbody>\n",
       "</table>\n",
       "</div>"
      ],
      "text/plain": [
       "                                                    matches    divergence  \\\n",
       "pos_move                                                                    \n",
       "3r4/1B3p1p/4pk2/2b2p2/Q1P5/P2P2PP/5n2/5R1K w - ...      325  33927.666667   \n",
       "4k3/p1p4p/1p4p1/8/8/P1Q5/5PPP/R2rK2R w KQ - 1 2...      332  13053.333333   \n",
       "8/3N4/7p/8/2K2Npk/P6P/5PP1/8 b - - 0 49,g4g3             16    448.166667   \n",
       "8/p7/1p6/1P2k3/PnP2R2/2K5/4N3/8 b - - 6 47,b4a2           2    226.666667   \n",
       "r1b1qb1r/3nk1p1/2P1p2p/p3Pp1Q/4p3/B6P/P1B2PPN/R...        2      0.000000   \n",
       "r1b2rk1/pp3ppp/2n2n2/q1Pp2N1/8/P3P3/1QP2PPP/RN2...        2     43.333333   \n",
       "r3k2B/p1p2p1p/p6n/3b4/8/5N2/P2N1PPP/R3R1K1 b q ...        2     84.000000   \n",
       "r4r2/1k1nq3/4p1p1/NP1bPp2/3P3p/3BQ3/1P3PPP/R1R3...      325    105.333333   \n",
       "rn1k1Q2/pbpp2b1/1p6/8/3P4/2N3N1/PPP3PP/4RRK1 b ...      325      0.000000   \n",
       "\n",
       "                                                             avg  \\\n",
       "pos_move                                                           \n",
       "3r4/1B3p1p/4pk2/2b2p2/Q1P5/P2P2PP/5n2/5R1K w - ...  33927.666667   \n",
       "4k3/p1p4p/1p4p1/8/8/P1Q5/5PPP/R2rK2R w KQ - 1 2...  13053.333333   \n",
       "8/3N4/7p/8/2K2Npk/P6P/5PP1/8 b - - 0 49,g4g3          448.166667   \n",
       "8/p7/1p6/1P2k3/PnP2R2/2K5/4N3/8 b - - 6 47,b4a2       226.666667   \n",
       "r1b1qb1r/3nk1p1/2P1p2p/p3Pp1Q/4p3/B6P/P1B2PPN/R...      0.000000   \n",
       "r1b2rk1/pp3ppp/2n2n2/q1Pp2N1/8/P3P3/1QP2PPP/RN2...     43.333333   \n",
       "r3k2B/p1p2p1p/p6n/3b4/8/5N2/P2N1PPP/R3R1K1 b q ...     84.000000   \n",
       "r4r2/1k1nq3/4p1p1/NP1bPp2/3P3p/3BQ3/1P3PPP/R1R3...    105.333333   \n",
       "rn1k1Q2/pbpp2b1/1p6/8/3P4/2N3N1/PPP3PP/4RRK1 b ...      0.000000   \n",
       "\n",
       "                                                    empty_suggestions  \\\n",
       "pos_move                                                                \n",
       "3r4/1B3p1p/4pk2/2b2p2/Q1P5/P2P2PP/5n2/5R1K w - ...                144   \n",
       "4k3/p1p4p/1p4p1/8/8/P1Q5/5PPP/R2rK2R w KQ - 1 2...                137   \n",
       "8/3N4/7p/8/2K2Npk/P6P/5PP1/8 b - - 0 49,g4g3                      453   \n",
       "8/p7/1p6/1P2k3/PnP2R2/2K5/4N3/8 b - - 6 47,b4a2                   467   \n",
       "r1b1qb1r/3nk1p1/2P1p2p/p3Pp1Q/4p3/B6P/P1B2PPN/R...                467   \n",
       "r1b2rk1/pp3ppp/2n2n2/q1Pp2N1/8/P3P3/1QP2PPP/RN2...                467   \n",
       "r3k2B/p1p2p1p/p6n/3b4/8/5N2/P2N1PPP/R3R1K1 b q ...                467   \n",
       "r4r2/1k1nq3/4p1p1/NP1bPp2/3P3p/3BQ3/1P3PPP/R1R3...                144   \n",
       "rn1k1Q2/pbpp2b1/1p6/8/3P4/2N3N1/PPP3PP/4RRK1 b ...                144   \n",
       "\n",
       "                                                    num_suggestions  \\\n",
       "pos_move                                                              \n",
       "3r4/1B3p1p/4pk2/2b2p2/Q1P5/P2P2PP/5n2/5R1K w - ...              329   \n",
       "4k3/p1p4p/1p4p1/8/8/P1Q5/5PPP/R2rK2R w KQ - 1 2...              346   \n",
       "8/3N4/7p/8/2K2Npk/P6P/5PP1/8 b - - 0 49,g4g3                     23   \n",
       "8/p7/1p6/1P2k3/PnP2R2/2K5/4N3/8 b - - 6 47,b4a2                   6   \n",
       "r1b1qb1r/3nk1p1/2P1p2p/p3Pp1Q/4p3/B6P/P1B2PPN/R...                4   \n",
       "r1b2rk1/pp3ppp/2n2n2/q1Pp2N1/8/P3P3/1QP2PPP/RN2...                6   \n",
       "r3k2B/p1p2p1p/p6n/3b4/8/5N2/P2N1PPP/R3R1K1 b q ...                6   \n",
       "r4r2/1k1nq3/4p1p1/NP1bPp2/3P3p/3BQ3/1P3PPP/R1R3...              329   \n",
       "rn1k1Q2/pbpp2b1/1p6/8/3P4/2N3N1/PPP3PP/4RRK1 b ...              325   \n",
       "\n",
       "                                                    correct_move  \\\n",
       "pos_move                                                           \n",
       "3r4/1B3p1p/4pk2/2b2p2/Q1P5/P2P2PP/5n2/5R1K w - ...             2   \n",
       "4k3/p1p4p/1p4p1/8/8/P1Q5/5PPP/R2rK2R w KQ - 1 2...             9   \n",
       "8/3N4/7p/8/2K2Npk/P6P/5PP1/8 b - - 0 49,g4g3                  10   \n",
       "8/p7/1p6/1P2k3/PnP2R2/2K5/4N3/8 b - - 6 47,b4a2                0   \n",
       "r1b1qb1r/3nk1p1/2P1p2p/p3Pp1Q/4p3/B6P/P1B2PPN/R...             2   \n",
       "r1b2rk1/pp3ppp/2n2n2/q1Pp2N1/8/P3P3/1QP2PPP/RN2...             0   \n",
       "r3k2B/p1p2p1p/p6n/3b4/8/5N2/P2N1PPP/R3R1K1 b q ...             0   \n",
       "r4r2/1k1nq3/4p1p1/NP1bPp2/3P3p/3BQ3/1P3PPP/R1R3...           323   \n",
       "rn1k1Q2/pbpp2b1/1p6/8/3P4/2N3N1/PPP3PP/4RRK1 b ...           325   \n",
       "\n",
       "                                                    tactic_evals  \\\n",
       "pos_move                                                           \n",
       "3r4/1B3p1p/4pk2/2b2p2/Q1P5/P2P2PP/5n2/5R1K w - ...        -20303   \n",
       "4k3/p1p4p/1p4p1/8/8/P1Q5/5PPP/R2rK2R w KQ - 1 2...        -44656   \n",
       "8/3N4/7p/8/2K2Npk/P6P/5PP1/8 b - - 0 49,g4g3                 637   \n",
       "8/p7/1p6/1P2k3/PnP2R2/2K5/4N3/8 b - - 6 47,b4a2             -448   \n",
       "r1b1qb1r/3nk1p1/2P1p2p/p3Pp1Q/4p3/B6P/P1B2PPN/R...            50   \n",
       "r1b2rk1/pp3ppp/2n2n2/q1Pp2N1/8/P3P3/1QP2PPP/RN2...           -76   \n",
       "r3k2B/p1p2p1p/p6n/3b4/8/5N2/P2N1PPP/R3R1K1 b q ...           244   \n",
       "r4r2/1k1nq3/4p1p1/NP1bPp2/3P3p/3BQ3/1P3PPP/R1R3...        -69559   \n",
       "rn1k1Q2/pbpp2b1/1p6/8/3P4/2N3N1/PPP3PP/4RRK1 b ...        118950   \n",
       "\n",
       "                                                    ground_evals  \\\n",
       "pos_move                                                           \n",
       "3r4/1B3p1p/4pk2/2b2p2/Q1P5/P2P2PP/5n2/5R1K w - ...         19698   \n",
       "4k3/p1p4p/1p4p1/8/8/P1Q5/5PPP/R2rK2R w KQ - 1 2...        -60970   \n",
       "8/3N4/7p/8/2K2Npk/P6P/5PP1/8 b - - 0 49,g4g3               29547   \n",
       "8/p7/1p6/1P2k3/PnP2R2/2K5/4N3/8 b - - 6 47,b4a2            54404   \n",
       "r1b1qb1r/3nk1p1/2P1p2p/p3Pp1Q/4p3/B6P/P1B2PPN/R...         11725   \n",
       "r1b2rk1/pp3ppp/2n2n2/q1Pp2N1/8/P3P3/1QP2PPP/RN2...         12663   \n",
       "r3k2B/p1p2p1p/p6n/3b4/8/5N2/P2N1PPP/R3R1K1 b q ...         -1876   \n",
       "r4r2/1k1nq3/4p1p1/NP1bPp2/3P3p/3BQ3/1P3PPP/R1R3...       -100835   \n",
       "rn1k1Q2/pbpp2b1/1p6/8/3P4/2N3N1/PPP3PP/4RRK1 b ...        171654   \n",
       "\n",
       "                                                    best_move_evals  exec_time  \n",
       "pos_move                                                                        \n",
       "3r4/1B3p1p/4pk2/2b2p2/Q1P5/P2P2PP/5n2/5R1K w - ...            19698  35.411442  \n",
       "4k3/p1p4p/1p4p1/8/8/P1Q5/5PPP/R2rK2R w KQ - 1 2...           -50652  35.921003  \n",
       "8/3N4/7p/8/2K2Npk/P6P/5PP1/8 b - - 0 49,g4g3                  -4690  28.130674  \n",
       "8/p7/1p6/1P2k3/PnP2R2/2K5/4N3/8 b - - 6 47,b4a2               54404  28.712242  \n",
       "r1b1qb1r/3nk1p1/2P1p2p/p3Pp1Q/4p3/B6P/P1B2PPN/R...            11725  27.353722  \n",
       "r1b2rk1/pp3ppp/2n2n2/q1Pp2N1/8/P3P3/1QP2PPP/RN2...             6566  30.567458  \n",
       "r3k2B/p1p2p1p/p6n/3b4/8/5N2/P2N1PPP/R3R1K1 b q ...            67067  28.251340  \n",
       "r4r2/1k1nq3/4p1p1/NP1bPp2/3P3p/3BQ3/1P3PPP/R1R3...           -21574  36.631233  \n",
       "rn1k1Q2/pbpp2b1/1p6/8/3P4/2N3N1/PPP3PP/4RRK1 b ...           171654  34.761903  "
      ]
     },
     "execution_count": 24,
     "metadata": {},
     "output_type": "execute_result"
    }
   ],
   "source": [
    "df2 = df.groupby('pos_move')\n",
    "agg = df2.aggregate(np.sum)\n",
    "agg"
   ]
  },
  {
   "cell_type": "code",
   "execution_count": 17,
   "metadata": {},
   "outputs": [
    {
     "data": {
      "text/plain": [
       "Text(0, 0.5, 'Frequency')"
      ]
     },
     "execution_count": 17,
     "metadata": {},
     "output_type": "execute_result"
    },
    {
     "data": {
      "image/png": "[encoded data removed]",
      "text/plain": [
       "<Figure size 432x288 with 1 Axes>"
      ]
     },
     "metadata": {
      "needs_background": "light"
     },
     "output_type": "display_data"
    }
   ],
   "source": [
    "plt.hist(agg['exec_time'], bins=100)\n",
    "plt.title('Histogram of Execution Time $(T_{1600},$ Stockfish 14, $P_{valid})$')\n",
    "plt.xlabel('Execution Time (s)')\n",
    "plt.ylabel('Frequency')"
   ]
  },
  {
   "cell_type": "code",
   "execution_count": 18,
   "metadata": {},
   "outputs": [
    {
     "data": {
      "text/html": [
       "<div>\n",
       "<style scoped>\n",
       "    .dataframe tbody tr th:only-of-type {\n",
       "        vertical-align: middle;\n",
       "    }\n",
       "\n",
       "    .dataframe tbody tr th {\n",
       "        vertical-align: top;\n",
       "    }\n",
       "\n",
       "    .dataframe thead th {\n",
       "        text-align: right;\n",
       "    }\n",
       "</style>\n",
       "<table border=\"1\" class=\"dataframe\">\n",
       "  <thead>\n",
       "    <tr style=\"text-align: right;\">\n",
       "      <th></th>\n",
       "      <th>matches</th>\n",
       "      <th>divergence</th>\n",
       "      <th>avg</th>\n",
       "      <th>empty_suggestions</th>\n",
       "      <th>num_suggestions</th>\n",
       "      <th>correct_move</th>\n",
       "      <th>tactic_evals</th>\n",
       "      <th>ground_evals</th>\n",
       "      <th>best_move_evals</th>\n",
       "      <th>exec_time</th>\n",
       "    </tr>\n",
       "    <tr>\n",
       "      <th>tactic_text</th>\n",
       "      <th></th>\n",
       "      <th></th>\n",
       "      <th></th>\n",
       "      <th></th>\n",
       "      <th></th>\n",
       "      <th></th>\n",
       "      <th></th>\n",
       "      <th></th>\n",
       "      <th></th>\n",
       "      <th></th>\n",
       "    </tr>\n",
       "  </thead>\n",
       "  <tbody>\n",
       "  </tbody>\n",
       "</table>\n",
       "</div>"
      ],
      "text/plain": [
       "Empty DataFrame\n",
       "Columns: [matches, divergence, avg, empty_suggestions, num_suggestions, correct_move, tactic_evals, ground_evals, best_move_evals, exec_time]\n",
       "Index: []"
      ]
     },
     "execution_count": 18,
     "metadata": {},
     "output_type": "execute_result"
    }
   ],
   "source": [
    "high_exec = agg[agg['exec_time'] > 100]\n",
    "high_exec = high_exec.sort_values(by = ['exec_time'], ascending = [False])\n",
    "high_exec"
   ]
  },
  {
   "cell_type": "code",
   "execution_count": 13,
   "metadata": {},
   "outputs": [
    {
     "data": {
      "text/plain": [
       "Text(0, 0.5, 'Frequency')"
      ]
     },
     "execution_count": 13,
     "metadata": {},
     "output_type": "execute_result"
    },
    {
     "data": {
      "image/png": "[encoded data removed]",
      "text/plain": [
       "<Figure size 432x288 with 1 Axes>"
      ]
     },
     "metadata": {
      "needs_background": "light"
     },
     "output_type": "display_data"
    }
   ],
   "source": [
    "low_exec = agg[agg['exec_time'] <= 100]\n",
    "plt.hist(low_exec['exec_time'], bins=100)\n",
    "plt.title('Histogram of Execution Time $(T_{1600},$ Stockfish 14, $P_{valid})$')\n",
    "plt.xlabel('Execution Time (s)')\n",
    "plt.ylabel('Frequency')"
   ]
  },
  {
   "cell_type": "code",
   "execution_count": 26,
   "metadata": {},
   "outputs": [],
   "source": [
    "num_exs = [1, 5, 20, 100]\n",
    "time_vals = [27.5, 60 + 33, 60 * 6 + 33, 33 * 60 + 8]\n",
    "num_tactics = [9, 117, 469, 837]"
   ]
  },
  {
   "cell_type": "code",
   "execution_count": 27,
   "metadata": {},
   "outputs": [
    {
     "data": {
      "image/png": "[encoded data removed]",
      "text/plain": [
       "<Figure size 432x288 with 1 Axes>"
      ]
     },
     "metadata": {
      "needs_background": "light"
     },
     "output_type": "display_data"
    }
   ],
   "source": [
    "plt.plot(num_exs, time_vals)\n",
    "plt.xlabel('Number of train examples')\n",
    "plt.ylabel('Execution time (s)')\n",
    "plt.show()"
   ]
  },
  {
   "cell_type": "code",
   "execution_count": 28,
   "metadata": {},
   "outputs": [
    {
     "data": {
      "image/png": "[encoded data removed]",
      "text/plain": [
       "<Figure size 432x288 with 1 Axes>"
      ]
     },
     "metadata": {
      "needs_background": "light"
     },
     "output_type": "display_data"
    }
   ],
   "source": [
    "plt.plot(num_exs, num_tactics)\n",
    "plt.xlabel('Number of train examples')\n",
    "plt.ylabel('Number of tactics learned')\n",
    "plt.show()"
   ]
  },
  {
   "cell_type": "code",
   "execution_count": 29,
   "metadata": {},
   "outputs": [
    {
     "data": {
      "image/png": "[encoded data removed]",
      "text/plain": [
       "<Figure size 432x288 with 1 Axes>"
      ]
     },
     "metadata": {
      "needs_background": "light"
     },
     "output_type": "display_data"
    }
   ],
   "source": [
    "plt.plot(num_tactics, time_vals)\n",
    "plt.xlabel('Number of tactics learned')\n",
    "plt.ylabel('Execution time (s)')\n",
    "plt.show()"
   ]
  },
  {
   "cell_type": "markdown",
   "metadata": {},
   "source": [
    "# Calculate Dataset Metrics"
   ]
  },
  {
   "cell_type": "code",
   "execution_count": null,
   "metadata": {},
   "outputs": [],
   "source": [
    "from collections import Counter\n",
    "\n",
    "total_games = 0\n",
    "valid_elo = 0\n",
    "total_pos = 0\n",
    "total_elo = 0\n",
    "game_count = Counter()\n",
    "\n",
    "pgn_path = 'tactics/data/lichess_db_standard_rated_2013-01.pgn'"
   ]
  },
  {
   "cell_type": "code",
   "execution_count": null,
   "metadata": {},
   "outputs": [],
   "source": [
    "offsets = []\n",
    "handle = open(pgn_path)\n",
    "header = chess.pgn.read_headers(handle)"
   ]
  },
  {
   "cell_type": "code",
   "execution_count": null,
   "metadata": {},
   "outputs": [],
   "source": [
    "header.get('Termination')\n"
   ]
  },
  {
   "cell_type": "code",
   "execution_count": null,
   "metadata": {},
   "outputs": [],
   "source": [
    "import chess.pgn\n",
    "\n",
    "with open(pgn_path) as pgn:\n",
    "    while game := chess.pgn.read_game(pgn):\n",
    "        total_games += 1\n",
    "        white_elo = game.headers['WhiteElo']\n",
    "        black_elo = game.headers['BlackElo']\n",
    "        if '?' not in white_elo and '?' not in black_elo:\n",
    "            total_elo += int(white_elo)\n",
    "            total_elo += int(black_elo)\n",
    "            valid_elo += 1\n",
    "        game_count[game.headers['Event']] += 1"
   ]
  },
  {
   "cell_type": "code",
   "execution_count": null,
   "metadata": {},
   "outputs": [],
   "source": [
    "print('Total games', total_games)\n",
    "avg_elo = total_elo / (2 * valid_elo)\n",
    "print('Average ELO', avg_elo)"
   ]
  },
  {
   "cell_type": "code",
   "execution_count": null,
   "metadata": {},
   "outputs": [],
   "source": [
    "variance = 0\n",
    "\n",
    "with open(pgn_path) as pgn:\n",
    "    while game := chess.pgn.read_game(pgn):\n",
    "        total_games += 1\n",
    "        white_elo = game.headers['WhiteElo']\n",
    "        black_elo = game.headers['BlackElo']\n",
    "        if '?' not in white_elo and '?' not in black_elo:\n",
    "            variance += (int(white_elo) - avg_elo) ** 2\n",
    "            variance += (int(black_elo) - avg_elo) ** 2\n",
    "        game_count[game.headers['Event']] += 1"
   ]
  },
  {
   "cell_type": "code",
   "execution_count": null,
   "metadata": {},
   "outputs": [],
   "source": [
    "import math\n",
    "\n",
    "print('SD', math.sqrt(variance / valid_elo))"
   ]
  },
  {
   "cell_type": "markdown",
   "metadata": {},
   "source": [
    "# Test Evaluation"
   ]
  },
  {
   "cell_type": "code",
   "execution_count": null,
   "metadata": {},
   "outputs": [],
   "source": [
    "import chess\n",
    "import chess.engine\n",
    "from tactics.util import *\n",
    "\n",
    "board = chess.Board('r1bqk1nr/ppp2ppp/3b4/3p4/8/2PNP3/PP3PPP/RNBQKB1R b KQkq - 2 7')\n",
    "move1 = chess.Move.from_uci('g8h6')\n",
    "move2 = chess.Move.from_uci('g8f6')\n",
    "engine_path = get_lc0_cmd(LC0, MAIA_1900) + ['--verbose-move-stats']\n",
    "#engine_path = STOCKFISH\n",
    "mate_score = 2000\n",
    "n = 5"
   ]
  },
  {
   "cell_type": "code",
   "execution_count": null,
   "metadata": {},
   "outputs": [],
   "source": [
    "with chess.engine.SimpleEngine.popen_uci(engine_path) as engine:\n",
    "    analysis = engine.analyse(board, limit=chess.engine.Limit(depth=1), multipv=n, game=object())\n",
    "    top_results = [(root['pv'][0], root['score'].relative.score(mate_score=mate_score)) for root in analysis]\n",
    "    top_n_results = top_results[:n]"
   ]
  },
  {
   "cell_type": "code",
   "execution_count": null,
   "metadata": {},
   "outputs": [],
   "source": [
    "top_n_results"
   ]
  },
  {
   "cell_type": "code",
   "execution_count": null,
   "metadata": {},
   "outputs": [],
   "source": [
    "with chess.engine.SimpleEngine.popen_uci(engine_path) as engine:\n",
    "    evals = get_evals(engine, board, [move1, move2])\n",
    "evals"
   ]
  }
 ],
 "metadata": {
  "interpreter": {
   "hash": "6355374956c5778604016e244f979cc331398a530384f2842e5bccfbc3abef60"
  },
  "kernelspec": {
   "display_name": "Python 3.10.0 ('tactics')",
   "language": "python",
   "name": "python3"
  },
  "language_info": {
   "codemirror_mode": {
    "name": "ipython",
    "version": 3
   },
   "file_extension": ".py",
   "mimetype": "text/x-python",
   "name": "python",
   "nbconvert_exporter": "python",
   "pygments_lexer": "ipython3",
   "version": "3.10.0"
  },
  "orig_nbformat": 4
 },
 "nbformat": 4,
 "nbformat_minor": 2
}
