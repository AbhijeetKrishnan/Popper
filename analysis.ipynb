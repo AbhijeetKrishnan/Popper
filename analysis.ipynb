{
 "cells": [
  {
   "cell_type": "markdown",
   "metadata": {},
   "source": [
    "# Import required libraries"
   ]
  },
  {
   "cell_type": "code",
   "execution_count": 7,
   "metadata": {},
   "outputs": [],
   "source": [
    "import pandas as pd\n",
    "import matplotlib.pyplot as plt"
   ]
  },
  {
   "cell_type": "markdown",
   "metadata": {},
   "source": [
    "# Load data"
   ]
  },
  {
   "cell_type": "code",
   "execution_count": 17,
   "metadata": {},
   "outputs": [],
   "source": [
    "data_filename = 'tactics/data/stats/metrics_valid_maia1600.csv'\n",
    "df = pd.read_csv(data_filename)"
   ]
  },
  {
   "cell_type": "markdown",
   "metadata": {},
   "source": [
    "# Do analysis"
   ]
  },
  {
   "cell_type": "code",
   "execution_count": 18,
   "metadata": {},
   "outputs": [
    {
     "data": {
      "text/html": [
       "<div>\n",
       "<style scoped>\n",
       "    .dataframe tbody tr th:only-of-type {\n",
       "        vertical-align: middle;\n",
       "    }\n",
       "\n",
       "    .dataframe tbody tr th {\n",
       "        vertical-align: top;\n",
       "    }\n",
       "\n",
       "    .dataframe thead th {\n",
       "        text-align: right;\n",
       "    }\n",
       "</style>\n",
       "<table border=\"1\" class=\"dataframe\">\n",
       "  <thead>\n",
       "    <tr style=\"text-align: right;\">\n",
       "      <th></th>\n",
       "      <th>total_positions</th>\n",
       "      <th>total_matches</th>\n",
       "      <th>num_suggestions</th>\n",
       "      <th>divergence</th>\n",
       "      <th>avg</th>\n",
       "      <th>correct_move</th>\n",
       "    </tr>\n",
       "  </thead>\n",
       "  <tbody>\n",
       "    <tr>\n",
       "      <th>count</th>\n",
       "      <td>393.0</td>\n",
       "      <td>393.000000</td>\n",
       "      <td>393.000000</td>\n",
       "      <td>393.0</td>\n",
       "      <td>393.0</td>\n",
       "      <td>393.000000</td>\n",
       "    </tr>\n",
       "    <tr>\n",
       "      <th>mean</th>\n",
       "      <td>80.0</td>\n",
       "      <td>47.452926</td>\n",
       "      <td>47.452926</td>\n",
       "      <td>0.0</td>\n",
       "      <td>0.0</td>\n",
       "      <td>5.170483</td>\n",
       "    </tr>\n",
       "    <tr>\n",
       "      <th>std</th>\n",
       "      <td>0.0</td>\n",
       "      <td>2.763362</td>\n",
       "      <td>2.763362</td>\n",
       "      <td>0.0</td>\n",
       "      <td>0.0</td>\n",
       "      <td>3.029438</td>\n",
       "    </tr>\n",
       "    <tr>\n",
       "      <th>min</th>\n",
       "      <td>80.0</td>\n",
       "      <td>47.000000</td>\n",
       "      <td>47.000000</td>\n",
       "      <td>0.0</td>\n",
       "      <td>0.0</td>\n",
       "      <td>0.000000</td>\n",
       "    </tr>\n",
       "    <tr>\n",
       "      <th>25%</th>\n",
       "      <td>80.0</td>\n",
       "      <td>47.000000</td>\n",
       "      <td>47.000000</td>\n",
       "      <td>0.0</td>\n",
       "      <td>0.0</td>\n",
       "      <td>1.000000</td>\n",
       "    </tr>\n",
       "    <tr>\n",
       "      <th>50%</th>\n",
       "      <td>80.0</td>\n",
       "      <td>47.000000</td>\n",
       "      <td>47.000000</td>\n",
       "      <td>0.0</td>\n",
       "      <td>0.0</td>\n",
       "      <td>7.000000</td>\n",
       "    </tr>\n",
       "    <tr>\n",
       "      <th>75%</th>\n",
       "      <td>80.0</td>\n",
       "      <td>47.000000</td>\n",
       "      <td>47.000000</td>\n",
       "      <td>0.0</td>\n",
       "      <td>0.0</td>\n",
       "      <td>7.000000</td>\n",
       "    </tr>\n",
       "    <tr>\n",
       "      <th>max</th>\n",
       "      <td>80.0</td>\n",
       "      <td>80.000000</td>\n",
       "      <td>80.000000</td>\n",
       "      <td>0.0</td>\n",
       "      <td>0.0</td>\n",
       "      <td>11.000000</td>\n",
       "    </tr>\n",
       "  </tbody>\n",
       "</table>\n",
       "</div>"
      ],
      "text/plain": [
       "       total_positions  total_matches  num_suggestions  divergence    avg  \\\n",
       "count            393.0     393.000000       393.000000       393.0  393.0   \n",
       "mean              80.0      47.452926        47.452926         0.0    0.0   \n",
       "std                0.0       2.763362         2.763362         0.0    0.0   \n",
       "min               80.0      47.000000        47.000000         0.0    0.0   \n",
       "25%               80.0      47.000000        47.000000         0.0    0.0   \n",
       "50%               80.0      47.000000        47.000000         0.0    0.0   \n",
       "75%               80.0      47.000000        47.000000         0.0    0.0   \n",
       "max               80.0      80.000000        80.000000         0.0    0.0   \n",
       "\n",
       "       correct_move  \n",
       "count    393.000000  \n",
       "mean       5.170483  \n",
       "std        3.029438  \n",
       "min        0.000000  \n",
       "25%        1.000000  \n",
       "50%        7.000000  \n",
       "75%        7.000000  \n",
       "max       11.000000  "
      ]
     },
     "execution_count": 18,
     "metadata": {},
     "output_type": "execute_result"
    }
   ],
   "source": [
    "df.describe()"
   ]
  },
  {
   "cell_type": "code",
   "execution_count": 19,
   "metadata": {},
   "outputs": [
    {
     "data": {
      "text/html": [
       "<div>\n",
       "<style scoped>\n",
       "    .dataframe tbody tr th:only-of-type {\n",
       "        vertical-align: middle;\n",
       "    }\n",
       "\n",
       "    .dataframe tbody tr th {\n",
       "        vertical-align: top;\n",
       "    }\n",
       "\n",
       "    .dataframe thead th {\n",
       "        text-align: right;\n",
       "    }\n",
       "</style>\n",
       "<table border=\"1\" class=\"dataframe\">\n",
       "  <thead>\n",
       "    <tr style=\"text-align: right;\">\n",
       "      <th></th>\n",
       "      <th>text</th>\n",
       "      <th>total_positions</th>\n",
       "      <th>total_matches</th>\n",
       "      <th>num_suggestions</th>\n",
       "      <th>divergence</th>\n",
       "      <th>avg</th>\n",
       "      <th>correct_move</th>\n",
       "    </tr>\n",
       "  </thead>\n",
       "  <tbody>\n",
       "    <tr>\n",
       "      <th>0</th>\n",
       "      <td>f(A,B,C):-legal_move(B,C,A),attacks(B,E,A),beh...</td>\n",
       "      <td>80</td>\n",
       "      <td>47</td>\n",
       "      <td>47</td>\n",
       "      <td>0.0</td>\n",
       "      <td>0.0</td>\n",
       "      <td>7</td>\n",
       "    </tr>\n",
       "    <tr>\n",
       "      <th>1</th>\n",
       "      <td>f(A,B,C):-legal_move(B,C,A),behind(B,D,E,A),be...</td>\n",
       "      <td>80</td>\n",
       "      <td>47</td>\n",
       "      <td>47</td>\n",
       "      <td>0.0</td>\n",
       "      <td>0.0</td>\n",
       "      <td>7</td>\n",
       "    </tr>\n",
       "    <tr>\n",
       "      <th>2</th>\n",
       "      <td>f(A,B,C):-legal_move(B,C,A),behind(B,E,D,A),be...</td>\n",
       "      <td>80</td>\n",
       "      <td>47</td>\n",
       "      <td>47</td>\n",
       "      <td>0.0</td>\n",
       "      <td>0.0</td>\n",
       "      <td>7</td>\n",
       "    </tr>\n",
       "    <tr>\n",
       "      <th>3</th>\n",
       "      <td>f(A,B,C):-legal_move(B,C,A),behind(B,E,D,A),be...</td>\n",
       "      <td>80</td>\n",
       "      <td>47</td>\n",
       "      <td>47</td>\n",
       "      <td>0.0</td>\n",
       "      <td>0.0</td>\n",
       "      <td>7</td>\n",
       "    </tr>\n",
       "    <tr>\n",
       "      <th>4</th>\n",
       "      <td>f(A,B,C):-legal_move(B,C,A),attacks(B,D,A),beh...</td>\n",
       "      <td>80</td>\n",
       "      <td>47</td>\n",
       "      <td>47</td>\n",
       "      <td>0.0</td>\n",
       "      <td>0.0</td>\n",
       "      <td>1</td>\n",
       "    </tr>\n",
       "    <tr>\n",
       "      <th>...</th>\n",
       "      <td>...</td>\n",
       "      <td>...</td>\n",
       "      <td>...</td>\n",
       "      <td>...</td>\n",
       "      <td>...</td>\n",
       "      <td>...</td>\n",
       "      <td>...</td>\n",
       "    </tr>\n",
       "    <tr>\n",
       "      <th>388</th>\n",
       "      <td>f(A,B,C):-legal_move(B,C,A),behind(B,D,E,A),be...</td>\n",
       "      <td>80</td>\n",
       "      <td>47</td>\n",
       "      <td>47</td>\n",
       "      <td>0.0</td>\n",
       "      <td>0.0</td>\n",
       "      <td>0</td>\n",
       "    </tr>\n",
       "    <tr>\n",
       "      <th>389</th>\n",
       "      <td>f(A,B,C):-legal_move(B,C,A),attacks(B,D,A),beh...</td>\n",
       "      <td>80</td>\n",
       "      <td>47</td>\n",
       "      <td>47</td>\n",
       "      <td>0.0</td>\n",
       "      <td>0.0</td>\n",
       "      <td>7</td>\n",
       "    </tr>\n",
       "    <tr>\n",
       "      <th>390</th>\n",
       "      <td>f(A,B,C):-legal_move(B,C,A),behind(B,D,E,A),di...</td>\n",
       "      <td>80</td>\n",
       "      <td>47</td>\n",
       "      <td>47</td>\n",
       "      <td>0.0</td>\n",
       "      <td>0.0</td>\n",
       "      <td>0</td>\n",
       "    </tr>\n",
       "    <tr>\n",
       "      <th>391</th>\n",
       "      <td>f(A,B,C):-legal_move(B,C,A),attacks(B,C,A),beh...</td>\n",
       "      <td>80</td>\n",
       "      <td>47</td>\n",
       "      <td>47</td>\n",
       "      <td>0.0</td>\n",
       "      <td>0.0</td>\n",
       "      <td>7</td>\n",
       "    </tr>\n",
       "    <tr>\n",
       "      <th>392</th>\n",
       "      <td>f(A,B,C):-legal_move(B,C,A),behind(B,D,E,A),di...</td>\n",
       "      <td>80</td>\n",
       "      <td>47</td>\n",
       "      <td>47</td>\n",
       "      <td>0.0</td>\n",
       "      <td>0.0</td>\n",
       "      <td>0</td>\n",
       "    </tr>\n",
       "  </tbody>\n",
       "</table>\n",
       "<p>393 rows × 7 columns</p>\n",
       "</div>"
      ],
      "text/plain": [
       "                                                  text  total_positions  \\\n",
       "0    f(A,B,C):-legal_move(B,C,A),attacks(B,E,A),beh...               80   \n",
       "1    f(A,B,C):-legal_move(B,C,A),behind(B,D,E,A),be...               80   \n",
       "2    f(A,B,C):-legal_move(B,C,A),behind(B,E,D,A),be...               80   \n",
       "3    f(A,B,C):-legal_move(B,C,A),behind(B,E,D,A),be...               80   \n",
       "4    f(A,B,C):-legal_move(B,C,A),attacks(B,D,A),beh...               80   \n",
       "..                                                 ...              ...   \n",
       "388  f(A,B,C):-legal_move(B,C,A),behind(B,D,E,A),be...               80   \n",
       "389  f(A,B,C):-legal_move(B,C,A),attacks(B,D,A),beh...               80   \n",
       "390  f(A,B,C):-legal_move(B,C,A),behind(B,D,E,A),di...               80   \n",
       "391  f(A,B,C):-legal_move(B,C,A),attacks(B,C,A),beh...               80   \n",
       "392  f(A,B,C):-legal_move(B,C,A),behind(B,D,E,A),di...               80   \n",
       "\n",
       "     total_matches  num_suggestions  divergence  avg  correct_move  \n",
       "0               47               47         0.0  0.0             7  \n",
       "1               47               47         0.0  0.0             7  \n",
       "2               47               47         0.0  0.0             7  \n",
       "3               47               47         0.0  0.0             7  \n",
       "4               47               47         0.0  0.0             1  \n",
       "..             ...              ...         ...  ...           ...  \n",
       "388             47               47         0.0  0.0             0  \n",
       "389             47               47         0.0  0.0             7  \n",
       "390             47               47         0.0  0.0             0  \n",
       "391             47               47         0.0  0.0             7  \n",
       "392             47               47         0.0  0.0             0  \n",
       "\n",
       "[393 rows x 7 columns]"
      ]
     },
     "execution_count": 19,
     "metadata": {},
     "output_type": "execute_result"
    }
   ],
   "source": [
    "df"
   ]
  },
  {
   "cell_type": "code",
   "execution_count": 20,
   "metadata": {},
   "outputs": [
    {
     "data": {
      "text/plain": [
       "Text(0, 0.5, 'Frequency')"
      ]
     },
     "execution_count": 20,
     "metadata": {},
     "output_type": "execute_result"
    },
    {
     "data": {
      "image/png": "[encoded data removed]",
      "text/plain": [
       "<Figure size 432x288 with 1 Axes>"
      ]
     },
     "metadata": {
      "needs_background": "light"
     },
     "output_type": "display_data"
    }
   ],
   "source": [
    "df['avg_divergence'] = df['divergence'] / df['total_matches']\n",
    "plt.hist(df['avg_divergence'], bins=10)\n",
    "plt.axvline(df.loc[(df['text'] == \"f(A,B,C):-legal_move(B,C,A)\")]['avg_divergence'].values, linestyle='dashed')\n",
    "plt.title('Histogram of Divergence$(T_{SF},$ Stockfish 14, $P_{test})$')\n",
    "plt.xlabel('Divergence')\n",
    "plt.ylabel('Frequency')"
   ]
  },
  {
   "cell_type": "code",
   "execution_count": 72,
   "metadata": {},
   "outputs": [
    {
     "data": {
      "text/plain": [
       "array([93.075])"
      ]
     },
     "execution_count": 72,
     "metadata": {},
     "output_type": "execute_result"
    }
   ],
   "source": [
    "df.loc[(df['text'] == \"f(A,B,C):-legal_move(B,C,A)\")]['avg_divergence'].values"
   ]
  },
  {
   "cell_type": "code",
   "execution_count": 12,
   "metadata": {},
   "outputs": [
    {
     "data": {
      "text/plain": [
       "<matplotlib.lines.Line2D at 0x7f57d9701ed0>"
      ]
     },
     "execution_count": 12,
     "metadata": {},
     "output_type": "execute_result"
    },
    {
     "data": {
      "image/png": "[encoded data removed]",
      "text/plain": [
       "<Figure size 432x288 with 1 Axes>"
      ]
     },
     "metadata": {
      "needs_background": "light"
     },
     "output_type": "display_data"
    }
   ],
   "source": [
    "plt.hist(df['avg'], bins=10)\n",
    "plt.axvline(df.loc[(df['text'] == \"f(A,B,C):-legal_move(B,C,A)\")]['avg_divergence'].values, linestyle='dashed')"
   ]
  },
  {
   "cell_type": "code",
   "execution_count": 13,
   "metadata": {},
   "outputs": [
    {
     "data": {
      "text/plain": [
       "Text(0, 0.5, 'Frequency')"
      ]
     },
     "execution_count": 13,
     "metadata": {},
     "output_type": "execute_result"
    },
    {
     "data": {
      "image/png": "[encoded data removed]",
      "text/plain": [
       "<Figure size 432x288 with 1 Axes>"
      ]
     },
     "metadata": {
      "needs_background": "light"
     },
     "output_type": "display_data"
    }
   ],
   "source": [
    "df['coverage'] = df['total_matches'] / df['total_positions']\n",
    "plt.hist(df['coverage'], bins=10)\n",
    "plt.axvline(df.loc[(df['text'] == \"f(A,B,C):-legal_move(B,C,A)\")]['coverage'].values, linestyle='dashed')\n",
    "plt.title('Histogram of Coverage$(T_{SF},$ Stockfish 14, $P_{test})$')\n",
    "plt.xlabel('Coverage')\n",
    "plt.ylabel('Frequency')"
   ]
  },
  {
   "cell_type": "code",
   "execution_count": 14,
   "metadata": {},
   "outputs": [
    {
     "data": {
      "text/plain": [
       "Text(0, 0.5, 'Frequency')"
      ]
     },
     "execution_count": 14,
     "metadata": {},
     "output_type": "execute_result"
    },
    {
     "data": {
      "image/png": "[encoded data removed]",
      "text/plain": [
       "<Figure size 432x288 with 1 Axes>"
      ]
     },
     "metadata": {
      "needs_background": "light"
     },
     "output_type": "display_data"
    }
   ],
   "source": [
    "df['accuracy'] = df['correct_move'] / df['total_matches']\n",
    "plt.hist(df['accuracy'], bins=10)\n",
    "plt.axvline(df.loc[(df['text'] == \"f(A,B,C):-legal_move(B,C,A)\")]['accuracy'].values, linestyle='dashed')\n",
    "plt.title('Histogram of Accuracy$(T_{SF},$ Stockfish 14, $P_{test})$')\n",
    "plt.xlabel('Accuracy')\n",
    "plt.ylabel('Frequency')"
   ]
  },
  {
   "cell_type": "code",
   "execution_count": 15,
   "metadata": {},
   "outputs": [],
   "source": [
    "final = df.sort_values(by = ['avg_divergence', 'total_matches', 'correct_move'], ascending = [True, False, False])[:39]"
   ]
  },
  {
   "cell_type": "code",
   "execution_count": 16,
   "metadata": {},
   "outputs": [
    {
     "name": "stdout",
     "output_type": "stream",
     "text": [
      "f(A,B,C):-legal_move(B,C,A).\n",
      "f(A,B,C):-legal_move(B,C,A),attacks(B,C,A).\n",
      "f(A,B,C):-legal_move(B,C,A),attacks(B,C,A),attacks(B,D,A),different_pos(B,C),different_pos(B,D).\n",
      "f(A,B,C):-legal_move(B,C,A),attacks(B,C,A),attacks(B,D,A),different_pos(B,D).\n",
      "f(A,B,C):-legal_move(B,C,A),attacks(B,C,A),different_pos(B,C).\n",
      "f(A,B,C):-legal_move(B,C,A),attacks(B,D,A),attacks(B,E,A),behind(B,D,E,A).\n",
      "f(A,B,C):-legal_move(B,C,A),attacks(B,D,A),attacks(B,E,A),behind(B,D,E,A),different_pos(B,D).\n",
      "f(A,B,C):-legal_move(B,C,A),attacks(B,D,A),attacks(B,E,A),different_pos(B,E),different_pos(B,D).\n",
      "f(A,B,C):-legal_move(B,C,A),attacks(B,D,A),attacks(B,E,A),different_pos(C,D),different_pos(B,E).\n",
      "f(A,B,C):-legal_move(B,C,A),attacks(B,D,A),attacks(B,E,A),different_pos(C,E),different_pos(B,D).\n",
      "f(A,B,C):-legal_move(B,C,A),attacks(B,D,A),attacks(B,E,A),different_pos(C,E),different_pos(C,D).\n",
      "f(A,B,C):-legal_move(B,C,A),attacks(B,D,A),behind(B,D,E,A),behind(B,E,D,A).\n",
      "f(A,B,C):-legal_move(B,C,A),attacks(B,D,A),behind(B,D,E,A),behind(B,E,D,A),different_pos(B,C).\n",
      "f(A,B,C):-legal_move(B,C,A),attacks(B,D,A),behind(B,D,E,A),behind(B,E,D,A),different_pos(B,E).\n",
      "f(A,B,C):-legal_move(B,C,A),attacks(B,D,A),behind(B,D,E,A),different_pos(B,C),different_pos(B,E).\n",
      "f(A,B,C):-legal_move(B,C,A),attacks(B,D,A),behind(B,D,E,A),different_pos(B,E).\n",
      "f(A,B,C):-legal_move(B,C,A),attacks(B,D,A),behind(B,D,E,A),different_pos(B,E),different_pos(B,D).\n",
      "f(A,B,C):-legal_move(B,C,A),attacks(B,D,A),behind(B,E,D,A),different_pos(B,C),different_pos(B,E).\n",
      "f(A,B,C):-legal_move(B,C,A),attacks(B,D,A),different_pos(B,C),different_pos(B,D).\n",
      "f(A,B,C):-legal_move(B,C,A),attacks(B,D,A),different_pos(B,D).\n",
      "f(A,B,C):-legal_move(B,C,A),attacks(B,D,A),different_pos(C,D).\n",
      "f(A,B,C):-legal_move(B,C,A),attacks(B,D,A),different_pos(C,D),different_pos(B,C).\n",
      "f(A,B,C):-legal_move(B,C,A),attacks(B,D,A),different_pos(C,D),different_pos(B,C),different_pos(B,D).\n",
      "f(A,B,C):-legal_move(B,C,A),attacks(B,D,A),different_pos(C,D),different_pos(B,D).\n",
      "f(A,B,C):-legal_move(B,C,A),attacks(B,E,A),attacks(B,D,A),behind(B,D,E,A),behind(B,E,D,A).\n",
      "f(A,B,C):-legal_move(B,C,A),attacks(B,E,A),attacks(B,D,A),behind(B,E,D,A).\n",
      "f(A,B,C):-legal_move(B,C,A),attacks(B,E,A),behind(B,D,E,A),behind(B,E,D,A).\n",
      "f(A,B,C):-legal_move(B,C,A),attacks(B,E,A),behind(B,D,E,A),behind(B,E,D,A),different_pos(B,C).\n",
      "f(A,B,C):-legal_move(B,C,A),attacks(B,E,A),behind(B,D,E,A),behind(B,E,D,A),different_pos(B,E).\n",
      "f(A,B,C):-legal_move(B,C,A),attacks(B,E,A),behind(B,D,E,A),different_pos(B,C),different_pos(B,D).\n",
      "f(A,B,C):-legal_move(B,C,A),attacks(B,E,A),behind(B,D,E,A),different_pos(B,D).\n",
      "f(A,B,C):-legal_move(B,C,A),attacks(B,E,A),behind(B,E,D,A),different_pos(B,D).\n",
      "f(A,B,C):-legal_move(B,C,A),attacks(B,E,A),behind(B,E,D,A),different_pos(B,E),different_pos(B,D).\n",
      "f(A,B,C):-legal_move(B,C,A),behind(B,D,E,A),behind(B,E,D,A),different_pos(B,C).\n",
      "f(A,B,C):-legal_move(B,C,A),behind(B,D,E,A),behind(B,E,D,A),different_pos(B,D).\n",
      "f(A,B,C):-legal_move(B,C,A),behind(B,D,E,A),different_pos(B,C),different_pos(B,E),different_pos(B,D).\n",
      "f(A,B,C):-legal_move(B,C,A),behind(B,E,D,A),different_pos(B,C),different_pos(B,E),different_pos(B,D).\n",
      "f(A,B,C):-legal_move(B,C,A),behind(B,E,D,A),different_pos(B,E),different_pos(B,D).\n",
      "f(A,B,C):-legal_move(B,C,A),different_pos(B,C).\n"
     ]
    }
   ],
   "source": [
    "for tactic in sorted(final['text'].values.tolist()):\n",
    "    print(tactic + '.')"
   ]
  },
  {
   "cell_type": "markdown",
   "metadata": {},
   "source": [
    "# Calculate Dataset Metrics"
   ]
  },
  {
   "cell_type": "code",
   "execution_count": 14,
   "metadata": {},
   "outputs": [],
   "source": [
    "from collections import Counter\n",
    "\n",
    "total_games = 0\n",
    "valid_elo = 0\n",
    "total_pos = 0\n",
    "total_elo = 0\n",
    "game_count = Counter()\n",
    "\n",
    "pgn_path = 'tactics/data/lichess_db_standard_rated_2013-02.pgn'"
   ]
  },
  {
   "cell_type": "code",
   "execution_count": 15,
   "metadata": {},
   "outputs": [],
   "source": [
    "import chess.pgn\n",
    "\n",
    "with open(pgn_path) as pgn:\n",
    "    while game := chess.pgn.read_game(pgn):\n",
    "        total_games += 1\n",
    "        white_elo = game.headers['WhiteElo']\n",
    "        black_elo = game.headers['BlackElo']\n",
    "        if '?' not in white_elo and '?' not in black_elo:\n",
    "            total_elo += int(white_elo)\n",
    "            total_elo += int(black_elo)\n",
    "            valid_elo += 1\n",
    "        game_count[game.headers['Event']] += 1"
   ]
  },
  {
   "cell_type": "code",
   "execution_count": 19,
   "metadata": {},
   "outputs": [
    {
     "name": "stdout",
     "output_type": "stream",
     "text": [
      "Total games 245293\n",
      "Average ELO 1594.5634701202948\n"
     ]
    }
   ],
   "source": [
    "print('Total games', total_games)\n",
    "avg_elo = total_elo / (2 * valid_elo)\n",
    "print('Average ELO', avg_elo)"
   ]
  },
  {
   "cell_type": "code",
   "execution_count": 20,
   "metadata": {},
   "outputs": [],
   "source": [
    "variance = 0\n",
    "\n",
    "with open(pgn_path) as pgn:\n",
    "    while game := chess.pgn.read_game(pgn):\n",
    "        total_games += 1\n",
    "        white_elo = game.headers['WhiteElo']\n",
    "        black_elo = game.headers['BlackElo']\n",
    "        if '?' not in white_elo and '?' not in black_elo:\n",
    "            variance += (int(white_elo) - avg_elo) ** 2\n",
    "            variance += (int(black_elo) - avg_elo) ** 2\n",
    "        game_count[game.headers['Event']] += 1"
   ]
  },
  {
   "cell_type": "code",
   "execution_count": 21,
   "metadata": {},
   "outputs": [
    {
     "name": "stdout",
     "output_type": "stream",
     "text": [
      "SD 297.6346612884856\n"
     ]
    }
   ],
   "source": [
    "import math\n",
    "\n",
    "print('SD', math.sqrt(variance / valid_elo))"
   ]
  },
  {
   "cell_type": "markdown",
   "metadata": {},
   "source": [
    "# Test Evaluation"
   ]
  },
  {
   "cell_type": "code",
   "execution_count": 91,
   "metadata": {},
   "outputs": [],
   "source": [
    "import chess\n",
    "import chess.engine\n",
    "from tactics.util import *\n",
    "\n",
    "board = chess.Board('r1bqk1nr/ppp2ppp/3b4/3p4/8/2PNP3/PP3PPP/RNBQKB1R b KQkq - 2 7')\n",
    "move1 = chess.Move.from_uci('g8h6')\n",
    "move2 = chess.Move.from_uci('g8f6')\n",
    "#engine_path = get_lc0_cmd(LC0, MAIA_1900) + ['--verbose-move-stats']\n",
    "engine_path = STOCKFISH\n",
    "mate_score = 2000"
   ]
  },
  {
   "cell_type": "code",
   "execution_count": 89,
   "metadata": {},
   "outputs": [
    {
     "name": "stdout",
     "output_type": "stream",
     "text": [
      "-108\n"
     ]
    }
   ],
   "source": [
    "with chess.engine.SimpleEngine.popen_uci(engine_path) as engine:\n",
    "    tmp_board = chess.Board(board.fen())\n",
    "    tmp_board.push(move1)\n",
    "    prev_eval = engine.analyse(board, limit=chess.engine.Limit(nodes=1), game=object())\n",
    "    curr_eval = engine.analyse(tmp_board, limit=chess.engine.Limit(nodes=1), game=object())\n",
    "    orig_turn = board.turn\n",
    "    if 'pv' in prev_eval and 'pv' in curr_eval:\n",
    "        prev_score = prev_eval['score'].pov(orig_turn)\n",
    "        curr_score = curr_eval['score'].pov(orig_turn)\n",
    "        move_score = curr_score.score(mate_score=mate_score) - prev_score.score(mate_score=mate_score)\n",
    "        print(move_score)"
   ]
  },
  {
   "cell_type": "code",
   "execution_count": 87,
   "metadata": {},
   "outputs": [
    {
     "data": {
      "text/plain": [
       "int"
      ]
     },
     "execution_count": 87,
     "metadata": {},
     "output_type": "execute_result"
    }
   ],
   "source": [
    "curr_score.score()"
   ]
  },
  {
   "cell_type": "code",
   "execution_count": 92,
   "metadata": {},
   "outputs": [
    {
     "data": {
      "text/plain": [
       "[(Cp(-1152), Move.from_uci('g8h6')), (Cp(-988), Move.from_uci('g8f6'))]"
      ]
     },
     "execution_count": 92,
     "metadata": {},
     "output_type": "execute_result"
    }
   ],
   "source": [
    "with chess.engine.SimpleEngine.popen_uci(engine_path) as engine:\n",
    "    evals = get_evals(engine, board, [move1, move2])\n",
    "evals"
   ]
  }
 ],
 "metadata": {
  "interpreter": {
   "hash": "6355374956c5778604016e244f979cc331398a530384f2842e5bccfbc3abef60"
  },
  "kernelspec": {
   "display_name": "Python 3.10.0 ('tactics')",
   "language": "python",
   "name": "python3"
  },
  "language_info": {
   "codemirror_mode": {
    "name": "ipython",
    "version": 3
   },
   "file_extension": ".py",
   "mimetype": "text/x-python",
   "name": "python",
   "nbconvert_exporter": "python",
   "pygments_lexer": "ipython3",
   "version": "3.10.0"
  },
  "orig_nbformat": 4
 },
 "nbformat": 4,
 "nbformat_minor": 2
}
