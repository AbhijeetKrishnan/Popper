{
 "cells": [
  {
   "cell_type": "markdown",
   "metadata": {},
   "source": [
    "# Import required libraries"
   ]
  },
  {
   "cell_type": "code",
   "execution_count": 119,
   "metadata": {},
   "outputs": [],
   "source": [
    "import numpy as np\n",
    "import pandas as pd\n",
    "import matplotlib.pyplot as plt\n",
    "import seaborn as sns"
   ]
  },
  {
   "cell_type": "markdown",
   "metadata": {},
   "source": [
    "# Load data"
   ]
  },
  {
   "cell_type": "code",
   "execution_count": 152,
   "metadata": {},
   "outputs": [],
   "source": [
    "old_m16_path = 'tactics/data/stats/metrics_test_t_m1600_old.csv'\n",
    "none_m16_path = 'tactics/data/stats/metrics_test_t_m1600_none.csv'\n",
    "prec_m16_path = 'tactics/data/stats/metrics_test_t_m1600_prec.csv'\n",
    "rec_m16_path = 'tactics/data/stats/metrics_test_t_m1600_rec.csv'\n",
    "new_m16_path = 'tactics/data/stats/metrics_test_t_m1600_all.csv'\n",
    "\n",
    "old_sf14_path = 'tactics/data/stats/metrics_test_t_sf14_old.csv'\n",
    "none_sf14_path = 'tactics/data/stats/metrics_test_t_sf14_none.csv'\n",
    "prec_sf14_path = 'tactics/data/stats/metrics_test_t_sf14_prec.csv'\n",
    "rec_sf14_path = 'tactics/data/stats/metrics_test_t_sf14_rec.csv'\n",
    "new_sf14_path = 'tactics/data/stats/metrics_test_t_sf14_all.csv'\n",
    "\n",
    "old_m16_raw = pd.read_csv(old_m16_path)\n",
    "none_m16_raw = pd.read_csv(none_m16_path)\n",
    "rec_m16_raw = pd.read_csv(rec_m16_path)\n",
    "new_m16_raw = pd.read_csv(new_m16_path)\n",
    "\n",
    "old_sf14_raw = pd.read_csv(old_sf14_path)\n",
    "none_sf14_raw = pd.read_csv(none_sf14_path)\n",
    "prec_sf14_raw = pd.read_csv(prec_sf14_path)\n",
    "rec_sf14_raw = pd.read_csv(rec_sf14_path)\n",
    "new_sf14_raw = pd.read_csv(new_sf14_path)"
   ]
  },
  {
   "cell_type": "code",
   "execution_count": 89,
   "metadata": {},
   "outputs": [
    {
     "data": {
      "text/html": [
       "<div>\n",
       "<style scoped>\n",
       "    .dataframe tbody tr th:only-of-type {\n",
       "        vertical-align: middle;\n",
       "    }\n",
       "\n",
       "    .dataframe tbody tr th {\n",
       "        vertical-align: top;\n",
       "    }\n",
       "\n",
       "    .dataframe thead th {\n",
       "        text-align: right;\n",
       "    }\n",
       "</style>\n",
       "<table border=\"1\" class=\"dataframe\">\n",
       "  <thead>\n",
       "    <tr style=\"text-align: right;\">\n",
       "      <th></th>\n",
       "      <th>match</th>\n",
       "      <th>num_suggestions</th>\n",
       "      <th>correct_move</th>\n",
       "      <th>tactic_text</th>\n",
       "      <th>move</th>\n",
       "      <th>position</th>\n",
       "      <th>tactic_ground_div</th>\n",
       "      <th>tactic_ground_avg</th>\n",
       "    </tr>\n",
       "  </thead>\n",
       "  <tbody>\n",
       "    <tr>\n",
       "      <th>0</th>\n",
       "      <td>1</td>\n",
       "      <td>1.0</td>\n",
       "      <td>1.0</td>\n",
       "      <td>ground</td>\n",
       "      <td>c1b2</td>\n",
       "      <td>r3k2r/bpp1n1pp/p1np4/P3p3/1P6/2P1P3/3P1PPP/RNB...</td>\n",
       "      <td>0.0</td>\n",
       "      <td>0.0</td>\n",
       "    </tr>\n",
       "    <tr>\n",
       "      <th>1</th>\n",
       "      <td>1</td>\n",
       "      <td>1.0</td>\n",
       "      <td>0.0</td>\n",
       "      <td>random</td>\n",
       "      <td>c1b2</td>\n",
       "      <td>r3k2r/bpp1n1pp/p1np4/P3p3/1P6/2P1P3/3P1PPP/RNB...</td>\n",
       "      <td>21.0</td>\n",
       "      <td>21.0</td>\n",
       "    </tr>\n",
       "    <tr>\n",
       "      <th>2</th>\n",
       "      <td>1</td>\n",
       "      <td>1.0</td>\n",
       "      <td>0.0</td>\n",
       "      <td>sf14</td>\n",
       "      <td>c1b2</td>\n",
       "      <td>r3k2r/bpp1n1pp/p1np4/P3p3/1P6/2P1P3/3P1PPP/RNB...</td>\n",
       "      <td>2.0</td>\n",
       "      <td>2.0</td>\n",
       "    </tr>\n",
       "    <tr>\n",
       "      <th>3</th>\n",
       "      <td>1</td>\n",
       "      <td>1.0</td>\n",
       "      <td>0.0</td>\n",
       "      <td>maia_1600</td>\n",
       "      <td>c1b2</td>\n",
       "      <td>r3k2r/bpp1n1pp/p1np4/P3p3/1P6/2P1P3/3P1PPP/RNB...</td>\n",
       "      <td>5.0</td>\n",
       "      <td>5.0</td>\n",
       "    </tr>\n",
       "    <tr>\n",
       "      <th>4</th>\n",
       "      <td>0</td>\n",
       "      <td>NaN</td>\n",
       "      <td>NaN</td>\n",
       "      <td>f(A,B,C):-legal_move(B,C,A),attacks(B,D,A),beh...</td>\n",
       "      <td>c1b2</td>\n",
       "      <td>r3k2r/bpp1n1pp/p1np4/P3p3/1P6/2P1P3/3P1PPP/RNB...</td>\n",
       "      <td>NaN</td>\n",
       "      <td>NaN</td>\n",
       "    </tr>\n",
       "  </tbody>\n",
       "</table>\n",
       "</div>"
      ],
      "text/plain": [
       "   match  num_suggestions  correct_move  \\\n",
       "0      1              1.0           1.0   \n",
       "1      1              1.0           0.0   \n",
       "2      1              1.0           0.0   \n",
       "3      1              1.0           0.0   \n",
       "4      0              NaN           NaN   \n",
       "\n",
       "                                         tactic_text  move  \\\n",
       "0                                             ground  c1b2   \n",
       "1                                             random  c1b2   \n",
       "2                                               sf14  c1b2   \n",
       "3                                          maia_1600  c1b2   \n",
       "4  f(A,B,C):-legal_move(B,C,A),attacks(B,D,A),beh...  c1b2   \n",
       "\n",
       "                                            position  tactic_ground_div  \\\n",
       "0  r3k2r/bpp1n1pp/p1np4/P3p3/1P6/2P1P3/3P1PPP/RNB...                0.0   \n",
       "1  r3k2r/bpp1n1pp/p1np4/P3p3/1P6/2P1P3/3P1PPP/RNB...               21.0   \n",
       "2  r3k2r/bpp1n1pp/p1np4/P3p3/1P6/2P1P3/3P1PPP/RNB...                2.0   \n",
       "3  r3k2r/bpp1n1pp/p1np4/P3p3/1P6/2P1P3/3P1PPP/RNB...                5.0   \n",
       "4  r3k2r/bpp1n1pp/p1np4/P3p3/1P6/2P1P3/3P1PPP/RNB...                NaN   \n",
       "\n",
       "   tactic_ground_avg  \n",
       "0                0.0  \n",
       "1               21.0  \n",
       "2                2.0  \n",
       "3                5.0  \n",
       "4                NaN  "
      ]
     },
     "execution_count": 89,
     "metadata": {},
     "output_type": "execute_result"
    }
   ],
   "source": [
    "old_m16_raw.head()"
   ]
  },
  {
   "cell_type": "markdown",
   "metadata": {},
   "source": [
    "## Generate graphs"
   ]
  },
  {
   "cell_type": "code",
   "execution_count": 153,
   "metadata": {},
   "outputs": [],
   "source": [
    "def calculate_metrics(df): # TODO: refactor this and the method in analysis.py\n",
    "    agg = df.groupby('tactic_text').aggregate(np.nansum).reset_index()\n",
    "    agg['avg_tactic_ground_avg'] = agg['tactic_ground_avg'] / agg['match']\n",
    "    agg['coverage'] = agg['match'] / df.groupby(['position', 'move']).ngroups\n",
    "    agg['accuracy'] = agg['correct_move'] / agg['match']\n",
    "    return agg"
   ]
  },
  {
   "cell_type": "code",
   "execution_count": 91,
   "metadata": {},
   "outputs": [],
   "source": [
    "def generate_frequency_graph(df, metric_fname: str, title: str='?', xlabel: str=None, bins: int=20, left: int=0, right=None):\n",
    "    mask = df['tactic_text'].isin(['ground', 'sf14', 'maia_1600', 'random'])\n",
    "    df_masked = df[~mask]\n",
    "    plt.hist(df_masked[metric_fname], bins=bins) # exclude default tactics from histogram\n",
    "    plt.axvline(df[df['tactic_text'] == \"random\"][metric_fname].values, linestyle='dashed', color='blue', label='random move tactic')\n",
    "    plt.axvline(df[df['tactic_text'] == \"ground\"][metric_fname].values, linestyle='dashed', color='green', label='ground move tactic')\n",
    "    plt.axvline(df[df['tactic_text'] == \"sf14\"][metric_fname].values, linestyle='dashed', color='red', label='sf14 move tactic')\n",
    "    plt.axvline(df[df['tactic_text'] == \"maia_1600\"][metric_fname].values, linestyle='dashed', color='magenta', label='maia-1600 move tactic')\n",
    "    plt.title(f'Histogram of {title}')\n",
    "    plt.xlabel(xlabel if xlabel else metric_fname)\n",
    "    plt.ylabel('Frequency')\n",
    "    plt.xlim(left=left, right=right)\n",
    "    plt.legend(loc=1)\n",
    "    plt.show()"
   ]
  },
  {
   "cell_type": "code",
   "execution_count": 154,
   "metadata": {},
   "outputs": [],
   "source": [
    "old_m16 = calculate_metrics(old_m16_raw)\n",
    "none_m16 = calculate_metrics(none_m16_raw)\n",
    "prec_m16 = calculate_metrics(prec_sf14_raw)\n",
    "rec_m16 = calculate_metrics(rec_m16_raw)\n",
    "new_m16 = calculate_metrics(new_m16_raw)\n",
    "\n",
    "old_sf14 = calculate_metrics(old_sf14_raw)\n",
    "none_sf14 = calculate_metrics(none_sf14_raw)\n",
    "prec_sf14 = calculate_metrics(prec_sf14_raw)\n",
    "rec_sf14 = calculate_metrics(rec_sf14_raw)\n",
    "new_sf14 = calculate_metrics(new_sf14_raw)"
   ]
  },
  {
   "cell_type": "code",
   "execution_count": 155,
   "metadata": {},
   "outputs": [],
   "source": [
    "random_tactic = new_m16[new_m16['tactic_text'] == \"random\"]\n",
    "ground_tactic = new_m16[new_m16['tactic_text'] == \"ground\"]\n",
    "m1600_tactic = new_m16[new_m16['tactic_text'] == \"maia_1600\"]\n",
    "sf14_tactic = new_m16[new_m16['tactic_text'] == \"sf14\"]"
   ]
  },
  {
   "cell_type": "code",
   "execution_count": 93,
   "metadata": {},
   "outputs": [
    {
     "data": {
      "image/png": "[encoded data removed]",
      "text/plain": [
       "<Figure size 640x480 with 1 Axes>"
      ]
     },
     "metadata": {},
     "output_type": "display_data"
    }
   ],
   "source": [
    "generate_frequency_graph(new_m16, 'avg_tactic_ground_avg', \"Divergence $(T,$ Maia-1600, $P_{test})$\", \"Divergence (Cp)\", left=-10)"
   ]
  },
  {
   "cell_type": "code",
   "execution_count": 156,
   "metadata": {},
   "outputs": [
    {
     "data": {
      "image/png": "[encoded data removed]",
      "text/plain": [
       "<Figure size 640x480 with 1 Axes>"
      ]
     },
     "metadata": {},
     "output_type": "display_data"
    }
   ],
   "source": [
    "data = pd.DataFrame({\n",
    "    \"old\": old_m16['avg_tactic_ground_avg'],\n",
    "    \"none\": none_m16['avg_tactic_ground_avg'],\n",
    "    \"prec\": prec_m16['avg_tactic_ground_avg'],\n",
    "    \"rec\": rec_m16['avg_tactic_ground_avg'],\n",
    "    \"new\": new_m16['avg_tactic_ground_avg'],\n",
    "})\n",
    "\n",
    "rand_line = plt.axvline(random_tactic['avg_tactic_ground_avg'].values, linestyle='dashed', color='red', label='random move tactic', linewidth=1)\n",
    "ground_line = plt.axvline(ground_tactic['avg_tactic_ground_avg'].values, linestyle='dashed', color='green', label='ground move tactic', linewidth=1)\n",
    "m1600_line = plt.axvline(m1600_tactic['avg_tactic_ground_avg'].values, linestyle='dashed', color='blue', label='Maia-1600 move tactic', linewidth=1)\n",
    "sf14_line = plt.axvline(sf14_tactic['avg_tactic_ground_avg'].values, linestyle='dashed', color='magenta', label='Stockfish 14 move tactic', linewidth=1)\n",
    "\n",
    "# ax = data[[\"old\", \"none\", \"prec\", \"rec\", \"new\"]].plot(kind='box', title='Box Plot of Divergences (Maia-1600) of Tactics Learned', vert=False)\n",
    "sns.boxplot(y=\"variable\", x=\"value\", data=pd.melt(data[[\"old\", \"none\", \"prec\", \"rec\", \"new\"]]), palette='pastel')\n",
    "plt.xlabel('Divergence (Cp)')\n",
    "plt.ylabel('Tactic Sets')\n",
    "plt.title('Boxplot of Divergence (Maia-1600)')\n",
    "plt.legend(loc=1)\n",
    "plt.show()"
   ]
  },
  {
   "cell_type": "code",
   "execution_count": 157,
   "metadata": {},
   "outputs": [
    {
     "data": {
      "image/png": "[encoded data removed]",
      "text/plain": [
       "<Figure size 640x480 with 1 Axes>"
      ]
     },
     "metadata": {},
     "output_type": "display_data"
    }
   ],
   "source": [
    "data = pd.DataFrame({\n",
    "    \"old\": old_sf14['avg_tactic_ground_avg'],\n",
    "    \"none\": none_sf14['avg_tactic_ground_avg'],\n",
    "    \"prec\": prec_sf14['avg_tactic_ground_avg'],\n",
    "    \"rec\": rec_sf14['avg_tactic_ground_avg'],\n",
    "    \"new\": new_sf14['avg_tactic_ground_avg'],\n",
    "})\n",
    "\n",
    "rand_line = plt.axvline(random_tactic['avg_tactic_ground_avg'].values, linestyle='dashed', color='red', label='random move tactic', linewidth=1)\n",
    "ground_line = plt.axvline(ground_tactic['avg_tactic_ground_avg'].values, linestyle='dashed', color='green', label='ground move tactic', linewidth=1)\n",
    "m1600_line = plt.axvline(m1600_tactic['avg_tactic_ground_avg'].values, linestyle='dashed', color='blue', label='Maia-1600 move tactic', linewidth=1)\n",
    "sf14_line = plt.axvline(sf14_tactic['avg_tactic_ground_avg'].values, linestyle='dashed', color='magenta', label='Stockfish 14 move tactic', linewidth=1)\n",
    "\n",
    "# ax = data[[\"old\", \"none\", \"prec\", \"rec\", \"new\"]].plot(kind='box', title='Box Plot of Divergences (Maia-1600) of Tactics Learned', vert=False)\n",
    "sns.boxplot(y=\"variable\", x=\"value\", data=pd.melt(data[[\"old\", \"none\", \"prec\", \"rec\", \"new\"]]), palette='pastel')\n",
    "plt.xlabel('Divergence (Cp)')\n",
    "plt.ylabel('Tactic Sets')\n",
    "plt.title('Boxplot of Divergence (Stockfish 14)')\n",
    "plt.legend(loc=1)\n",
    "plt.show()"
   ]
  },
  {
   "cell_type": "code",
   "execution_count": 159,
   "metadata": {},
   "outputs": [
    {
     "name": "stdout",
     "output_type": "stream",
     "text": [
      "old m16\n",
      "match                      4.461356\n",
      "num_suggestions           41.369798\n",
      "correct_move               0.661118\n",
      "tactic_ground_div        468.522711\n",
      "tactic_ground_avg        732.285322\n",
      "avg_tactic_ground_avg    174.484153\n",
      "coverage                   0.446136\n",
      "accuracy                   0.120367\n",
      "dtype: float64 match                      1.586773\n",
      "num_suggestions           50.462433\n",
      "correct_move               0.863560\n",
      "tactic_ground_div        137.104788\n",
      "tactic_ground_avg        262.169046\n",
      "avg_tactic_ground_avg     48.693434\n",
      "coverage                   0.158677\n",
      "accuracy                   0.130892\n",
      "dtype: float64\n",
      "none m16\n",
      "match                      3.131165\n",
      "num_suggestions            3.131165\n",
      "correct_move               0.622764\n",
      "tactic_ground_div        499.567480\n",
      "tactic_ground_avg        499.567480\n",
      "avg_tactic_ground_avg    103.621904\n",
      "coverage                   0.313117\n",
      "accuracy                   0.488578\n",
      "dtype: float64 match                      3.448117\n",
      "num_suggestions            3.448117\n",
      "correct_move               0.571107\n",
      "tactic_ground_div        827.694066\n",
      "tactic_ground_avg        827.694066\n",
      "avg_tactic_ground_avg    190.314202\n",
      "coverage                   0.344812\n",
      "accuracy                   0.475121\n",
      "dtype: float64\n",
      "prec m16\n",
      "match                       3.857143\n",
      "num_suggestions             3.847425\n",
      "correct_move                0.376093\n",
      "tactic_ground_div        1870.557823\n",
      "tactic_ground_avg        1870.557823\n",
      "avg_tactic_ground_avg     461.131034\n",
      "coverage                    0.385714\n",
      "accuracy                    0.179354\n",
      "dtype: float64 match                       3.583438\n",
      "num_suggestions             3.580323\n",
      "correct_move                0.538685\n",
      "tactic_ground_div        1738.539571\n",
      "tactic_ground_avg        1738.539571\n",
      "avg_tactic_ground_avg     340.406258\n",
      "coverage                    0.358344\n",
      "accuracy                    0.337313\n",
      "dtype: float64\n",
      "rec m16\n",
      "match                      5.044386\n",
      "num_suggestions            5.044386\n",
      "correct_move               0.377023\n",
      "tactic_ground_div        743.944125\n",
      "tactic_ground_avg        743.944125\n",
      "avg_tactic_ground_avg    104.856808\n",
      "coverage                   0.504439\n",
      "accuracy                   0.065990\n",
      "dtype: float64 match                      3.497366\n",
      "num_suggestions            3.497366\n",
      "correct_move               0.556987\n",
      "tactic_ground_div        866.820324\n",
      "tactic_ground_avg        866.820324\n",
      "avg_tactic_ground_avg     84.269425\n",
      "coverage                   0.349737\n",
      "accuracy                   0.124782\n",
      "dtype: float64\n",
      "new m16\n"
     ]
    },
    {
     "name": "stderr",
     "output_type": "stream",
     "text": [
      "/tmp/ipykernel_1047/938486257.py:2: FutureWarning: Dropping of nuisance columns in DataFrame reductions (with 'numeric_only=None') is deprecated; in a future version this will raise TypeError.  Select only valid columns before calling the reduction.\n",
      "  print(old_m16.mean(), old_m16.std())\n",
      "/tmp/ipykernel_1047/938486257.py:5: FutureWarning: Dropping of nuisance columns in DataFrame reductions (with 'numeric_only=None') is deprecated; in a future version this will raise TypeError.  Select only valid columns before calling the reduction.\n",
      "  print(none_m16.mean(), none_m16.std())\n",
      "/tmp/ipykernel_1047/938486257.py:8: FutureWarning: Dropping of nuisance columns in DataFrame reductions (with 'numeric_only=None') is deprecated; in a future version this will raise TypeError.  Select only valid columns before calling the reduction.\n",
      "  print(prec_m16.mean(), prec_m16.std())\n",
      "/tmp/ipykernel_1047/938486257.py:11: FutureWarning: Dropping of nuisance columns in DataFrame reductions (with 'numeric_only=None') is deprecated; in a future version this will raise TypeError.  Select only valid columns before calling the reduction.\n",
      "  print(rec_m16.mean(), rec_m16.std())\n",
      "/tmp/ipykernel_1047/938486257.py:14: FutureWarning: Dropping of nuisance columns in DataFrame reductions (with 'numeric_only=None') is deprecated; in a future version this will raise TypeError.  Select only valid columns before calling the reduction.\n",
      "  print(new_m16.mean(), new_m16.std())\n"
     ]
    },
    {
     "name": "stdout",
     "output_type": "stream",
     "text": [
      "match                      5.097957\n",
      "num_suggestions            5.097957\n",
      "correct_move               0.371922\n",
      "tactic_ground_div        759.392876\n",
      "tactic_ground_avg        759.392876\n",
      "avg_tactic_ground_avg    106.023248\n",
      "coverage                   0.509796\n",
      "accuracy                   0.061763\n",
      "dtype: float64 match                      3.548310\n",
      "num_suggestions            3.548310\n",
      "correct_move               0.556049\n",
      "tactic_ground_div        878.662832\n",
      "tactic_ground_avg        878.662832\n",
      "avg_tactic_ground_avg     84.904761\n",
      "coverage                   0.354831\n",
      "accuracy                   0.118127\n",
      "dtype: float64\n",
      "old sf14\n",
      "match                       4.461356\n",
      "num_suggestions            41.369798\n",
      "correct_move                0.659929\n",
      "tactic_ground_div         913.120047\n",
      "tactic_ground_avg        1496.396215\n",
      "avg_tactic_ground_avg     337.564711\n",
      "coverage                    0.446136\n",
      "accuracy                    0.120248\n",
      "dtype: float64 match                      1.586773\n",
      "num_suggestions           50.462433\n",
      "correct_move               0.863782\n",
      "tactic_ground_div        336.013203\n",
      "tactic_ground_avg        614.192437\n",
      "avg_tactic_ground_avg     57.982444\n",
      "coverage                   0.158677\n",
      "accuracy                   0.130956\n",
      "dtype: float64\n",
      "none sf14\n",
      "match                       3.131707\n",
      "num_suggestions             3.120867\n",
      "correct_move                0.616802\n",
      "tactic_ground_div        1295.731165\n",
      "tactic_ground_avg        1295.731165\n",
      "avg_tactic_ground_avg     266.092860\n",
      "coverage                    0.313171\n",
      "accuracy                    0.487894\n",
      "dtype: float64 match                       3.448647\n",
      "num_suggestions             3.442749\n",
      "correct_move                0.546175\n",
      "tactic_ground_div        1763.260055\n",
      "tactic_ground_avg        1763.260055\n",
      "avg_tactic_ground_avg     318.896109\n",
      "coverage                    0.344865\n",
      "accuracy                    0.475403\n",
      "dtype: float64\n",
      "prec sf14\n",
      "match                       3.857143\n",
      "num_suggestions             3.847425\n",
      "correct_move                0.376093\n",
      "tactic_ground_div        1870.557823\n",
      "tactic_ground_avg        1870.557823\n",
      "avg_tactic_ground_avg     461.131034\n",
      "coverage                    0.385714\n",
      "accuracy                    0.179354\n",
      "dtype: float64 match                       3.583438\n",
      "num_suggestions             3.580323\n",
      "correct_move                0.538685\n",
      "tactic_ground_div        1738.539571\n",
      "tactic_ground_avg        1738.539571\n",
      "avg_tactic_ground_avg     340.406258\n",
      "coverage                    0.358344\n",
      "accuracy                    0.337313\n",
      "dtype: float64\n",
      "rec sf14\n",
      "match                       5.044386\n",
      "num_suggestions             5.033943\n",
      "correct_move                0.371279\n",
      "tactic_ground_div        2351.840209\n",
      "tactic_ground_avg        2351.840209\n",
      "avg_tactic_ground_avg     440.927299\n",
      "coverage                    0.504439\n",
      "accuracy                    0.065389\n",
      "dtype: float64 match                       3.497366\n",
      "num_suggestions             3.497483\n",
      "correct_move                0.529693\n",
      "tactic_ground_div        1679.784371\n",
      "tactic_ground_avg        1679.784371\n",
      "avg_tactic_ground_avg     270.565335\n",
      "coverage                    0.349737\n",
      "accuracy                    0.123671\n",
      "dtype: float64\n",
      "new sf14\n"
     ]
    },
    {
     "name": "stderr",
     "output_type": "stream",
     "text": [
      "/tmp/ipykernel_1047/938486257.py:17: FutureWarning: Dropping of nuisance columns in DataFrame reductions (with 'numeric_only=None') is deprecated; in a future version this will raise TypeError.  Select only valid columns before calling the reduction.\n",
      "  print(old_sf14.mean(), old_sf14.std())\n",
      "/tmp/ipykernel_1047/938486257.py:20: FutureWarning: Dropping of nuisance columns in DataFrame reductions (with 'numeric_only=None') is deprecated; in a future version this will raise TypeError.  Select only valid columns before calling the reduction.\n",
      "  print(none_sf14.mean(), none_sf14.std())\n",
      "/tmp/ipykernel_1047/938486257.py:23: FutureWarning: Dropping of nuisance columns in DataFrame reductions (with 'numeric_only=None') is deprecated; in a future version this will raise TypeError.  Select only valid columns before calling the reduction.\n",
      "  print(prec_sf14.mean(), prec_sf14.std())\n",
      "/tmp/ipykernel_1047/938486257.py:26: FutureWarning: Dropping of nuisance columns in DataFrame reductions (with 'numeric_only=None') is deprecated; in a future version this will raise TypeError.  Select only valid columns before calling the reduction.\n",
      "  print(rec_sf14.mean(), rec_sf14.std())\n",
      "/tmp/ipykernel_1047/938486257.py:29: FutureWarning: Dropping of nuisance columns in DataFrame reductions (with 'numeric_only=None') is deprecated; in a future version this will raise TypeError.  Select only valid columns before calling the reduction.\n",
      "  print(new_sf14.mean(), new_sf14.std())\n"
     ]
    },
    {
     "name": "stdout",
     "output_type": "stream",
     "text": [
      "match                       5.097957\n",
      "num_suggestions             5.087480\n",
      "correct_move                0.366160\n",
      "tactic_ground_div        2402.278680\n",
      "tactic_ground_avg        2402.278680\n",
      "avg_tactic_ground_avg     443.763048\n",
      "coverage                    0.509796\n",
      "accuracy                    0.061157\n",
      "dtype: float64 match                       3.548310\n",
      "num_suggestions             3.548584\n",
      "correct_move                0.528563\n",
      "tactic_ground_div        1703.192183\n",
      "tactic_ground_avg        1703.192183\n",
      "avg_tactic_ground_avg     263.924455\n",
      "coverage                    0.354831\n",
      "accuracy                    0.116919\n",
      "dtype: float64\n"
     ]
    }
   ],
   "source": [
    "print('old m16')\n",
    "print(old_m16.mean(), old_m16.std())\n",
    "\n",
    "print('none m16')\n",
    "print(none_m16.mean(), none_m16.std())\n",
    "\n",
    "print('prec m16')\n",
    "print(prec_m16.mean(), prec_m16.std())\n",
    "\n",
    "print('rec m16')\n",
    "print(rec_m16.mean(), rec_m16.std())\n",
    "\n",
    "print('new m16')\n",
    "print(new_m16.mean(), new_m16.std())\n",
    "\n",
    "print('old sf14')\n",
    "print(old_sf14.mean(), old_sf14.std())\n",
    "\n",
    "print('none sf14')\n",
    "print(none_sf14.mean(), none_sf14.std())\n",
    "\n",
    "print('prec sf14')\n",
    "print(prec_sf14.mean(), prec_sf14.std())\n",
    "\n",
    "print('rec sf14')\n",
    "print(rec_sf14.mean(), rec_sf14.std())\n",
    "\n",
    "print('new sf14')\n",
    "print(new_sf14.mean(), new_sf14.std())"
   ]
  },
  {
   "cell_type": "markdown",
   "metadata": {},
   "source": [
    "# Analyze Position Features"
   ]
  },
  {
   "cell_type": "code",
   "execution_count": null,
   "metadata": {},
   "outputs": [],
   "source": [
    "df['pos_move'] = df['position'] + \",\" + df['move']"
   ]
  },
  {
   "cell_type": "code",
   "execution_count": null,
   "metadata": {},
   "outputs": [],
   "source": [
    "df2 = df.groupby('pos_move')\n",
    "agg = df2.aggregate(np.sum)\n",
    "agg"
   ]
  },
  {
   "cell_type": "code",
   "execution_count": null,
   "metadata": {},
   "outputs": [],
   "source": [
    "plt.hist(agg['exec_time'], bins=100)\n",
    "plt.title('Histogram of Execution Time $(T_{1600},$ Stockfish 14, $P_{valid})$')\n",
    "plt.xlabel('Execution Time (s)')\n",
    "plt.ylabel('Frequency')"
   ]
  },
  {
   "cell_type": "code",
   "execution_count": null,
   "metadata": {},
   "outputs": [],
   "source": [
    "high_exec = agg[agg['exec_time'] > 100]\n",
    "high_exec = high_exec.sort_values(by = ['exec_time'], ascending = [False])\n",
    "high_exec"
   ]
  },
  {
   "cell_type": "code",
   "execution_count": null,
   "metadata": {},
   "outputs": [],
   "source": [
    "low_exec = agg[agg['exec_time'] <= 100]\n",
    "plt.hist(low_exec['exec_time'], bins=100)\n",
    "plt.title('Histogram of Execution Time $(T_{1600},$ Stockfish 14, $P_{valid})$')\n",
    "plt.xlabel('Execution Time (s)')\n",
    "plt.ylabel('Frequency')"
   ]
  },
  {
   "cell_type": "code",
   "execution_count": null,
   "metadata": {},
   "outputs": [],
   "source": [
    "num_exs = [1, 5, 20, 100]\n",
    "time_vals = [27.5, 60 + 33, 60 * 6 + 33, 33 * 60 + 8]\n",
    "num_tactics = [9, 117, 469, 837]"
   ]
  },
  {
   "cell_type": "code",
   "execution_count": null,
   "metadata": {},
   "outputs": [],
   "source": [
    "plt.plot(num_exs, time_vals)\n",
    "plt.xlabel('Number of train examples')\n",
    "plt.ylabel('Execution time (s)')\n",
    "plt.show()"
   ]
  },
  {
   "cell_type": "code",
   "execution_count": null,
   "metadata": {},
   "outputs": [],
   "source": [
    "plt.plot(num_exs, num_tactics)\n",
    "plt.xlabel('Number of train examples')\n",
    "plt.ylabel('Number of tactics learned')\n",
    "plt.show()"
   ]
  },
  {
   "cell_type": "code",
   "execution_count": null,
   "metadata": {},
   "outputs": [],
   "source": [
    "plt.plot(num_tactics, time_vals)\n",
    "plt.xlabel('Number of tactics learned')\n",
    "plt.ylabel('Execution time (s)')\n",
    "plt.show()"
   ]
  },
  {
   "cell_type": "markdown",
   "metadata": {},
   "source": [
    "# Calculate Dataset Metrics"
   ]
  },
  {
   "cell_type": "code",
   "execution_count": null,
   "metadata": {},
   "outputs": [],
   "source": [
    "from collections import Counter\n",
    "\n",
    "total_games = 0\n",
    "valid_elo = 0\n",
    "total_pos = 0\n",
    "total_elo = 0\n",
    "game_count = Counter()\n",
    "\n",
    "pgn_path = 'tactics/data/lichess_db_standard_rated_2013-01.pgn'"
   ]
  },
  {
   "cell_type": "code",
   "execution_count": null,
   "metadata": {},
   "outputs": [],
   "source": [
    "offsets = []\n",
    "handle = open(pgn_path)\n",
    "header = chess.pgn.read_headers(handle)"
   ]
  },
  {
   "cell_type": "code",
   "execution_count": null,
   "metadata": {},
   "outputs": [],
   "source": [
    "header.get('Termination')\n"
   ]
  },
  {
   "cell_type": "code",
   "execution_count": null,
   "metadata": {},
   "outputs": [],
   "source": [
    "import chess.pgn\n",
    "\n",
    "with open(pgn_path) as pgn:\n",
    "    while game := chess.pgn.read_game(pgn):\n",
    "        total_games += 1\n",
    "        white_elo = game.headers['WhiteElo']\n",
    "        black_elo = game.headers['BlackElo']\n",
    "        if '?' not in white_elo and '?' not in black_elo:\n",
    "            total_elo += int(white_elo)\n",
    "            total_elo += int(black_elo)\n",
    "            valid_elo += 1\n",
    "        game_count[game.headers['Event']] += 1"
   ]
  },
  {
   "cell_type": "code",
   "execution_count": null,
   "metadata": {},
   "outputs": [],
   "source": [
    "print('Total games', total_games)\n",
    "avg_elo = total_elo / (2 * valid_elo)\n",
    "print('Average ELO', avg_elo)"
   ]
  },
  {
   "cell_type": "code",
   "execution_count": null,
   "metadata": {},
   "outputs": [],
   "source": [
    "variance = 0\n",
    "\n",
    "with open(pgn_path) as pgn:\n",
    "    while game := chess.pgn.read_game(pgn):\n",
    "        total_games += 1\n",
    "        white_elo = game.headers['WhiteElo']\n",
    "        black_elo = game.headers['BlackElo']\n",
    "        if '?' not in white_elo and '?' not in black_elo:\n",
    "            variance += (int(white_elo) - avg_elo) ** 2\n",
    "            variance += (int(black_elo) - avg_elo) ** 2\n",
    "        game_count[game.headers['Event']] += 1"
   ]
  },
  {
   "cell_type": "code",
   "execution_count": null,
   "metadata": {},
   "outputs": [],
   "source": [
    "import math\n",
    "\n",
    "print('SD', math.sqrt(variance / valid_elo))"
   ]
  },
  {
   "cell_type": "markdown",
   "metadata": {},
   "source": [
    "# Test Evaluation"
   ]
  },
  {
   "cell_type": "code",
   "execution_count": null,
   "metadata": {},
   "outputs": [],
   "source": [
    "import chess\n",
    "import chess.engine\n",
    "from tactics.util import *\n",
    "\n",
    "board = chess.Board('r1bqkb1r/ppp1pnpp/3p4/7Q/8/3B4/PPP2PPP/RNB2RK1 w kq - 0 10')\n",
    "move_names = [\n",
    "    'b1c3',\n",
    "    'c1g5',\n",
    "    'd3c4',\n",
    "    'f1e1'\n",
    "]\n",
    "moves = [chess.Move.from_uci(move_name) for move_name in move_names]\n",
    "engine_path = get_lc0_cmd(LC0, MAIA_1600) + ['--nncache=0']\n",
    "#engine_path = STOCKFISH\n",
    "mate_score = 2000\n",
    "n = 10"
   ]
  },
  {
   "cell_type": "code",
   "execution_count": null,
   "metadata": {},
   "outputs": [],
   "source": [
    "with chess.engine.SimpleEngine.popen_uci(engine_path) as engine:\n",
    "    tmp_analysis = engine.analyse(board, limit=chess.engine.Limit(nodes=1), multipv=n, game=object())\n",
    "    top_results = [(root['pv'][0], root['score'].relative.score(mate_score=mate_score)) for root in tmp_analysis]\n",
    "    top_n_results = top_results[:n]\n",
    "top_n_results"
   ]
  },
  {
   "cell_type": "code",
   "execution_count": null,
   "metadata": {},
   "outputs": [],
   "source": [
    "with chess.engine.SimpleEngine.popen_uci(engine_path) as engine:\n",
    "    all_evals = get_evals(engine, board, board.legal_moves)\n",
    "    all_evals.sort(key=lambda eval: eval[1], reverse=True)\n",
    "    top_n_results = all_evals[:n]\n",
    "top_n_results"
   ]
  },
  {
   "cell_type": "code",
   "execution_count": null,
   "metadata": {},
   "outputs": [],
   "source": [
    "def get_evals(engine: chess.engine.SimpleEngine, board: chess.Board, suggestions: List[chess.Move], mate_score: int=2000) -> List[Tuple[chess.Move, int]]:\n",
    "    \"Obtain engine evaluations for a list of moves in a given position\"\n",
    "\n",
    "    evals = []\n",
    "    for move in suggestions:\n",
    "        tmp_board = chess.Board(board.fen())\n",
    "        tmp_board.push(move)\n",
    "        if tmp_board.outcome() is not None:\n",
    "            move_score = mate_score if tmp_board.is_checkmate() else -mate_score\n",
    "            evals.append((move, move_score))\n",
    "            continue\n",
    "        limit = chess.engine.Limit(nodes=1)\n",
    "        # prev_eval = engine.analyse(board, limit=limit, game=object()) # https://stackoverflow.com/a/66251120\n",
    "        # print(prev_eval) \n",
    "        curr_eval = engine.analyse(tmp_board, limit=limit, game=object())\n",
    "        print(curr_eval)\n",
    "        orig_turn = board.turn\n",
    "        if 'pv' in curr_eval:\n",
    "            # prev_score = prev_eval['score'].pov(orig_turn)\n",
    "            curr_score = curr_eval['score'].pov(orig_turn)\n",
    "            move_score = curr_score.score(mate_score=mate_score)\n",
    "            evals.append((move, move_score))\n",
    "    return evals"
   ]
  },
  {
   "cell_type": "code",
   "execution_count": null,
   "metadata": {},
   "outputs": [],
   "source": [
    "with chess.engine.SimpleEngine.popen_uci(engine_path) as engine:\n",
    "    evals = get_evals(engine, board, moves)\n",
    "evals"
   ]
  }
 ],
 "metadata": {
  "kernelspec": {
   "display_name": "Python 3",
   "language": "python",
   "name": "python3"
  },
  "language_info": {
   "codemirror_mode": {
    "name": "ipython",
    "version": 3
   },
   "file_extension": ".py",
   "mimetype": "text/x-python",
   "name": "python",
   "nbconvert_exporter": "python",
   "pygments_lexer": "ipython3",
   "version": "3.10.8"
  },
  "orig_nbformat": 4,
  "vscode": {
   "interpreter": {
    "hash": "5e324cb5850aaaec487f27f03ba9eba2477cd58aa23b6276a6301c881a1db4aa"
   }
  }
 },
 "nbformat": 4,
 "nbformat_minor": 2
}
