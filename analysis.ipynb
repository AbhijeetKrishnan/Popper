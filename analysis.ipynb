{
 "cells": [
  {
   "cell_type": "markdown",
   "metadata": {},
   "source": [
    "# Import required libraries"
   ]
  },
  {
   "cell_type": "code",
   "execution_count": 1,
   "metadata": {},
   "outputs": [],
   "source": [
    "import numpy as np\n",
    "import pandas as pd\n",
    "import matplotlib.pyplot as plt"
   ]
  },
  {
   "cell_type": "markdown",
   "metadata": {},
   "source": [
    "# Load data"
   ]
  },
  {
   "cell_type": "code",
   "execution_count": 2,
   "metadata": {},
   "outputs": [],
   "source": [
    "data_filename = 'tactics/data/stats/metrics_test_t1600_sf14.csv'\n",
    "df = pd.read_csv(data_filename)"
   ]
  },
  {
   "cell_type": "code",
   "execution_count": 3,
   "metadata": {},
   "outputs": [
    {
     "data": {
      "text/html": [
       "<div>\n",
       "<style scoped>\n",
       "    .dataframe tbody tr th:only-of-type {\n",
       "        vertical-align: middle;\n",
       "    }\n",
       "\n",
       "    .dataframe tbody tr th {\n",
       "        vertical-align: top;\n",
       "    }\n",
       "\n",
       "    .dataframe thead th {\n",
       "        text-align: right;\n",
       "    }\n",
       "</style>\n",
       "<table border=\"1\" class=\"dataframe\">\n",
       "  <thead>\n",
       "    <tr style=\"text-align: right;\">\n",
       "      <th></th>\n",
       "      <th>match</th>\n",
       "      <th>num_suggestions</th>\n",
       "      <th>correct_move</th>\n",
       "      <th>tactic_ground_div</th>\n",
       "      <th>tactic_ground_avg</th>\n",
       "    </tr>\n",
       "  </thead>\n",
       "  <tbody>\n",
       "    <tr>\n",
       "      <th>count</th>\n",
       "      <td>8390.000000</td>\n",
       "      <td>3732.000000</td>\n",
       "      <td>3732.000000</td>\n",
       "      <td>3732.000000</td>\n",
       "      <td>3732.000000</td>\n",
       "    </tr>\n",
       "    <tr>\n",
       "      <th>mean</th>\n",
       "      <td>0.444815</td>\n",
       "      <td>9.317256</td>\n",
       "      <td>0.147374</td>\n",
       "      <td>105.426742</td>\n",
       "      <td>164.865208</td>\n",
       "    </tr>\n",
       "    <tr>\n",
       "      <th>std</th>\n",
       "      <td>0.496975</td>\n",
       "      <td>14.147104</td>\n",
       "      <td>0.354526</td>\n",
       "      <td>154.776286</td>\n",
       "      <td>223.989425</td>\n",
       "    </tr>\n",
       "    <tr>\n",
       "      <th>min</th>\n",
       "      <td>0.000000</td>\n",
       "      <td>1.000000</td>\n",
       "      <td>0.000000</td>\n",
       "      <td>0.000000</td>\n",
       "      <td>0.000000</td>\n",
       "    </tr>\n",
       "    <tr>\n",
       "      <th>25%</th>\n",
       "      <td>0.000000</td>\n",
       "      <td>2.000000</td>\n",
       "      <td>0.000000</td>\n",
       "      <td>13.400686</td>\n",
       "      <td>19.375000</td>\n",
       "    </tr>\n",
       "    <tr>\n",
       "      <th>50%</th>\n",
       "      <td>0.000000</td>\n",
       "      <td>4.000000</td>\n",
       "      <td>0.000000</td>\n",
       "      <td>32.636069</td>\n",
       "      <td>51.000000</td>\n",
       "    </tr>\n",
       "    <tr>\n",
       "      <th>75%</th>\n",
       "      <td>1.000000</td>\n",
       "      <td>9.000000</td>\n",
       "      <td>0.000000</td>\n",
       "      <td>100.204720</td>\n",
       "      <td>276.500000</td>\n",
       "    </tr>\n",
       "    <tr>\n",
       "      <th>max</th>\n",
       "      <td>1.000000</td>\n",
       "      <td>77.000000</td>\n",
       "      <td>1.000000</td>\n",
       "      <td>525.037171</td>\n",
       "      <td>813.000000</td>\n",
       "    </tr>\n",
       "  </tbody>\n",
       "</table>\n",
       "</div>"
      ],
      "text/plain": [
       "             match  num_suggestions  correct_move  tactic_ground_div  \\\n",
       "count  8390.000000      3732.000000   3732.000000        3732.000000   \n",
       "mean      0.444815         9.317256      0.147374         105.426742   \n",
       "std       0.496975        14.147104      0.354526         154.776286   \n",
       "min       0.000000         1.000000      0.000000           0.000000   \n",
       "25%       0.000000         2.000000      0.000000          13.400686   \n",
       "50%       0.000000         4.000000      0.000000          32.636069   \n",
       "75%       1.000000         9.000000      0.000000         100.204720   \n",
       "max       1.000000        77.000000      1.000000         525.037171   \n",
       "\n",
       "       tactic_ground_avg  \n",
       "count        3732.000000  \n",
       "mean          164.865208  \n",
       "std           223.989425  \n",
       "min             0.000000  \n",
       "25%            19.375000  \n",
       "50%            51.000000  \n",
       "75%           276.500000  \n",
       "max           813.000000  "
      ]
     },
     "execution_count": 3,
     "metadata": {},
     "output_type": "execute_result"
    }
   ],
   "source": [
    "df.describe()"
   ]
  },
  {
   "cell_type": "markdown",
   "metadata": {},
   "source": [
    "## Generate graphs"
   ]
  },
  {
   "cell_type": "code",
   "execution_count": 5,
   "metadata": {},
   "outputs": [],
   "source": [
    "def calculate_metrics(df): # TODO: refactor this and the method in analysis.py\n",
    "    agg = df.groupby('tactic_text').aggregate(np.nansum).reset_index()\n",
    "    agg['avg_tactic_ground_avg'] = agg['tactic_ground_avg'] / agg['match']\n",
    "    agg['coverage'] = agg['match'] / df.groupby(['position', 'move']).ngroups\n",
    "    agg['accuracy'] = agg['correct_move'] / agg['match']\n",
    "    return agg"
   ]
  },
  {
   "cell_type": "code",
   "execution_count": 12,
   "metadata": {},
   "outputs": [],
   "source": [
    "def generate_frequency_graph(df, metric_fname: str, title: str='?', xlabel: str=None, bins: int=20, left: int=0, right=None):\n",
    "    mask = df['tactic_text'].isin(['ground', 'sf14', 'maia_1600', 'random'])\n",
    "    df_masked = df[~mask]\n",
    "    plt.hist(df_masked[metric_fname], bins=bins) # exclude default tactics from histogram\n",
    "    plt.axvline(df[df['tactic_text'] == \"random\"][metric_fname].values, linestyle='dashed', color='blue', label='random move tactic')\n",
    "    plt.axvline(df[df['tactic_text'] == \"ground\"][metric_fname].values, linestyle='dashed', color='green', label='ground move tactic')\n",
    "    plt.axvline(df[df['tactic_text'] == \"sf14\"][metric_fname].values, linestyle='dashed', color='red', label='sf14 move tactic')\n",
    "    plt.axvline(df[df['tactic_text'] == \"maia_1600\"][metric_fname].values, linestyle='dashed', color='magenta', label='maia-1600 move tactic')\n",
    "    plt.title(f'Histogram of {title}')\n",
    "    plt.xlabel(xlabel if xlabel else metric_fname)\n",
    "    plt.ylabel('Frequency')\n",
    "    plt.xlim(left=left, right=right)\n",
    "    plt.legend(loc=1)\n",
    "    plt.show()"
   ]
  },
  {
   "cell_type": "code",
   "execution_count": 7,
   "metadata": {},
   "outputs": [],
   "source": [
    "df_metrics = calculate_metrics(df)"
   ]
  },
  {
   "cell_type": "code",
   "execution_count": 13,
   "metadata": {},
   "outputs": [
    {
     "data": {
      "image/png": "[encoded data removed]",
      "text/plain": [
       "<Figure size 432x288 with 1 Axes>"
      ]
     },
     "metadata": {
      "needs_background": "light"
     },
     "output_type": "display_data"
    }
   ],
   "source": [
    "generate_frequency_graph(df_metrics, 'avg_tactic_ground_avg', \"Divergence $(T,$ Maia-1600, $P_{test})$\", \"Divergence (Cp)\", left=-10)"
   ]
  },
  {
   "cell_type": "code",
   "execution_count": 14,
   "metadata": {},
   "outputs": [
    {
     "data": {
      "image/png": "[encoded data removed]",
      "text/plain": [
       "<Figure size 432x288 with 1 Axes>"
      ]
     },
     "metadata": {
      "needs_background": "light"
     },
     "output_type": "display_data"
    }
   ],
   "source": [
    "generate_frequency_graph(df_metrics, 'coverage', \"Coverage $(T,$ $P_{test})$\", \"Coverage\")"
   ]
  },
  {
   "cell_type": "code",
   "execution_count": 15,
   "metadata": {},
   "outputs": [
    {
     "data": {
      "image/png": "[encoded data removed]",
      "text/plain": [
       "<Figure size 432x288 with 1 Axes>"
      ]
     },
     "metadata": {
      "needs_background": "light"
     },
     "output_type": "display_data"
    }
   ],
   "source": [
    "generate_frequency_graph(df_metrics, 'accuracy', \"Accuracy $(T,$ $P_{test})$\", \"Accuracy\", left=-0.1, right=1.1)"
   ]
  },
  {
   "cell_type": "code",
   "execution_count": 22,
   "metadata": {},
   "outputs": [
    {
     "data": {
      "text/html": [
       "<div>\n",
       "<style scoped>\n",
       "    .dataframe tbody tr th:only-of-type {\n",
       "        vertical-align: middle;\n",
       "    }\n",
       "\n",
       "    .dataframe tbody tr th {\n",
       "        vertical-align: top;\n",
       "    }\n",
       "\n",
       "    .dataframe thead th {\n",
       "        text-align: right;\n",
       "    }\n",
       "</style>\n",
       "<table border=\"1\" class=\"dataframe\">\n",
       "  <thead>\n",
       "    <tr style=\"text-align: right;\">\n",
       "      <th></th>\n",
       "      <th>tactic_text</th>\n",
       "      <th>match</th>\n",
       "      <th>num_suggestions</th>\n",
       "      <th>correct_move</th>\n",
       "      <th>tactic_ground_div</th>\n",
       "      <th>tactic_ground_avg</th>\n",
       "      <th>avg_tactic_ground_avg</th>\n",
       "      <th>coverage</th>\n",
       "      <th>accuracy</th>\n",
       "    </tr>\n",
       "  </thead>\n",
       "  <tbody>\n",
       "    <tr>\n",
       "      <th>493</th>\n",
       "      <td>f(A,B,C):-legal_move(B,C,A),behind(B,C,D,A),be...</td>\n",
       "      <td>6</td>\n",
       "      <td>30.0</td>\n",
       "      <td>1.0</td>\n",
       "      <td>1128.877469</td>\n",
       "      <td>1723.055556</td>\n",
       "      <td>287.175926</td>\n",
       "      <td>0.6</td>\n",
       "      <td>0.166667</td>\n",
       "    </tr>\n",
       "  </tbody>\n",
       "</table>\n",
       "</div>"
      ],
      "text/plain": [
       "                                           tactic_text  match  \\\n",
       "493  f(A,B,C):-legal_move(B,C,A),behind(B,C,D,A),be...      6   \n",
       "\n",
       "     num_suggestions  correct_move  tactic_ground_div  tactic_ground_avg  \\\n",
       "493             30.0           1.0        1128.877469        1723.055556   \n",
       "\n",
       "     avg_tactic_ground_avg  coverage  accuracy  \n",
       "493             287.175926       0.6  0.166667  "
      ]
     },
     "execution_count": 22,
     "metadata": {},
     "output_type": "execute_result"
    }
   ],
   "source": [
    "final = df_metrics.sort_values(by = ['coverage'], ascending = [False])\n",
    "final[final['tactic_text'] == 'f(A,B,C):-legal_move(B,C,A),behind(B,C,D,A),behind(B,D,E,A),behind(B,E,D,A),behind(B,D,C,A)']"
   ]
  },
  {
   "cell_type": "code",
   "execution_count": null,
   "metadata": {},
   "outputs": [],
   "source": [
    "mask = agg['tactic_text'].isin(['ground', 'engine_best'])\n",
    "agg_masked = agg[~mask]\n",
    "avg_div = agg_masked['avg_tactic_ground_div'].mean()\n",
    "random_div = agg[agg['tactic_text'] == \"f(A,B,C):-legal_move(B,C,A)\"]['avg_tactic_ground_div'].values\n",
    "(random_div - avg_div) / random_div * 100"
   ]
  },
  {
   "cell_type": "markdown",
   "metadata": {},
   "source": [
    "# Analyze Position Features"
   ]
  },
  {
   "cell_type": "code",
   "execution_count": null,
   "metadata": {},
   "outputs": [],
   "source": [
    "df['pos_move'] = df['position'] + \",\" + df['move']"
   ]
  },
  {
   "cell_type": "code",
   "execution_count": null,
   "metadata": {},
   "outputs": [],
   "source": [
    "df2 = df.groupby('pos_move')\n",
    "agg = df2.aggregate(np.sum)\n",
    "agg"
   ]
  },
  {
   "cell_type": "code",
   "execution_count": null,
   "metadata": {},
   "outputs": [],
   "source": [
    "plt.hist(agg['exec_time'], bins=100)\n",
    "plt.title('Histogram of Execution Time $(T_{1600},$ Stockfish 14, $P_{valid})$')\n",
    "plt.xlabel('Execution Time (s)')\n",
    "plt.ylabel('Frequency')"
   ]
  },
  {
   "cell_type": "code",
   "execution_count": null,
   "metadata": {},
   "outputs": [],
   "source": [
    "high_exec = agg[agg['exec_time'] > 100]\n",
    "high_exec = high_exec.sort_values(by = ['exec_time'], ascending = [False])\n",
    "high_exec"
   ]
  },
  {
   "cell_type": "code",
   "execution_count": null,
   "metadata": {},
   "outputs": [],
   "source": [
    "low_exec = agg[agg['exec_time'] <= 100]\n",
    "plt.hist(low_exec['exec_time'], bins=100)\n",
    "plt.title('Histogram of Execution Time $(T_{1600},$ Stockfish 14, $P_{valid})$')\n",
    "plt.xlabel('Execution Time (s)')\n",
    "plt.ylabel('Frequency')"
   ]
  },
  {
   "cell_type": "code",
   "execution_count": null,
   "metadata": {},
   "outputs": [],
   "source": [
    "num_exs = [1, 5, 20, 100]\n",
    "time_vals = [27.5, 60 + 33, 60 * 6 + 33, 33 * 60 + 8]\n",
    "num_tactics = [9, 117, 469, 837]"
   ]
  },
  {
   "cell_type": "code",
   "execution_count": null,
   "metadata": {},
   "outputs": [],
   "source": [
    "plt.plot(num_exs, time_vals)\n",
    "plt.xlabel('Number of train examples')\n",
    "plt.ylabel('Execution time (s)')\n",
    "plt.show()"
   ]
  },
  {
   "cell_type": "code",
   "execution_count": null,
   "metadata": {},
   "outputs": [],
   "source": [
    "plt.plot(num_exs, num_tactics)\n",
    "plt.xlabel('Number of train examples')\n",
    "plt.ylabel('Number of tactics learned')\n",
    "plt.show()"
   ]
  },
  {
   "cell_type": "code",
   "execution_count": null,
   "metadata": {},
   "outputs": [],
   "source": [
    "plt.plot(num_tactics, time_vals)\n",
    "plt.xlabel('Number of tactics learned')\n",
    "plt.ylabel('Execution time (s)')\n",
    "plt.show()"
   ]
  },
  {
   "cell_type": "markdown",
   "metadata": {},
   "source": [
    "# Calculate Dataset Metrics"
   ]
  },
  {
   "cell_type": "code",
   "execution_count": null,
   "metadata": {},
   "outputs": [],
   "source": [
    "from collections import Counter\n",
    "\n",
    "total_games = 0\n",
    "valid_elo = 0\n",
    "total_pos = 0\n",
    "total_elo = 0\n",
    "game_count = Counter()\n",
    "\n",
    "pgn_path = 'tactics/data/lichess_db_standard_rated_2013-01.pgn'"
   ]
  },
  {
   "cell_type": "code",
   "execution_count": null,
   "metadata": {},
   "outputs": [],
   "source": [
    "offsets = []\n",
    "handle = open(pgn_path)\n",
    "header = chess.pgn.read_headers(handle)"
   ]
  },
  {
   "cell_type": "code",
   "execution_count": null,
   "metadata": {},
   "outputs": [],
   "source": [
    "header.get('Termination')\n"
   ]
  },
  {
   "cell_type": "code",
   "execution_count": null,
   "metadata": {},
   "outputs": [],
   "source": [
    "import chess.pgn\n",
    "\n",
    "with open(pgn_path) as pgn:\n",
    "    while game := chess.pgn.read_game(pgn):\n",
    "        total_games += 1\n",
    "        white_elo = game.headers['WhiteElo']\n",
    "        black_elo = game.headers['BlackElo']\n",
    "        if '?' not in white_elo and '?' not in black_elo:\n",
    "            total_elo += int(white_elo)\n",
    "            total_elo += int(black_elo)\n",
    "            valid_elo += 1\n",
    "        game_count[game.headers['Event']] += 1"
   ]
  },
  {
   "cell_type": "code",
   "execution_count": null,
   "metadata": {},
   "outputs": [],
   "source": [
    "print('Total games', total_games)\n",
    "avg_elo = total_elo / (2 * valid_elo)\n",
    "print('Average ELO', avg_elo)"
   ]
  },
  {
   "cell_type": "code",
   "execution_count": null,
   "metadata": {},
   "outputs": [],
   "source": [
    "variance = 0\n",
    "\n",
    "with open(pgn_path) as pgn:\n",
    "    while game := chess.pgn.read_game(pgn):\n",
    "        total_games += 1\n",
    "        white_elo = game.headers['WhiteElo']\n",
    "        black_elo = game.headers['BlackElo']\n",
    "        if '?' not in white_elo and '?' not in black_elo:\n",
    "            variance += (int(white_elo) - avg_elo) ** 2\n",
    "            variance += (int(black_elo) - avg_elo) ** 2\n",
    "        game_count[game.headers['Event']] += 1"
   ]
  },
  {
   "cell_type": "code",
   "execution_count": null,
   "metadata": {},
   "outputs": [],
   "source": [
    "import math\n",
    "\n",
    "print('SD', math.sqrt(variance / valid_elo))"
   ]
  },
  {
   "cell_type": "markdown",
   "metadata": {},
   "source": [
    "# Test Evaluation"
   ]
  },
  {
   "cell_type": "code",
   "execution_count": null,
   "metadata": {},
   "outputs": [],
   "source": [
    "import chess\n",
    "import chess.engine\n",
    "from tactics.util import *\n",
    "\n",
    "board = chess.Board('r1bqkb1r/ppp1pnpp/3p4/7Q/8/3B4/PPP2PPP/RNB2RK1 w kq - 0 10')\n",
    "move_names = [\n",
    "    'b1c3',\n",
    "    'c1g5',\n",
    "    'd3c4',\n",
    "    'f1e1'\n",
    "]\n",
    "moves = [chess.Move.from_uci(move_name) for move_name in move_names]\n",
    "engine_path = get_lc0_cmd(LC0, MAIA_1600) + ['--nncache=0']\n",
    "#engine_path = STOCKFISH\n",
    "mate_score = 2000\n",
    "n = 10"
   ]
  },
  {
   "cell_type": "code",
   "execution_count": null,
   "metadata": {},
   "outputs": [],
   "source": [
    "with chess.engine.SimpleEngine.popen_uci(engine_path) as engine:\n",
    "    tmp_analysis = engine.analyse(board, limit=chess.engine.Limit(nodes=1), multipv=n, game=object())\n",
    "    top_results = [(root['pv'][0], root['score'].relative.score(mate_score=mate_score)) for root in tmp_analysis]\n",
    "    top_n_results = top_results[:n]\n",
    "top_n_results"
   ]
  },
  {
   "cell_type": "code",
   "execution_count": null,
   "metadata": {},
   "outputs": [],
   "source": [
    "with chess.engine.SimpleEngine.popen_uci(engine_path) as engine:\n",
    "    all_evals = get_evals(engine, board, board.legal_moves)\n",
    "    all_evals.sort(key=lambda eval: eval[1], reverse=True)\n",
    "    top_n_results = all_evals[:n]\n",
    "top_n_results"
   ]
  },
  {
   "cell_type": "code",
   "execution_count": null,
   "metadata": {},
   "outputs": [],
   "source": [
    "def get_evals(engine: chess.engine.SimpleEngine, board: chess.Board, suggestions: List[chess.Move], mate_score: int=2000) -> List[Tuple[chess.Move, int]]:\n",
    "    \"Obtain engine evaluations for a list of moves in a given position\"\n",
    "\n",
    "    evals = []\n",
    "    for move in suggestions:\n",
    "        tmp_board = chess.Board(board.fen())\n",
    "        tmp_board.push(move)\n",
    "        if tmp_board.outcome() is not None:\n",
    "            move_score = mate_score if tmp_board.is_checkmate() else -mate_score\n",
    "            evals.append((move, move_score))\n",
    "            continue\n",
    "        limit = chess.engine.Limit(nodes=1)\n",
    "        # prev_eval = engine.analyse(board, limit=limit, game=object()) # https://stackoverflow.com/a/66251120\n",
    "        # print(prev_eval) \n",
    "        curr_eval = engine.analyse(tmp_board, limit=limit, game=object())\n",
    "        print(curr_eval)\n",
    "        orig_turn = board.turn\n",
    "        if 'pv' in curr_eval:\n",
    "            # prev_score = prev_eval['score'].pov(orig_turn)\n",
    "            curr_score = curr_eval['score'].pov(orig_turn)\n",
    "            move_score = curr_score.score(mate_score=mate_score)\n",
    "            evals.append((move, move_score))\n",
    "    return evals"
   ]
  },
  {
   "cell_type": "code",
   "execution_count": null,
   "metadata": {},
   "outputs": [],
   "source": [
    "with chess.engine.SimpleEngine.popen_uci(engine_path) as engine:\n",
    "    evals = get_evals(engine, board, moves)\n",
    "evals"
   ]
  }
 ],
 "metadata": {
  "interpreter": {
   "hash": "6355374956c5778604016e244f979cc331398a530384f2842e5bccfbc3abef60"
  },
  "kernelspec": {
   "display_name": "Python 3.10.0 ('tactics')",
   "language": "python",
   "name": "python3"
  },
  "language_info": {
   "codemirror_mode": {
    "name": "ipython",
    "version": 3
   },
   "file_extension": ".py",
   "mimetype": "text/x-python",
   "name": "python",
   "nbconvert_exporter": "python",
   "pygments_lexer": "ipython3",
   "version": "3.10.0"
  },
  "orig_nbformat": 4
 },
 "nbformat": 4,
 "nbformat_minor": 2
}
